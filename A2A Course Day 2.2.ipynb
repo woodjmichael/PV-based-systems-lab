{
 "cells": [
  {
   "cell_type": "markdown",
   "metadata": {},
   "source": [
    "# Introduction to Python"
   ]
  },
  {
   "cell_type": "markdown",
   "metadata": {},
   "source": [
    "## Outline\n",
    "\n",
    "1. What _is_ a Jupyter notebook\n",
    "2. What _is_ Google Colab?\n",
    "3. What _is_ python\n",
    "4. Environments\n",
    "5. Matrix Algebra and Parallelization"
   ]
  },
  {
   "cell_type": "markdown",
   "metadata": {},
   "source": [
    "## Terms\n",
    "\n",
    "Like in many disciplines, there is a simple informal language and a more precise formal one.\n",
    "\n",
    "Terms in **bold** will appear here.\n",
    "\n",
    "| Informal EN | Informale IT | Technical | Description |\n",
    "| --- | --- | --- | --- |\n",
    "| File/Code | Codice | Script | A file of python commands which can be run directly |\n",
    "| Run | Girare | Execute | Read and act on each line of python code |\n",
    "| Program (python) | App (piton) | Interpreter | Large and multi-featured set of codes with a single user interface |\n",
    "| Folder | Cartella | Directory | Location on a computer |\n",
    "| Notebook | Notebook | Jupyter Notebook | Document containing both executable code and rich text |"
   ]
  },
  {
   "cell_type": "markdown",
   "metadata": {},
   "source": [
    "# What _is_ a Jupyter notebook?\n",
    "\n",
    "<img src=\"jupyter.png\" width=\"200\">\n",
    "\n",
    "\n",
    "Well, it's this.\n",
    "\n",
    "A Jupyter¹ notebook combines together in one file:\n",
    "- code that you can run directly\n",
    "- human-friendly text, tables, and images\n",
    "\n",
    "Notebooks are great for learning and experiments. No professional, \"production\" code runs in a notebook.\n",
    "\n",
    "¹So, Gyove in Italian?"
   ]
  },
  {
   "cell_type": "markdown",
   "metadata": {},
   "source": [
    "# What _is_ Google Colab?\n",
    "\n",
    "<img src=\"colab.jpg\" width=\"200\">\n",
    "<br>\n",
    "<img src=\"colab.png\" width=\"700\">\n",
    "\n",
    "Well, it's also this.\n",
    "\n",
    "Colab (Colaboratory) lets you run code on extra Google cloud computers in a Jupyter notebook.\n",
    "\n",
    "Colab is great for learning and small experiments, but computing resources are very limited."
   ]
  },
  {
   "cell_type": "markdown",
   "metadata": {},
   "source": [
    "# What _is_ python?\n",
    "\n",
    "<img src=\"python.png\" width=\"500\">\n",
    "\n",
    "\n",
    "It's really two different things:\n",
    "1. A programming **language** (like C)\n",
    "2. A computer **program** to run `.py` files written in python\n",
    "\n",
    "Python is, in fact, named after Monty Python.\n",
    "\n",
    "## Language\n",
    "\n",
    "Like other languages, python has a \"style guide\" and even the short but canonical \"Zen of Python\":\n",
    "\n",
    "<img src=\"zen-of-python.png\" width=\"400\">\n",
    "\n",
    "\n",
    "Below is a valid command in python.\n",
    "\n",
    "To **run** any **code block** click the arrow on the left of the block.\n"
   ]
  },
  {
   "cell_type": "code",
   "execution_count": 1,
   "metadata": {},
   "outputs": [
    {
     "name": "stdout",
     "output_type": "stream",
     "text": [
      "hello!\n"
     ]
    }
   ],
   "source": [
    "print('hello!')"
   ]
  },
  {
   "cell_type": "markdown",
   "metadata": {},
   "source": [
    "If the **syntax** is wrong the computer won't understand."
   ]
  },
  {
   "cell_type": "code",
   "execution_count": 2,
   "metadata": {},
   "outputs": [
    {
     "ename": "SyntaxError",
     "evalue": "incomplete input (617254288.py, line 1)",
     "output_type": "error",
     "traceback": [
      "\u001b[0;36m  Cell \u001b[0;32mIn[2], line 1\u001b[0;36m\u001b[0m\n\u001b[0;31m    print('hello!'\u001b[0m\n\u001b[0m                  ^\u001b[0m\n\u001b[0;31mSyntaxError\u001b[0m\u001b[0;31m:\u001b[0m incomplete input\n"
     ]
    }
   ],
   "source": [
    "print('hello!'"
   ]
  },
  {
   "cell_type": "markdown",
   "metadata": {},
   "source": [
    "Feel free to experiment with the code blocks, you can't hurt anything."
   ]
  },
  {
   "cell_type": "markdown",
   "metadata": {},
   "source": [
    "## Program\n",
    "\n",
    "<img src=\"interpreter.png\" width=\"600\">\n",
    "\n",
    "<!-- <figure>\n",
    "<center>\n",
    "  <img src=\"interpreter.png\" width=\"600\">\n",
    "  <figcaption>Image: python.org/downloads/</figcaption>\n",
    "  </center>\n",
    "</figure> -->\n",
    "\n",
    "\n",
    "\n",
    "The program interprets code into actions the computer can take.\n",
    "\n",
    "Let's:\n",
    "1. Write a short code using the the language python\n",
    "2. Make it do something using the program python\n",
    "\n",
    "To create a new python file run the code block below:"
   ]
  },
  {
   "cell_type": "code",
   "execution_count": 3,
   "metadata": {},
   "outputs": [],
   "source": [
    "!echo \"print('hello!')\">hello.py"
   ]
  },
  {
   "cell_type": "markdown",
   "metadata": {},
   "source": [
    "Double click `hello.py` the file to see the code. That file we also call a **script**.\n",
    "\n",
    "Now run the file with python, by running the code block below:"
   ]
  },
  {
   "cell_type": "code",
   "execution_count": 4,
   "metadata": {},
   "outputs": [
    {
     "name": "stdout",
     "output_type": "stream",
     "text": [
      "hello!\n"
     ]
    }
   ],
   "source": [
    "!python hello.py"
   ]
  },
  {
   "cell_type": "markdown",
   "metadata": {},
   "source": [
    "Now edit the file again and make it say `no pineapple on my pizza!`. Save and re-run the code block above."
   ]
  },
  {
   "cell_type": "markdown",
   "metadata": {},
   "source": [
    "### Operations\n",
    "\n",
    "Math operations, basically.\n",
    "\n",
    "Let's make two variables to store information and modify later if we want. Comments begin with `#` and don't do anything.\n",
    "\n",
    "This **assignment** always takes what is on the right side of `=` and puts it into the left side."
   ]
  },
  {
   "cell_type": "code",
   "execution_count": 5,
   "metadata": {},
   "outputs": [],
   "source": [
    "R=0.01  # resistence\n",
    "I=5     # current"
   ]
  },
  {
   "cell_type": "markdown",
   "metadata": {},
   "source": [
    "In a notebook, simply typing a variable _in the last line_ of a code block displays it."
   ]
  },
  {
   "cell_type": "code",
   "execution_count": 6,
   "metadata": {},
   "outputs": [
    {
     "data": {
      "text/plain": [
       "5"
      ]
     },
     "execution_count": 6,
     "metadata": {},
     "output_type": "execute_result"
    }
   ],
   "source": [
    "I"
   ]
  },
  {
   "cell_type": "markdown",
   "metadata": {},
   "source": [
    "We can use mathematical operations like $+,-,/,*,$ and $**$ for exponents.\n",
    "\n",
    "The notebook \"remembers\" anything we already ran."
   ]
  },
  {
   "cell_type": "code",
   "execution_count": 7,
   "metadata": {},
   "outputs": [
    {
     "data": {
      "text/plain": [
       "0.25"
      ]
     },
     "execution_count": 7,
     "metadata": {},
     "output_type": "execute_result"
    }
   ],
   "source": [
    "power = I**2 * R\n",
    "power"
   ]
  },
  {
   "cell_type": "markdown",
   "metadata": {},
   "source": [
    "We can use logical comparisons like $<,>,<=,>=,==$ (equal to), $!=$ (not equal to). Also `and`, `not`, and `or`.\n",
    "\n",
    "Comments begin with `#` and don't do anything."
   ]
  },
  {
   "cell_type": "code",
   "execution_count": 8,
   "metadata": {},
   "outputs": [
    {
     "data": {
      "text/plain": [
       "False"
      ]
     },
     "execution_count": 8,
     "metadata": {},
     "output_type": "execute_result"
    }
   ],
   "source": [
    "power == I"
   ]
  },
  {
   "cell_type": "code",
   "execution_count": 9,
   "metadata": {},
   "outputs": [
    {
     "data": {
      "text/plain": [
       "True"
      ]
     },
     "execution_count": 9,
     "metadata": {},
     "output_type": "execute_result"
    }
   ],
   "source": [
    "(R <= 1) or (R >= 1)"
   ]
  },
  {
   "cell_type": "markdown",
   "metadata": {},
   "source": [
    "### Objects\n",
    "\n",
    "Each **object** in python has a **type**, like a **float** (32-bit floating point number)."
   ]
  },
  {
   "cell_type": "code",
   "execution_count": 10,
   "metadata": {},
   "outputs": [
    {
     "data": {
      "text/plain": [
       "float"
      ]
     },
     "execution_count": 10,
     "metadata": {},
     "output_type": "execute_result"
    }
   ],
   "source": [
    "type(R)"
   ]
  },
  {
   "cell_type": "markdown",
   "metadata": {},
   "source": [
    "#### String\n",
    "\n",
    "A **string** (type \"str\") is just text. Most list (see below) operations can be done on a string."
   ]
  },
  {
   "cell_type": "code",
   "execution_count": 11,
   "metadata": {},
   "outputs": [
    {
     "data": {
      "text/plain": [
       "str"
      ]
     },
     "execution_count": 11,
     "metadata": {},
     "output_type": "execute_result"
    }
   ],
   "source": [
    "coin = 'Bitcoin'\n",
    "type(coin)"
   ]
  },
  {
   "cell_type": "markdown",
   "metadata": {},
   "source": [
    "#### List\n",
    "\n",
    "A **list** is some objects in series, like floats or strings:"
   ]
  },
  {
   "cell_type": "code",
   "execution_count": 12,
   "metadata": {},
   "outputs": [
    {
     "data": {
      "text/plain": [
       "['Bitcoin', 'Dogecoin', 'Ethereum', 'Litecoin']"
      ]
     },
     "execution_count": 12,
     "metadata": {},
     "output_type": "execute_result"
    }
   ],
   "source": [
    "coins = ['Bitcoin','Dogecoin','Ethereum'] + ['Litecoin'] # concatenation\n",
    "coins"
   ]
  },
  {
   "cell_type": "markdown",
   "metadata": {},
   "source": [
    "Read an item in the list (0 is the first):"
   ]
  },
  {
   "cell_type": "code",
   "execution_count": 13,
   "metadata": {},
   "outputs": [
    {
     "data": {
      "text/plain": [
       "'Bitcoin'"
      ]
     },
     "execution_count": 13,
     "metadata": {},
     "output_type": "execute_result"
    }
   ],
   "source": [
    "coins[0]"
   ]
  },
  {
   "cell_type": "markdown",
   "metadata": {},
   "source": [
    "Edit an item:"
   ]
  },
  {
   "cell_type": "code",
   "execution_count": 14,
   "metadata": {},
   "outputs": [
    {
     "data": {
      "text/plain": [
       "['Bitcoin', 'Avalanche', 'Ethereum', 'Litecoin']"
      ]
     },
     "execution_count": 14,
     "metadata": {},
     "output_type": "execute_result"
    }
   ],
   "source": [
    "coins[1] = 'Avalanche'\n",
    "coins"
   ]
  },
  {
   "cell_type": "markdown",
   "metadata": {},
   "source": [
    "Add to the list"
   ]
  },
  {
   "cell_type": "code",
   "execution_count": 15,
   "metadata": {},
   "outputs": [
    {
     "data": {
      "text/plain": [
       "['Bitcoin', 'Avalanche', 'Ethereum', 'Litecoin', 'Dogecoin']"
      ]
     },
     "execution_count": 15,
     "metadata": {},
     "output_type": "execute_result"
    }
   ],
   "source": [
    "coins.append('Dogecoin')\n",
    "coins"
   ]
  },
  {
   "cell_type": "markdown",
   "metadata": {},
   "source": [
    "Remove from the list"
   ]
  },
  {
   "cell_type": "code",
   "execution_count": 16,
   "metadata": {},
   "outputs": [
    {
     "data": {
      "text/plain": [
       "['Bitcoin', 'Avalanche', 'Litecoin', 'Dogecoin']"
      ]
     },
     "execution_count": 16,
     "metadata": {},
     "output_type": "execute_result"
    }
   ],
   "source": [
    "coins.remove('Ethereum')\n",
    "coins"
   ]
  },
  {
   "cell_type": "markdown",
   "metadata": {},
   "source": [
    "#### Dictionary\n",
    "\n",
    "A **dictionary** (type \"dict\") is a kind of list, where, instead of index numbers we can use string **keys**.\n",
    "\n",
    "This is maybe one of the most important object types in python."
   ]
  },
  {
   "cell_type": "code",
   "execution_count": 17,
   "metadata": {},
   "outputs": [
    {
     "data": {
      "text/plain": [
       "2010.17"
      ]
     },
     "execution_count": 17,
     "metadata": {},
     "output_type": "execute_result"
    }
   ],
   "source": [
    "coin_value = {'Bitcoin':48625.24,'Ethereum':2010.17,'Dogecoin':0.08}\n",
    "coin_value['Ethereum']"
   ]
  },
  {
   "cell_type": "markdown",
   "metadata": {},
   "source": [
    "### Flow Control\n",
    "\n",
    "One of the biggest challenges in programming is controlling what code will run given certain inputs or conditions.\n",
    "\n",
    "#### For/While\n",
    "\n",
    "Sometimes we want to run some code many times. \n",
    "\n",
    "This `for` loop will run 6 times:"
   ]
  },
  {
   "cell_type": "code",
   "execution_count": 18,
   "metadata": {},
   "outputs": [
    {
     "name": "stdout",
     "output_type": "stream",
     "text": [
      "0 \n",
      "1 h\n",
      "2 he\n",
      "3 hel\n",
      "4 hell\n",
      "5 hello\n"
     ]
    }
   ],
   "source": [
    "for i in range(6):\n",
    "    print(i,'hello!'[:i])"
   ]
  },
  {
   "cell_type": "markdown",
   "metadata": {},
   "source": [
    "And this `while` loop will run until the stopping condition is met:"
   ]
  },
  {
   "cell_type": "code",
   "execution_count": 19,
   "metadata": {},
   "outputs": [
    {
     "name": "stdout",
     "output_type": "stream",
     "text": [
      "0.0 \n",
      "0.9 \n",
      "1.8 h\n",
      "2.7 he\n",
      "3.6 hel\n",
      "4.5 hell\n",
      "5.4 hello\n"
     ]
    }
   ],
   "source": [
    "sum = 0.0\n",
    "while sum < 6:\n",
    "    print(sum,'hello!'[:int(sum)])\n",
    "    sum = sum + 0.9"
   ]
  },
  {
   "cell_type": "markdown",
   "metadata": {},
   "source": [
    "#### If.. Else"
   ]
  },
  {
   "cell_type": "markdown",
   "metadata": {},
   "source": [
    "Other times we want to only run based on a condition.\n",
    "\n",
    "This `if/then` statement does.. well can you figure it out? Run it several times :)"
   ]
  },
  {
   "cell_type": "code",
   "execution_count": 20,
   "metadata": {},
   "outputs": [
    {
     "name": "stdout",
     "output_type": "stream",
     "text": [
      "Sell bitcoin!\n"
     ]
    }
   ],
   "source": [
    "import time                     # we'll cover \"import\" later\n",
    "\n",
    "seconds = time.time()\n",
    "crystal_ball = seconds % .01    # % gives the remainder after division\n",
    "\n",
    "if crystal_ball < 0.005:        # A) check this first\n",
    "    print('Buy bitcoin!')\n",
    "elif crystal_ball > 0.005:      # B) if not (A), check this\n",
    "    print('Sell bitcoin!')\n",
    "else:\n",
    "    print('Hold bitcoin!')      # C) if neither (A) nor (B), do this"
   ]
  },
  {
   "cell_type": "markdown",
   "metadata": {},
   "source": [
    "### Functions\n",
    "\n",
    "Code we use often can be saved in a function.\n",
    "\n",
    "```mermaid\n",
    "%%{init: {\"flowchart\": {\"curve\": \"basis\"}} }%%\n",
    "\n",
    "graph LR\n",
    "    r(resistance) -->|input1| c(calculate_power)\n",
    "    i(current) -->|input2| c\n",
    "    c -->|output| p(power)\n",
    "```"
   ]
  },
  {
   "cell_type": "code",
   "execution_count": 21,
   "metadata": {},
   "outputs": [],
   "source": [
    "def calculate_power(resistance, current):\n",
    "    return current**2 * resistance"
   ]
  },
  {
   "cell_type": "code",
   "execution_count": 22,
   "metadata": {},
   "outputs": [
    {
     "data": {
      "text/plain": [
       "0.25"
      ]
     },
     "execution_count": 22,
     "metadata": {},
     "output_type": "execute_result"
    }
   ],
   "source": [
    "calculate_power(resistance=0.01, current=5)"
   ]
  },
  {
   "cell_type": "markdown",
   "metadata": {},
   "source": [
    "### Classes\n",
    "\n",
    "A class is a kind of super function. Using them often makes cleaner code, resulting in fewer mistakes.\n",
    "\n",
    "Let's **comment** the class (with `\"\"\"` for multiple lines).\n",
    "\n",
    "Also lets define the **types** of the input and output data. This also reduces mistakes."
   ]
  },
  {
   "cell_type": "code",
   "execution_count": 23,
   "metadata": {},
   "outputs": [],
   "source": [
    "class Conductor():\n",
    "    def __init__(self, resistance:float):\n",
    "        \"\"\" Conductor useful calculations\n",
    "\n",
    "        Args:\n",
    "            resistance (float): resistance of the line in ohms\n",
    "        \"\"\"\n",
    "        self.resistance = resistance\n",
    "\n",
    "    def calc_loss(self,current:float)->float:\n",
    "        \"\"\" Calculate the line loss\n",
    "\n",
    "        Args:\n",
    "            current (float): current of the line in ohms\n",
    "\n",
    "        Returns:\n",
    "            float: power\n",
    "        \"\"\"\n",
    "        return current**2 * self.resistance"
   ]
  },
  {
   "cell_type": "markdown",
   "metadata": {},
   "source": [
    "First we need to create a new **object**. We say it is a `Conductor` **type**."
   ]
  },
  {
   "cell_type": "code",
   "execution_count": 24,
   "metadata": {},
   "outputs": [
    {
     "data": {
      "text/plain": [
       "__main__.Conductor"
      ]
     },
     "execution_count": 24,
     "metadata": {},
     "output_type": "execute_result"
    }
   ],
   "source": [
    "line1 = Conductor(resistance=0.01)\n",
    "type(line1)"
   ]
  },
  {
   "cell_type": "markdown",
   "metadata": {},
   "source": [
    "Then we can use the object and all it's `def` **methods** (to not confuse with functions)."
   ]
  },
  {
   "cell_type": "code",
   "execution_count": 25,
   "metadata": {},
   "outputs": [
    {
     "data": {
      "text/plain": [
       "0.25"
      ]
     },
     "execution_count": 25,
     "metadata": {},
     "output_type": "execute_result"
    }
   ],
   "source": [
    "line1.calc_loss(current=5)"
   ]
  },
  {
   "cell_type": "code",
   "execution_count": 26,
   "metadata": {},
   "outputs": [
    {
     "data": {
      "text/plain": [
       "1.0"
      ]
     },
     "execution_count": 26,
     "metadata": {},
     "output_type": "execute_result"
    }
   ],
   "source": [
    "line1.calc_loss(current=10)"
   ]
  },
  {
   "cell_type": "markdown",
   "metadata": {},
   "source": [
    "# Environment\n",
    "\n",
    "<img src=\"packages.png\" width=\"400\">\n",
    "\n",
    "## Module\n",
    "\n",
    "Remember `hello.py`? There we have to write or copy-paste all the code.\n",
    "\n",
    "What if your colleage gives you some `.py` codes? You can use them directly with `import` -- no copy-paste.\n",
    "\n",
    "Run the code below to create a new file called `hello_module.py`. "
   ]
  },
  {
   "cell_type": "code",
   "execution_count": 27,
   "metadata": {},
   "outputs": [],
   "source": [
    "!> hello_module.py\n",
    "!echo \"def say_hello():\" >> hello_module.py\n",
    "!echo \"    print('hello from a module!')\" >> hello_module.py"
   ]
  },
  {
   "cell_type": "markdown",
   "metadata": {},
   "source": [
    "Double-click on `hello_module.py` to see inside.\n",
    "\n",
    "Note that the code will not run: there is the function, but no code to call it. That's what makes it a **module** and not a **script**.\n",
    "\n",
    "Now let's modify `hello.py` to use this the module.\n",
    "\n",
    "Double-click on `hello.py` and add a new line at the top and bottom like below:\n",
    "\n",
    "```python\n",
    "import hello_module\n",
    "print('hello!')\n",
    "hello_module.say_hello()\n",
    "```\n",
    "\n",
    "Run the code below."
   ]
  },
  {
   "cell_type": "code",
   "execution_count": 28,
   "metadata": {},
   "outputs": [
    {
     "name": "stdout",
     "output_type": "stream",
     "text": [
      "hello!\n"
     ]
    }
   ],
   "source": [
    "!python hello.py"
   ]
  },
  {
   "cell_type": "markdown",
   "metadata": {},
   "source": [
    "Now look at each line in `hello.py` and be sure to understand it:\n",
    "1. Find `hello_module.py`\n",
    "2. Print \"hello!\"\n",
    "3. Call the `say_hello()` function in `hello_module.py`"
   ]
  },
  {
   "cell_type": "markdown",
   "metadata": {},
   "source": [
    "## Packages\n",
    "\n",
    "```mermaid\n",
    "graph LR\n",
    "subgraph packageA\n",
    "    m1(<b>module1.py</b><br>code..<br>code..)\n",
    "    m2(<b>module2.py</b><br>code..<br>code..)\n",
    "end\n",
    "```\n",
    "\n",
    "We want access to large \"libraries\" of code written by companies, universities, and the open source community. For example there is Google's machine learning tool `tensorflow`. \n",
    "\n",
    "These groups develop **packages** which are just folders containing a few to many modules. We always use packages, often without realizing it. Vanilla python would be incredibly boring without them.\n",
    "\n",
    "`pip` will show us all the installed packages right now on the computer connected to the notebook. You will see `tensorflow` and some entertaining names like `weasel` and `kiwisolver`."
   ]
  },
  {
   "cell_type": "code",
   "execution_count": 29,
   "metadata": {},
   "outputs": [
    {
     "name": "stdout",
     "output_type": "stream",
     "text": [
      "Package                   Version\n",
      "------------------------- ---------------\n",
      "anyio                     4.3.0\n",
      "archspec                  0.2.3\n",
      "argon2-cffi               23.1.0\n",
      "argon2-cffi-bindings      21.2.0\n",
      "arrow                     1.3.0\n",
      "asttokens                 2.4.1\n",
      "async-lru                 2.0.4\n",
      "attrs                     23.2.0\n",
      "Babel                     2.14.0\n",
      "beautifulsoup4            4.12.3\n",
      "bibtexparser              1.4.1\n",
      "bleach                    6.1.0\n",
      "boltons                   23.1.1\n",
      "Brotli                    1.1.0\n",
      "cached-property           1.5.2\n",
      "certifi                   2021.10.8\n",
      "cffi                      1.16.0\n",
      "charset-normalizer        2.0.7\n",
      "colorama                  0.4.6\n",
      "comm                      0.2.1\n",
      "conda                     24.1.2\n",
      "conda-libmamba-solver     24.1.0\n",
      "conda-package-handling    2.2.0\n",
      "conda_package_streaming   0.9.0\n",
      "contourpy                 1.2.0\n",
      "cycler                    0.12.1\n",
      "daiquiri                  3.2.3\n",
      "dcor                      0.6\n",
      "debugpy                   1.8.1\n",
      "decorator                 5.1.1\n",
      "defusedxml                0.7.1\n",
      "distlib                   0.3.8\n",
      "distro                    1.9.0\n",
      "docopt                    0.6.2\n",
      "emd                       0.6.2\n",
      "entrypoints               0.4\n",
      "et-xmlfile                1.1.0\n",
      "exceptiongroup            1.2.0\n",
      "executing                 2.0.1\n",
      "fastjsonschema            2.19.1\n",
      "filelock                  3.13.4\n",
      "fonttools                 4.46.0\n",
      "fqdn                      1.5.1\n",
      "gensim                    4.3.2\n",
      "h11                       0.14.0\n",
      "h2                        4.1.0\n",
      "h5py                      3.10.0\n",
      "hpack                     4.0.0\n",
      "httpcore                  1.0.4\n",
      "httpx                     0.27.0\n",
      "hyperframe                6.0.1\n",
      "idna                      3.6\n",
      "importlib-metadata        7.0.1\n",
      "importlib_resources       6.1.2\n",
      "influxdb                  5.3.1\n",
      "influxdb-client           1.39.0\n",
      "ipykernel                 6.29.3\n",
      "ipython                   8.22.1\n",
      "isoduration               20.11.0\n",
      "jedi                      0.19.1\n",
      "Jinja2                    3.1.3\n",
      "joblib                    1.3.2\n",
      "json5                     0.9.18\n",
      "jsonpatch                 1.33\n",
      "jsonpointer               2.4\n",
      "jsonschema                4.21.1\n",
      "jsonschema-specifications 2023.12.1\n",
      "jupyter_client            7.4.9\n",
      "jupyter_core              5.7.1\n",
      "jupyter-events            0.9.0\n",
      "jupyter-lsp               2.2.3\n",
      "jupyter_server            2.12.5\n",
      "jupyter_server_terminals  0.5.2\n",
      "jupyterlab                4.1.2\n",
      "jupyterlab_pygments       0.3.0\n",
      "jupyterlab_server         2.25.3\n",
      "kaleido                   0.2.1\n",
      "kiwisolver                1.4.5\n",
      "libmambapy                1.5.6\n",
      "llvmlite                  0.41.1\n",
      "MarkupSafe                2.1.5\n",
      "matplotlib                3.8.2\n",
      "matplotlib-inline         0.1.6\n",
      "menuinst                  2.0.2\n",
      "meteostat                 1.6.8\n",
      "mistune                   3.0.2\n",
      "msgpack                   1.0.7\n",
      "mysql-connector           2.2.9\n",
      "nbclient                  0.8.0\n",
      "nbconvert                 7.16.1\n",
      "nbformat                  5.9.2\n",
      "nest_asyncio              1.6.0\n",
      "notebook                  7.0.6\n",
      "notebook_shim             0.2.4\n",
      "numba                     0.58.1\n",
      "numpy                     1.26.4\n",
      "openpyxl                  3.1.2\n",
      "overrides                 7.7.0\n",
      "packaging                 23.2\n",
      "pandas                    2.2.1\n",
      "pandocfilters             1.5.0\n",
      "parso                     0.8.3\n",
      "patsy                     0.5.4\n",
      "pexpect                   4.9.0\n",
      "pickleshare               0.7.5\n",
      "Pillow                    10.1.0\n",
      "pip                       24.0\n",
      "pipenv                    2023.12.1\n",
      "pipreqs                   0.4.13\n",
      "pkgutil_resolve_name      1.3.10\n",
      "platformdirs              4.2.0\n",
      "plotly                    5.18.0\n",
      "pluggy                    1.4.0\n",
      "prometheus_client         0.20.0\n",
      "prompt-toolkit            3.0.42\n",
      "psutil                    5.9.8\n",
      "ptyprocess                0.7.0\n",
      "PuLP                      2.8.0\n",
      "pure-eval                 0.2.2\n",
      "pvlib                     0.10.4\n",
      "pycosat                   0.6.6\n",
      "pycparser                 2.21\n",
      "Pygments                  2.17.2\n",
      "pyparsing                 3.1.1\n",
      "PySocks                   1.7.1\n",
      "python-dateutil           2.9.0\n",
      "python-json-logger        2.0.7\n",
      "pytz                      2024.1\n",
      "PyYAML                    6.0.1\n",
      "pyzmq                     24.0.1\n",
      "reactivex                 4.0.4\n",
      "referencing               0.33.0\n",
      "requests                  2.31.0\n",
      "rfc3339-validator         0.1.4\n",
      "rfc3986-validator         0.1.1\n",
      "rpds-py                   0.18.0\n",
      "ruamel.yaml               0.18.6\n",
      "ruamel.yaml.clib          0.2.8\n",
      "schedule                  1.2.1\n",
      "scikit-learn              1.4.1.post1\n",
      "scipy                     1.11.4\n",
      "seaborn                   0.13.2\n",
      "Send2Trash                1.8.2\n",
      "setuptools                69.1.1\n",
      "six                       1.16.0\n",
      "smart-open                7.0.4\n",
      "sniffio                   1.3.1\n",
      "soupsieve                 2.5\n",
      "sparse                    0.15.1\n",
      "stack-data                0.6.2\n",
      "statsmodels               0.14.0\n",
      "tabulate                  0.9.0\n",
      "tenacity                  8.2.3\n",
      "terminado                 0.18.0\n",
      "threadpoolctl             3.3.0\n",
      "tinycss2                  1.2.1\n",
      "tomli                     2.0.1\n",
      "tornado                   6.4\n",
      "tqdm                      4.66.2\n",
      "traitlets                 5.14.1\n",
      "truststore                0.8.0\n",
      "types-python-dateutil     2.8.19.20240106\n",
      "typing_extensions         4.10.0\n",
      "typing-utils              0.1.0\n",
      "tzdata                    2023.3\n",
      "uri-template              1.3.0\n",
      "urllib3                   1.26.7\n",
      "virtualenv                20.25.1\n",
      "wcwidth                   0.2.13\n",
      "webcolors                 1.13\n",
      "webencodings              0.5.1\n",
      "websocket-client          1.7.0\n",
      "wheel                     0.42.0\n",
      "wikipedia                 1.4.0\n",
      "wrapt                     1.16.0\n",
      "yarg                      0.1.9\n",
      "zipp                      3.17.0\n",
      "zstandard                 0.22.0\n"
     ]
    }
   ],
   "source": [
    "!pip list"
   ]
  },
  {
   "cell_type": "markdown",
   "metadata": {},
   "source": [
    "## Environment\n",
    "\n",
    "<img src=\"conda.png\" width=\"600\">\n",
    "\n",
    "The **environment** is what is sounds like: all the packages and other things around when we run code (for example a solver which isn't a package but is a separate program that python can access). And often we don't have one fixed environment on a computer, but a few different _virtual_ environments for different projects.\n",
    "\n",
    "We tend to use many different packages (and each package uses many) and they are all constantly being updated. So very quickly a problem arises where we need to manage which packages we have, and which version of each.\n",
    "\n",
    "Managing environments is difficult and there are many competing approaches. These may change depening on which packages are used. For instance `tensorflow` can usually be managed with two tools: Anaconda and `pip`.\n"
   ]
  },
  {
   "cell_type": "markdown",
   "metadata": {},
   "source": [
    "# Matrix Algebra and Parallelization\n",
    "\n",
    "![gpu](gpu.gif)\n",
    "\n",
    "Machine learning and AI, at their cores, involve lots of linear algebra, especially matrix multiplication and addition.\n",
    "\n",
    "For example, the forward pass of a 6-unit artificial neural network with an input vector of length 24 requires multiplying a matrix $A$ with dimension $24\\times6$ and adding to a vector of length $24$. \n",
    "\n",
    "A normal computer's **CPU** will do each of $24\\times6=144$ multiplications in series. For large matrices (large models have billions of parameters) this would be far too slow, especially for training when the multiplication is done many, many times.\n",
    "\n",
    "Rather, a **GPU** is a specialized chip which does much of the matrix multiplication in parallel. Original GPUs were developed for graphics, which also involves algebra with large matrices and needs to be fast. Now the foremost manufacturer NVIDIA is known for being a critical technology for AI development.\n",
    "\n",
    "There are many layers of code which have to work perfectly with the GPU hardware to perform well. GPUs are expensive and power hungry, and CPU multi-threading is improving quickly. However the benefit of GPU parallelization can be 5-20x faster model training.\n",
    "\n",
    "Parallelization refers to large computing jobs where many CPUs or GPUs are required. \n",
    "\n"
   ]
  },
  {
   "cell_type": "markdown",
   "metadata": {},
   "source": [
    "# Fun"
   ]
  },
  {
   "cell_type": "code",
   "execution_count": 30,
   "metadata": {},
   "outputs": [
    {
     "name": "stderr",
     "output_type": "stream",
     "text": [
      "Gtk-Message: 03:13:59.687: Failed to load module \"xapp-gtk3-module\"\n",
      "Gtk-Message: 03:13:59.749: Failed to load module \"canberra-gtk-module\"\n",
      "Gtk-Message: 03:13:59.751: Failed to load module \"canberra-gtk-module\"\n"
     ]
    },
    {
     "name": "stdout",
     "output_type": "stream",
     "text": [
      "Opening in existing browser session.\n"
     ]
    }
   ],
   "source": [
    "import antigravity"
   ]
  }
 ],
 "metadata": {
  "kernelspec": {
   "display_name": "base",
   "language": "python",
   "name": "python3"
  },
  "language_info": {
   "codemirror_mode": {
    "name": "ipython",
    "version": 3
   },
   "file_extension": ".py",
   "mimetype": "text/x-python",
   "name": "python",
   "nbconvert_exporter": "python",
   "pygments_lexer": "ipython3",
   "version": "3.11.0"
  }
 },
 "nbformat": 4,
 "nbformat_minor": 2
}
