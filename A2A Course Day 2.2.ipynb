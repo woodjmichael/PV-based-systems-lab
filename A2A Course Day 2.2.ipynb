{
 "cells": [
  {
   "cell_type": "markdown",
   "metadata": {},
   "source": [
    "# Introduction to Python"
   ]
  },
  {
   "cell_type": "markdown",
   "metadata": {},
   "source": [
    "## Outline\n",
    "\n",
    "1. What _is_ a Jupyter notebook?\n",
    "2. What _is_ Google Colab?\n",
    "3. What _is_ python?\n",
    "4. Environment\n",
    "5. Matrix Algebra and Parallelization\n",
    "\n",
    "\n",
    "## Learning Objectives\n",
    "\n",
    "- The function of python code and python interpreter\n",
    "- Basic python syntax for variables, flow control, and using packages\n",
    "- Find, import, and use a package\n",
    "- Understand the problem of large matrix math and how parallelization helps"
   ]
  },
  {
   "cell_type": "markdown",
   "metadata": {},
   "source": [
    "## Terms\n",
    "\n",
    "Text in **bold** will appear here.\n",
    "\n",
    "Like in many areas of tech and science, there is a simple informal language and a more precise formal one.\n",
    "\n",
    "| Informal EN | Informale IT | Technical | Description |\n",
    "| --- | --- | --- | --- |\n",
    "| File/Code | Codice | Script, source | A file of python commands which can be run directly |\n",
    "| Folder | Cartella | Directory | Location on a computer |\n",
    "| Run | Girare | Execute | Read and act on each line of python code |\n",
    "| Program (python) | App (pitone) | Interpreter (python) | The program which compiles and runs python code on a computer |\n",
    "| Notebook | Notebook | Jupyter Notebook | Document containing both executable code and rich text |\n",
    "| Is | È | Assignment | Saving data in a variable |\n",
    "| -- | -- | Type | Python objects always have a type, like a list or float |\n",
    "| -- | -- | Object | A data type which contains both data and code |\n",
    "| -- | -- | Function | Selection of code that can be run simply by calling the function name |\n",
    "| -- | -- | Class | A use-defined object type which contains both data and code (methods) |\n",
    "| -- | -- | Method | A function inside a class |\n",
    "| -- | -- | Initialize | Create a new object from a class |\n",
    "| -- | -- | Module | A code file which isn't run directly but is imported into your main script |\n",
    "| -- | -- | Package | A folder containing many related modules, like `tensorflow` |\n"
   ]
  },
  {
   "cell_type": "markdown",
   "metadata": {},
   "source": [
    "# What _is_ a Jupyter notebook?\n",
    "\n",
    "<img src=\"https://github.com/woodjmichael/PV-based-systems-lab/blob/main/jupyter.png?raw=true\" width=\"200\">\n",
    "\n",
    "\n",
    "Well, it's this!\n",
    "\n",
    "A Jupyter **notebook** combines together in one file:\n",
    "- Human-friendly text, tables, and images\n",
    "- **Code** that you can **run** directly\n",
    "\n",
    "Notebooks are great for learning and experiments.\n",
    "\n",
    "\"Production\" software (e.g. Chrome) is usually not in a notebook.\n",
    "\n",
    "This is a text, or \"Markdown\", block."
   ]
  },
  {
   "cell_type": "code",
   "execution_count": 1,
   "metadata": {},
   "outputs": [
    {
     "data": {
      "text/plain": [
       "42"
      ]
     },
     "execution_count": 1,
     "metadata": {},
     "output_type": "execute_result"
    }
   ],
   "source": [
    "# this is a code block\n",
    "# click the arrow on the left to run it\n",
    "6*7"
   ]
  },
  {
   "cell_type": "markdown",
   "metadata": {},
   "source": [
    "# What _is_ Google Colab?\n",
    "\n",
    "<img src=\"https://github.com/woodjmichael/PV-based-systems-lab/blob/main/colab.jpg?raw=true\" width=\"200\">\n",
    "<br>\n",
    "<img src=\"https://github.com/woodjmichael/PV-based-systems-lab/blob/main/colab.png?raw=true\" width=\"700\">\n",
    "\n",
    "Well, it's also this!\n",
    "\n",
    "Colab (Colaboratory) lets you run code on extra Google cloud computers in a Jupyter notebook.\n",
    "\n",
    "Its great for learning and small experiments.\n",
    "\n",
    "But you can't run code for many hours, especially if using a GPU."
   ]
  },
  {
   "cell_type": "markdown",
   "metadata": {},
   "source": [
    "# What _is_ python? \n",
    "\n",
    "<img src=\"https://upload.wikimedia.org/wikipedia/commons/thumb/a/a3/Monty_Python_Live_02-07-14_12_56_41_%2814415567757%29.jpg/1280px-Monty_Python_Live_02-07-14_12_56_41_%2814415567757%29.jpg\" width=\"400\">\n",
    "\n",
    "_From the Ministry of Silly Walks by Monty Python_\n",
    "\n",
    "<!-- <img src=\"https://github.com/woodjmichael/PV-based-systems-lab/blob/main/python.png?raw=true\" width=\"300\"> -->\n",
    "\n",
    "<!-- <img src=\"https://upload.wikimedia.org/wikipedia/commons/8/8e/Monty_Python_Live_02-07-14_13_04_42_%2814598710791%29.jpg\" width=\"300\"> -->\n",
    "\n",
    "\n",
    "It's really two different things:\n",
    "1. A programming **language** (like C)\n",
    "2. An **interpreter** program to run `.py` files written in python"
   ]
  },
  {
   "cell_type": "markdown",
   "metadata": {},
   "source": [
    "## Language\n",
    "\n",
    "Python can be easily readable in english:\n",
    "\n",
    "```python\n",
    "while max(y) < 10 and iteration < 10:\n",
    "    if x is in valid_inputs:\n",
    "        y.append(x)\n",
    "    else:\n",
    "        raise ValueError\n",
    "    iteration += 1\n",
    "```\n",
    "\n",
    "And when used **objectively** complex operations can quickly make sense.\n",
    "\n",
    "```python\n",
    "data_upsampled = data_raw.dropna().resample('1h').interpolate(method='linear')\n",
    "```\n",
    "\n",
    "Below is a valid command in python, which prints the canonical \"Zen of Python.\""
   ]
  },
  {
   "cell_type": "code",
   "execution_count": 2,
   "metadata": {},
   "outputs": [
    {
     "name": "stdout",
     "output_type": "stream",
     "text": [
      "The Zen of Python, by Tim Peters\n",
      "\n",
      "Beautiful is better than ugly.\n",
      "Explicit is better than implicit.\n",
      "Simple is better than complex.\n",
      "Complex is better than complicated.\n",
      "Flat is better than nested.\n",
      "Sparse is better than dense.\n",
      "Readability counts.\n",
      "Special cases aren't special enough to break the rules.\n",
      "Although practicality beats purity.\n",
      "Errors should never pass silently.\n",
      "Unless explicitly silenced.\n",
      "In the face of ambiguity, refuse the temptation to guess.\n",
      "There should be one-- and preferably only one --obvious way to do it.\n",
      "Although that way may not be obvious at first unless you're Dutch.\n",
      "Now is better than never.\n",
      "Although never is often better than *right* now.\n",
      "If the implementation is hard to explain, it's a bad idea.\n",
      "If the implementation is easy to explain, it may be a good idea.\n",
      "Namespaces are one honking great idea -- let's do more of those!\n"
     ]
    }
   ],
   "source": [
    "import this"
   ]
  },
  {
   "cell_type": "markdown",
   "metadata": {},
   "source": [
    "If the syntax (sintassi) is wrong the computer won't understand."
   ]
  },
  {
   "cell_type": "code",
   "execution_count": 7,
   "metadata": {},
   "outputs": [
    {
     "ename": "SyntaxError",
     "evalue": "incomplete input (617254288.py, line 1)",
     "output_type": "error",
     "traceback": [
      "\u001b[0;36m  Cell \u001b[0;32mIn[7], line 1\u001b[0;36m\u001b[0m\n\u001b[0;31m    print('hello!'\u001b[0m\n\u001b[0m                  ^\u001b[0m\n\u001b[0;31mSyntaxError\u001b[0m\u001b[0;31m:\u001b[0m incomplete input\n"
     ]
    }
   ],
   "source": [
    "print('hello!'"
   ]
  },
  {
   "cell_type": "markdown",
   "metadata": {},
   "source": [
    "Try to fix the above command. What's missing?\n",
    "\n",
    "Feel free to experiment with the code, you can't hurt anything."
   ]
  },
  {
   "cell_type": "markdown",
   "metadata": {},
   "source": [
    "### Operations\n",
    "\n",
    "Math operations, basically.\n",
    "\n",
    "This **assignment** always takes what is on the right side of `=` and saves it in the left side.\n",
    "\n",
    "`I` _is_ `5`."
   ]
  },
  {
   "cell_type": "code",
   "execution_count": 9,
   "metadata": {},
   "outputs": [],
   "source": [
    "I=5     # current\n",
    "R=0.01  # resistence"
   ]
  },
  {
   "cell_type": "markdown",
   "metadata": {},
   "source": [
    "Comments begin with `#` and don't do anything.\n",
    "\n",
    "In a notebook, simply typing a variable _in the last line_ of a code block displays it."
   ]
  },
  {
   "cell_type": "code",
   "execution_count": 10,
   "metadata": {},
   "outputs": [
    {
     "data": {
      "text/plain": [
       "5"
      ]
     },
     "execution_count": 10,
     "metadata": {},
     "output_type": "execute_result"
    }
   ],
   "source": [
    "# I is 5\n",
    "I"
   ]
  },
  {
   "cell_type": "markdown",
   "metadata": {},
   "source": [
    "Arithmetic: $+,-,/,*,$ and $**$ for exponents.\n",
    "\n",
    "The notebook remembers `I` and `R`, and anything else we already ran above."
   ]
  },
  {
   "cell_type": "code",
   "execution_count": 11,
   "metadata": {},
   "outputs": [
    {
     "data": {
      "text/plain": [
       "0.25"
      ]
     },
     "execution_count": 11,
     "metadata": {},
     "output_type": "execute_result"
    }
   ],
   "source": [
    "power = I**2 * R\n",
    "power"
   ]
  },
  {
   "cell_type": "markdown",
   "metadata": {},
   "source": [
    "Logic: $<,>,<=,>=,==$ (equal to), $!=$ (not equal to).\n",
    "\n",
    "Also `and`, `not`, and `or`."
   ]
  },
  {
   "cell_type": "code",
   "execution_count": 12,
   "metadata": {},
   "outputs": [
    {
     "data": {
      "text/plain": [
       "False"
      ]
     },
     "execution_count": 12,
     "metadata": {},
     "output_type": "execute_result"
    }
   ],
   "source": [
    "power == I"
   ]
  },
  {
   "cell_type": "code",
   "execution_count": 13,
   "metadata": {},
   "outputs": [
    {
     "data": {
      "text/plain": [
       "True"
      ]
     },
     "execution_count": 13,
     "metadata": {},
     "output_type": "execute_result"
    }
   ],
   "source": [
    "(R <= 1) or (R >= 1)"
   ]
  },
  {
   "cell_type": "markdown",
   "metadata": {},
   "source": [
    "### Objects\n",
    "\n",
    "Each **object** in python has a **type**, like a float (32-bit floating point number)."
   ]
  },
  {
   "cell_type": "code",
   "execution_count": 14,
   "metadata": {},
   "outputs": [
    {
     "data": {
      "text/plain": [
       "float"
      ]
     },
     "execution_count": 14,
     "metadata": {},
     "output_type": "execute_result"
    }
   ],
   "source": [
    "type(R)"
   ]
  },
  {
   "cell_type": "markdown",
   "metadata": {},
   "source": [
    "#### String\n",
    "\n",
    "A string (type \"str\") is just text."
   ]
  },
  {
   "cell_type": "code",
   "execution_count": 15,
   "metadata": {},
   "outputs": [
    {
     "data": {
      "text/plain": [
       "str"
      ]
     },
     "execution_count": 15,
     "metadata": {},
     "output_type": "execute_result"
    }
   ],
   "source": [
    "coin = 'Dogecoin'\n",
    "type(coin)"
   ]
  },
  {
   "cell_type": "markdown",
   "metadata": {},
   "source": [
    "Most list operations (see below) can be done on a string."
   ]
  },
  {
   "cell_type": "code",
   "execution_count": 16,
   "metadata": {},
   "outputs": [
    {
     "data": {
      "text/plain": [
       "'D'"
      ]
     },
     "execution_count": 16,
     "metadata": {},
     "output_type": "execute_result"
    }
   ],
   "source": [
    "coin[0]"
   ]
  },
  {
   "cell_type": "markdown",
   "metadata": {},
   "source": [
    "#### List\n",
    "\n",
    "A list is a series of the same object:"
   ]
  },
  {
   "cell_type": "code",
   "execution_count": 17,
   "metadata": {},
   "outputs": [
    {
     "data": {
      "text/plain": [
       "['Dogecoin', 'Bitcoin', 'Ethereum', 'Litecoin']"
      ]
     },
     "execution_count": 17,
     "metadata": {},
     "output_type": "execute_result"
    }
   ],
   "source": [
    "coins = ['Dogecoin','Bitcoin','Ethereum'] + ['Litecoin'] # concatenate\n",
    "coins"
   ]
  },
  {
   "cell_type": "markdown",
   "metadata": {},
   "source": [
    "Read an item in the list (0 is the first):"
   ]
  },
  {
   "cell_type": "code",
   "execution_count": 18,
   "metadata": {},
   "outputs": [
    {
     "data": {
      "text/plain": [
       "'Dogecoin'"
      ]
     },
     "execution_count": 18,
     "metadata": {},
     "output_type": "execute_result"
    }
   ],
   "source": [
    "coins[0]"
   ]
  },
  {
   "cell_type": "markdown",
   "metadata": {},
   "source": [
    "Edit an item:"
   ]
  },
  {
   "cell_type": "code",
   "execution_count": 19,
   "metadata": {},
   "outputs": [
    {
     "data": {
      "text/plain": [
       "['Dogecoin', 'Avalanche', 'Ethereum', 'Litecoin']"
      ]
     },
     "execution_count": 19,
     "metadata": {},
     "output_type": "execute_result"
    }
   ],
   "source": [
    "coins[1] = 'Avalanche'\n",
    "coins"
   ]
  },
  {
   "cell_type": "markdown",
   "metadata": {},
   "source": [
    "Add to the list"
   ]
  },
  {
   "cell_type": "code",
   "execution_count": 20,
   "metadata": {},
   "outputs": [
    {
     "data": {
      "text/plain": [
       "['Dogecoin', 'Avalanche', 'Ethereum', 'Litecoin', 'Dogecoin']"
      ]
     },
     "execution_count": 20,
     "metadata": {},
     "output_type": "execute_result"
    }
   ],
   "source": [
    "coins.append('Dogecoin')\n",
    "coins"
   ]
  },
  {
   "cell_type": "markdown",
   "metadata": {},
   "source": [
    "Remove from the list"
   ]
  },
  {
   "cell_type": "code",
   "execution_count": 21,
   "metadata": {},
   "outputs": [
    {
     "data": {
      "text/plain": [
       "['Dogecoin', 'Avalanche', 'Litecoin', 'Dogecoin']"
      ]
     },
     "execution_count": 21,
     "metadata": {},
     "output_type": "execute_result"
    }
   ],
   "source": [
    "coins.remove('Ethereum')\n",
    "coins"
   ]
  },
  {
   "cell_type": "markdown",
   "metadata": {},
   "source": [
    "It's easy to do a small operation on every item in a list:"
   ]
  },
  {
   "cell_type": "code",
   "execution_count": 22,
   "metadata": {},
   "outputs": [
    {
     "data": {
      "text/plain": [
       "[8, 9, 8, 8]"
      ]
     },
     "execution_count": 22,
     "metadata": {},
     "output_type": "execute_result"
    }
   ],
   "source": [
    "coins_length = [len(coin) for coin in coins]\n",
    "coins_length"
   ]
  },
  {
   "cell_type": "markdown",
   "metadata": {},
   "source": [
    "#### Dictionary\n",
    "\n",
    "This is maybe the most powerful and common standard python object.\n",
    "\n",
    "It's a kind of list with three main differences:\n",
    "- The index is usually string *keys* instead of integer *index* values\n",
    "- In each item of the dictionary you can put whatever you want\n",
    "- We use `{` instead of `[` (but still `[` to access items)"
   ]
  },
  {
   "cell_type": "code",
   "execution_count": 23,
   "metadata": {},
   "outputs": [
    {
     "data": {
      "text/plain": [
       "0.08"
      ]
     },
     "execution_count": 23,
     "metadata": {},
     "output_type": "execute_result"
    }
   ],
   "source": [
    "coin_value = {'Bitcoin':48625.24,'Ethereum':2010.17,'Dogecoin':0.08}\n",
    "coin_value['Dogecoin']"
   ]
  },
  {
   "cell_type": "markdown",
   "metadata": {},
   "source": [
    "### Flow Control\n",
    "\n",
    "A big challenge in programming is controlling what code runs given input X or condition Y.\n",
    "\n",
    "For example you might want a code to only run once a day at midnight."
   ]
  },
  {
   "cell_type": "markdown",
   "metadata": {},
   "source": [
    "#### For\n",
    "\n",
    "Sometimes we want to run some code many times. \n",
    "\n",
    "`range(N)` creates a list of integers starting at `0`, with length `N`.\n",
    "\n",
    "This `for` loop will run 6 times:"
   ]
  },
  {
   "cell_type": "code",
   "execution_count": 24,
   "metadata": {},
   "outputs": [
    {
     "name": "stdout",
     "output_type": "stream",
     "text": [
      "0 hello!\n",
      "1 hello!\n",
      "2 hello!\n",
      "3 hello!\n",
      "4 hello!\n",
      "5 hello!\n"
     ]
    }
   ],
   "source": [
    "for i in range(6):\n",
    "    print(i,'hello!')"
   ]
  },
  {
   "cell_type": "markdown",
   "metadata": {},
   "source": [
    "Often we want to access each item `in` something:"
   ]
  },
  {
   "cell_type": "code",
   "execution_count": 25,
   "metadata": {},
   "outputs": [
    {
     "name": "stdout",
     "output_type": "stream",
     "text": [
      "h\n",
      "e\n",
      "l\n",
      "l\n",
      "o\n",
      "!\n"
     ]
    }
   ],
   "source": [
    "for s in 'hello!':\n",
    "    print(s)"
   ]
  },
  {
   "cell_type": "markdown",
   "metadata": {},
   "source": [
    "And if you want the index `i`:"
   ]
  },
  {
   "cell_type": "code",
   "execution_count": 26,
   "metadata": {},
   "outputs": [
    {
     "name": "stdout",
     "output_type": "stream",
     "text": [
      "0 h\n",
      "1 e\n",
      "2 l\n",
      "3 l\n",
      "4 o\n",
      "5 !\n"
     ]
    }
   ],
   "source": [
    "for i,s in enumerate('hello!'):\n",
    "    print(i,s)"
   ]
  },
  {
   "cell_type": "markdown",
   "metadata": {},
   "source": [
    "#### If.. Else"
   ]
  },
  {
   "cell_type": "markdown",
   "metadata": {},
   "source": [
    "Other times we want to only run based on a condition."
   ]
  },
  {
   "cell_type": "code",
   "execution_count": 30,
   "metadata": {},
   "outputs": [
    {
     "name": "stdout",
     "output_type": "stream",
     "text": [
      "its true!\n"
     ]
    }
   ],
   "source": [
    "if 5<10:\n",
    "    print('its true!')"
   ]
  },
  {
   "cell_type": "markdown",
   "metadata": {},
   "source": [
    "Can you make sense of this `if/then` code? Run it several times :)"
   ]
  },
  {
   "cell_type": "code",
   "execution_count": 31,
   "metadata": {},
   "outputs": [
    {
     "name": "stdout",
     "output_type": "stream",
     "text": [
      "Sell bitcoin!\n"
     ]
    }
   ],
   "source": [
    "import time                     # we'll cover \"import\" later\n",
    "\n",
    "seconds = time.time()\n",
    "crystal_ball = seconds % .01    # % gives the remainder after division\n",
    "\n",
    "if crystal_ball < 0.005:        # A) check this first\n",
    "    print('Buy bitcoin!')\n",
    "elif crystal_ball > 0.005:      # B) if not (A), check this\n",
    "    print('Sell bitcoin!')\n",
    "else:\n",
    "    print('Hold bitcoin!')      # C) if neither (A) nor (B), do this"
   ]
  },
  {
   "cell_type": "markdown",
   "metadata": {},
   "source": [
    "### Functions\n",
    "\n",
    "Code we use often can be saved in a function and then *called*.\n",
    "\n",
    "<img src=\"https://github.com/woodjmichael/PV-based-systems-lab/blob/main/function.png?raw=true\" width=\"600\">"
   ]
  },
  {
   "cell_type": "code",
   "execution_count": 33,
   "metadata": {},
   "outputs": [],
   "source": [
    "def calculate_power(resistance, current):\n",
    "    return current**2 * resistance"
   ]
  },
  {
   "cell_type": "markdown",
   "metadata": {},
   "source": [
    "Now call the function with inputs"
   ]
  },
  {
   "cell_type": "code",
   "execution_count": 34,
   "metadata": {},
   "outputs": [
    {
     "data": {
      "text/plain": [
       "0.25"
      ]
     },
     "execution_count": 34,
     "metadata": {},
     "output_type": "execute_result"
    }
   ],
   "source": [
    "calculate_power(resistance=0.01, current=5)"
   ]
  },
  {
   "cell_type": "markdown",
   "metadata": {},
   "source": [
    "### Classes\n",
    "\n",
    "Classes a kind of super function, often making cleaner code with fewer mistakes.\n",
    "\n",
    "Usually we **initialize** the class with some data or attributes.\n",
    "\n",
    "Then we can call functions specific to the class, which we call **methods**."
   ]
  },
  {
   "cell_type": "code",
   "execution_count": 36,
   "metadata": {},
   "outputs": [],
   "source": [
    "class Conductor():\n",
    "    def __init__(self, resistance):\n",
    "        self.resistance = resistance\n",
    "    def calc_loss(self,current):\n",
    "        return current**2 * self.resistance"
   ]
  },
  {
   "cell_type": "markdown",
   "metadata": {},
   "source": [
    "Let's comment the class (with `\"\"\"` for multiple lines).\n",
    "\n",
    "Also lets define the types of the input and output data. This also reduces mistakes."
   ]
  },
  {
   "cell_type": "code",
   "execution_count": 86,
   "metadata": {},
   "outputs": [],
   "source": [
    "class Conductor():\n",
    "    \"\"\" Conductor class \"\"\"\n",
    "    def __init__(self, resistance:float):\n",
    "        \"\"\" Conductor useful calculations\n",
    "\n",
    "        Args:\n",
    "            resistance (float): resistance of the line in ohms\n",
    "        \"\"\"\n",
    "        self.resistance = resistance\n",
    "\n",
    "    def calc_loss(self,current:float)->float:\n",
    "        \"\"\" Calculate the line loss\n",
    "\n",
    "        Args:\n",
    "            current (float): current of the line in ohms\n",
    "\n",
    "        Returns:\n",
    "            float: power\n",
    "        \"\"\"\n",
    "        return current**2 * self.resistance"
   ]
  },
  {
   "cell_type": "markdown",
   "metadata": {},
   "source": [
    "First we need to initialize a new object from the class. We say it is a `Conductor` type."
   ]
  },
  {
   "cell_type": "code",
   "execution_count": 38,
   "metadata": {},
   "outputs": [
    {
     "data": {
      "text/plain": [
       "__main__.Conductor"
      ]
     },
     "execution_count": 38,
     "metadata": {},
     "output_type": "execute_result"
    }
   ],
   "source": [
    "line1 = Conductor(resistance=0.01)\n",
    "type(line1)"
   ]
  },
  {
   "cell_type": "markdown",
   "metadata": {},
   "source": [
    "Then we can use the object and any of it's `def` methods."
   ]
  },
  {
   "cell_type": "code",
   "execution_count": 39,
   "metadata": {},
   "outputs": [
    {
     "data": {
      "text/plain": [
       "0.25"
      ]
     },
     "execution_count": 39,
     "metadata": {},
     "output_type": "execute_result"
    }
   ],
   "source": [
    "line1.calc_loss(current=5)"
   ]
  },
  {
   "cell_type": "code",
   "execution_count": 40,
   "metadata": {},
   "outputs": [
    {
     "data": {
      "text/plain": [
       "1.0"
      ]
     },
     "execution_count": 40,
     "metadata": {},
     "output_type": "execute_result"
    }
   ],
   "source": [
    "line1.calc_loss(current=10)"
   ]
  },
  {
   "cell_type": "markdown",
   "metadata": {},
   "source": [
    "## Interpreter\n",
    "\n",
    "<img src=\"https://www.dunebook.com/wp-content/uploads/2019/10/image1-1.png\" width=\"600\">\n",
    "\n",
    "<!-- <figure>\n",
    "<center>\n",
    "  <img src=\"interpreter.png\" width=\"600\">\n",
    "  <figcaption>Image: python.org/downloads/</figcaption>\n",
    "  </center>\n",
    "</figure> -->\n",
    "\n",
    "\n",
    "\n",
    "The python program interprets code into actions the computer can take.\n",
    "\n",
    "Notebooks use the interpeter but it's hidden. Magic!\n",
    "\n",
    "Just once you should write a `.py` file and run the interpreter directly."
   ]
  },
  {
   "cell_type": "markdown",
   "metadata": {},
   "source": [
    "#### 1. Write code file\n",
    "\n",
    "1. Click the folder icon on the far left of your screen. It's an empty rectangle.\n",
    "\n",
    "2. In the side bar area right click, select `New File`, and name it `hello.py`. \n",
    "\n",
    "3. Double click `hello.py` to open it. Write `print('hello!')` and save (Ctrl+S)."
   ]
  },
  {
   "cell_type": "markdown",
   "metadata": {},
   "source": [
    "#### 2. Run with interpreter\n",
    "\n",
    "Run the code block below. The `!` gives us direct access to the Google cloud computer.\n",
    "\n",
    "The command `python` runs the interpreter and `hello.py` is the file we want to run."
   ]
  },
  {
   "cell_type": "code",
   "execution_count": 13,
   "metadata": {},
   "outputs": [
    {
     "name": "stdout",
     "output_type": "stream",
     "text": [
      "hello!\n"
     ]
    }
   ],
   "source": [
    "!python hello.py"
   ]
  },
  {
   "cell_type": "markdown",
   "metadata": {},
   "source": [
    "The result is the same as typing `print('hello!')` into Colab.\n",
    "\n",
    "The difference is we only used two things: a text file and the python interpreter."
   ]
  },
  {
   "cell_type": "markdown",
   "metadata": {},
   "source": [
    "# Environment\n",
    "\n",
    "<img src=\"https://github.com/woodjmichael/PV-based-systems-lab/blob/main/packages.png?raw=true\" width=\"400\">\n",
    "\n",
    "## Module\n",
    "\n",
    "In `hello.py` we had to write (or copy-paste) all the code by hand.\n",
    "\n",
    "What if your colleage gives you a `.py` code? Or you find something online?\n",
    "\n",
    "You can use the code directly, or integrate it with your own code using `import`.\n",
    "\n",
    "Run the code below to create a new file called `hello_module.py`. "
   ]
  },
  {
   "cell_type": "markdown",
   "metadata": {},
   "source": [
    "#### 1. Write a module file\n",
    "\n",
    "1. In the side bar area right click, select `New File`, and name it `hello_module.py`. \n",
    "2. Double click `hello_module.py` to open it.\n",
    "3. Write the following two lines and save (Ctrl+S).\n",
    "```python\n",
    "def say_hello():\n",
    "    print('hello from a module!')\n",
    "```\n",
    "\n",
    "Note that the code will not run: there is the function, but no code to call it.\n",
    "\n",
    "That's what makes it a **module** and not a script."
   ]
  },
  {
   "cell_type": "markdown",
   "metadata": {},
   "source": [
    "#### 2. Run in the notebook"
   ]
  },
  {
   "cell_type": "markdown",
   "metadata": {},
   "source": [
    "Usually importing a module is unspectacular."
   ]
  },
  {
   "cell_type": "code",
   "execution_count": 46,
   "metadata": {},
   "outputs": [],
   "source": [
    "import hello_module"
   ]
  },
  {
   "cell_type": "markdown",
   "metadata": {},
   "source": [
    "But now you can run our function from the module."
   ]
  },
  {
   "cell_type": "code",
   "execution_count": 47,
   "metadata": {},
   "outputs": [
    {
     "name": "stdout",
     "output_type": "stream",
     "text": [
      "hello!\n"
     ]
    }
   ],
   "source": [
    "hello_module.say_hello()"
   ]
  },
  {
   "cell_type": "markdown",
   "metadata": {},
   "source": [
    "## Packages\n",
    "\n",
    "<img src=\"https://github.com/woodjmichael/PV-based-systems-lab/blob/main/package-module.png?raw=true\" width=\"400\">\n",
    "\n",
    "We want access to all the large \"libraries\" of code written the open source community. \n",
    "\n",
    "For example there is Google's machine learning tool `tensorflow`. \n",
    "\n",
    "These groups develop **packages** which are just folders containing a few to many modules.\n",
    "\n",
    "We always use packages, often without realizing it. Otherwise vanilla python would be very boring.\n",
    "\n",
    "`pip` will show us all the installed packages right now on the computer connected to the notebook.\n",
    "\n",
    "You will see `tensorflow` and some entertaining names like `weasel` and `kiwisolver`."
   ]
  },
  {
   "cell_type": "code",
   "execution_count": 48,
   "metadata": {},
   "outputs": [
    {
     "name": "stdout",
     "output_type": "stream",
     "text": [
      "Package                   Version\n",
      "------------------------- ---------------\n",
      "anyio                     4.3.0\n",
      "archspec                  0.2.3\n",
      "argon2-cffi               23.1.0\n",
      "argon2-cffi-bindings      21.2.0\n",
      "arrow                     1.3.0\n",
      "asttokens                 2.4.1\n",
      "async-lru                 2.0.4\n",
      "attrs                     23.2.0\n",
      "Babel                     2.14.0\n",
      "beautifulsoup4            4.12.3\n",
      "bibtexparser              1.4.1\n",
      "bleach                    6.1.0\n",
      "boltons                   23.1.1\n",
      "Brotli                    1.1.0\n",
      "cached-property           1.5.2\n",
      "certifi                   2021.10.8\n",
      "cffi                      1.16.0\n",
      "charset-normalizer        2.0.7\n",
      "colorama                  0.4.6\n",
      "comm                      0.2.1\n",
      "conda                     24.1.2\n",
      "conda-libmamba-solver     24.1.0\n",
      "conda-package-handling    2.2.0\n",
      "conda_package_streaming   0.9.0\n",
      "contourpy                 1.2.0\n",
      "cycler                    0.12.1\n",
      "daiquiri                  3.2.3\n",
      "dcor                      0.6\n",
      "debugpy                   1.8.1\n",
      "decorator                 5.1.1\n",
      "defusedxml                0.7.1\n",
      "distlib                   0.3.8\n",
      "distro                    1.9.0\n",
      "docopt                    0.6.2\n",
      "emd                       0.6.2\n",
      "entrypoints               0.4\n",
      "et-xmlfile                1.1.0\n",
      "exceptiongroup            1.2.0\n",
      "executing                 2.0.1\n",
      "fastjsonschema            2.19.1\n",
      "filelock                  3.13.4\n",
      "fonttools                 4.46.0\n",
      "fqdn                      1.5.1\n",
      "gensim                    4.3.2\n",
      "h11                       0.14.0\n",
      "h2                        4.1.0\n",
      "h5py                      3.10.0\n",
      "hpack                     4.0.0\n",
      "httpcore                  1.0.4\n",
      "httpx                     0.27.0\n",
      "hyperframe                6.0.1\n",
      "idna                      3.6\n",
      "importlib-metadata        7.0.1\n",
      "importlib_resources       6.1.2\n",
      "influxdb                  5.3.1\n",
      "influxdb-client           1.39.0\n",
      "ipykernel                 6.29.3\n",
      "ipython                   8.22.1\n",
      "isoduration               20.11.0\n",
      "jedi                      0.19.1\n",
      "Jinja2                    3.1.3\n",
      "joblib                    1.3.2\n",
      "json5                     0.9.18\n",
      "jsonpatch                 1.33\n",
      "jsonpointer               2.4\n",
      "jsonschema                4.21.1\n",
      "jsonschema-specifications 2023.12.1\n",
      "jupyter_client            7.4.9\n",
      "jupyter_core              5.7.1\n",
      "jupyter-events            0.9.0\n",
      "jupyter-lsp               2.2.3\n",
      "jupyter_server            2.12.5\n",
      "jupyter_server_terminals  0.5.2\n",
      "jupyterlab                4.1.2\n",
      "jupyterlab_pygments       0.3.0\n",
      "jupyterlab_server         2.25.3\n",
      "kaleido                   0.2.1\n",
      "kiwisolver                1.4.5\n",
      "libmambapy                1.5.6\n",
      "llvmlite                  0.41.1\n",
      "MarkupSafe                2.1.5\n",
      "matplotlib                3.8.2\n",
      "matplotlib-inline         0.1.6\n",
      "menuinst                  2.0.2\n",
      "meteostat                 1.6.8\n",
      "mistune                   3.0.2\n",
      "msgpack                   1.0.7\n",
      "mysql-connector           2.2.9\n",
      "nbclient                  0.8.0\n",
      "nbconvert                 7.16.1\n",
      "nbformat                  5.9.2\n",
      "nest_asyncio              1.6.0\n",
      "notebook                  7.0.6\n",
      "notebook_shim             0.2.4\n",
      "numba                     0.58.1\n",
      "numpy                     1.26.4\n",
      "openpyxl                  3.1.2\n",
      "overrides                 7.7.0\n",
      "packaging                 23.2\n",
      "pandas                    2.2.1\n",
      "pandocfilters             1.5.0\n",
      "parso                     0.8.3\n",
      "patsy                     0.5.4\n",
      "pexpect                   4.9.0\n",
      "pickleshare               0.7.5\n",
      "Pillow                    10.1.0\n",
      "pip                       24.0\n",
      "pipenv                    2023.12.1\n",
      "pipreqs                   0.4.13\n",
      "pkgutil_resolve_name      1.3.10\n",
      "platformdirs              4.2.0\n",
      "plotly                    5.18.0\n",
      "pluggy                    1.4.0\n",
      "prometheus_client         0.20.0\n",
      "prompt-toolkit            3.0.42\n",
      "psutil                    5.9.8\n",
      "ptyprocess                0.7.0\n",
      "PuLP                      2.8.0\n",
      "pure-eval                 0.2.2\n",
      "pvlib                     0.10.4\n",
      "pycosat                   0.6.6\n",
      "pycparser                 2.21\n",
      "pygame                    2.6.0\n",
      "Pygments                  2.17.2\n",
      "pyparsing                 3.1.1\n",
      "PySocks                   1.7.1\n",
      "python-dateutil           2.9.0\n",
      "python-json-logger        2.0.7\n",
      "pytz                      2024.1\n",
      "PyYAML                    6.0.1\n",
      "pyzmq                     24.0.1\n",
      "reactivex                 4.0.4\n",
      "referencing               0.33.0\n",
      "requests                  2.31.0\n",
      "rfc3339-validator         0.1.4\n",
      "rfc3986-validator         0.1.1\n",
      "rpds-py                   0.18.0\n",
      "ruamel.yaml               0.18.6\n",
      "ruamel.yaml.clib          0.2.8\n",
      "schedule                  1.2.1\n",
      "scikit-learn              1.4.1.post1\n",
      "scipy                     1.11.4\n",
      "seaborn                   0.13.2\n",
      "Send2Trash                1.8.2\n",
      "setuptools                69.1.1\n",
      "six                       1.16.0\n",
      "smart-open                7.0.4\n",
      "sniffio                   1.3.1\n",
      "soupsieve                 2.5\n",
      "sparse                    0.15.1\n",
      "stack-data                0.6.2\n",
      "statsmodels               0.14.0\n",
      "tabulate                  0.9.0\n",
      "tenacity                  8.2.3\n",
      "terminado                 0.18.0\n",
      "threadpoolctl             3.3.0\n",
      "tinycss2                  1.2.1\n",
      "tomli                     2.0.1\n",
      "tornado                   6.4\n",
      "tqdm                      4.66.2\n",
      "traitlets                 5.14.1\n",
      "truststore                0.8.0\n",
      "types-python-dateutil     2.8.19.20240106\n",
      "typing_extensions         4.10.0\n",
      "typing-utils              0.1.0\n",
      "tzdata                    2023.3\n",
      "uri-template              1.3.0\n",
      "urllib3                   1.26.7\n",
      "virtualenv                20.25.1\n",
      "wcwidth                   0.2.13\n",
      "webcolors                 1.13\n",
      "webencodings              0.5.1\n",
      "websocket-client          1.7.0\n",
      "wheel                     0.42.0\n",
      "wikipedia                 1.4.0\n",
      "wrapt                     1.16.0\n",
      "yarg                      0.1.9\n",
      "zipp                      3.17.0\n",
      "zstandard                 0.22.0\n"
     ]
    }
   ],
   "source": [
    "!pip list"
   ]
  },
  {
   "cell_type": "markdown",
   "metadata": {},
   "source": [
    "Now let's find, install, and use a new package.\n",
    "\n",
    "[meteostat](https://pypi.org/project/meteostat/) looks interesting!\n",
    "\n",
    "> NB: Packages almost always have example code to get started"
   ]
  },
  {
   "cell_type": "code",
   "execution_count": 49,
   "metadata": {},
   "outputs": [
    {
     "name": "stdout",
     "output_type": "stream",
     "text": [
      "Requirement already satisfied: meteostat in /home/mjw/miniconda3/lib/python3.11/site-packages (1.6.8)\n",
      "Requirement already satisfied: pandas>=1.1 in /home/mjw/miniconda3/lib/python3.11/site-packages (from meteostat) (2.2.1)\n",
      "Requirement already satisfied: pytz in /home/mjw/miniconda3/lib/python3.11/site-packages (from meteostat) (2024.1)\n",
      "Requirement already satisfied: numpy in /home/mjw/miniconda3/lib/python3.11/site-packages (from meteostat) (1.26.4)\n",
      "Requirement already satisfied: python-dateutil>=2.8.2 in /home/mjw/miniconda3/lib/python3.11/site-packages (from pandas>=1.1->meteostat) (2.9.0)\n",
      "Requirement already satisfied: tzdata>=2022.7 in /home/mjw/miniconda3/lib/python3.11/site-packages (from pandas>=1.1->meteostat) (2023.3)\n",
      "Requirement already satisfied: six>=1.5 in /home/mjw/miniconda3/lib/python3.11/site-packages (from python-dateutil>=2.8.2->pandas>=1.1->meteostat) (1.16.0)\n"
     ]
    }
   ],
   "source": [
    "!pip install meteostat"
   ]
  },
  {
   "cell_type": "markdown",
   "metadata": {},
   "source": [
    "Let's run the the example code, but change the location for Milan and 2024"
   ]
  },
  {
   "cell_type": "code",
   "execution_count": 50,
   "metadata": {},
   "outputs": [
    {
     "name": "stderr",
     "output_type": "stream",
     "text": [
      "FutureWarning: Support for nested sequences for 'parse_dates' in pd.read_csv is deprecated. Combine the desired columns with pd.to_datetime after parsing instead.\n",
      "FutureWarning: Support for nested sequences for 'parse_dates' in pd.read_csv is deprecated. Combine the desired columns with pd.to_datetime after parsing instead.\n"
     ]
    },
    {
     "data": {
      "image/png": "[encoded data removed]",
      "text/plain": [
       "<Figure size 640x480 with 1 Axes>"
      ]
     },
     "metadata": {},
     "output_type": "display_data"
    }
   ],
   "source": [
    "# Import Meteostat library and dependencies\n",
    "from datetime import datetime\n",
    "import matplotlib.pyplot as plt\n",
    "from meteostat import Point, Daily\n",
    "\n",
    "# Set time period\n",
    "start = datetime(2024, 1, 1)\n",
    "end = datetime(2024, 12, 31)\n",
    "\n",
    "# Create Point for Milan, Italy\n",
    "location = Point(45.503, 9.162)\n",
    "\n",
    "# Get daily data for 2024\n",
    "data = Daily(location, start, end)\n",
    "data = data.fetch()\n",
    "\n",
    "# Plot line chart including average, minimum and maximum temperature\n",
    "data.plot(y=['tavg', 'tmin', 'tmax'])\n",
    "plt.show()"
   ]
  },
  {
   "cell_type": "markdown",
   "metadata": {},
   "source": [
    "`pip` will now show the new package, `meteostat`."
   ]
  },
  {
   "cell_type": "code",
   "execution_count": 51,
   "metadata": {},
   "outputs": [
    {
     "name": "stdout",
     "output_type": "stream",
     "text": [
      "Package                   Version\n",
      "------------------------- ---------------\n",
      "anyio                     4.3.0\n",
      "archspec                  0.2.3\n",
      "argon2-cffi               23.1.0\n",
      "argon2-cffi-bindings      21.2.0\n",
      "arrow                     1.3.0\n",
      "asttokens                 2.4.1\n",
      "async-lru                 2.0.4\n",
      "attrs                     23.2.0\n",
      "Babel                     2.14.0\n",
      "beautifulsoup4            4.12.3\n",
      "bibtexparser              1.4.1\n",
      "bleach                    6.1.0\n",
      "boltons                   23.1.1\n",
      "Brotli                    1.1.0\n",
      "cached-property           1.5.2\n",
      "certifi                   2021.10.8\n",
      "cffi                      1.16.0\n",
      "charset-normalizer        2.0.7\n",
      "colorama                  0.4.6\n",
      "comm                      0.2.1\n",
      "conda                     24.1.2\n",
      "conda-libmamba-solver     24.1.0\n",
      "conda-package-handling    2.2.0\n",
      "conda_package_streaming   0.9.0\n",
      "contourpy                 1.2.0\n",
      "cycler                    0.12.1\n",
      "daiquiri                  3.2.3\n",
      "dcor                      0.6\n",
      "debugpy                   1.8.1\n",
      "decorator                 5.1.1\n",
      "defusedxml                0.7.1\n",
      "distlib                   0.3.8\n",
      "distro                    1.9.0\n",
      "docopt                    0.6.2\n",
      "emd                       0.6.2\n",
      "entrypoints               0.4\n",
      "et-xmlfile                1.1.0\n",
      "exceptiongroup            1.2.0\n",
      "executing                 2.0.1\n",
      "fastjsonschema            2.19.1\n",
      "filelock                  3.13.4\n",
      "fonttools                 4.46.0\n",
      "fqdn                      1.5.1\n",
      "gensim                    4.3.2\n",
      "h11                       0.14.0\n",
      "h2                        4.1.0\n",
      "h5py                      3.10.0\n",
      "hpack                     4.0.0\n",
      "httpcore                  1.0.4\n",
      "httpx                     0.27.0\n",
      "hyperframe                6.0.1\n",
      "idna                      3.6\n",
      "importlib-metadata        7.0.1\n",
      "importlib_resources       6.1.2\n",
      "influxdb                  5.3.1\n",
      "influxdb-client           1.39.0\n",
      "ipykernel                 6.29.3\n",
      "ipython                   8.22.1\n",
      "isoduration               20.11.0\n",
      "jedi                      0.19.1\n",
      "Jinja2                    3.1.3\n",
      "joblib                    1.3.2\n",
      "json5                     0.9.18\n",
      "jsonpatch                 1.33\n",
      "jsonpointer               2.4\n",
      "jsonschema                4.21.1\n",
      "jsonschema-specifications 2023.12.1\n",
      "jupyter_client            7.4.9\n",
      "jupyter_core              5.7.1\n",
      "jupyter-events            0.9.0\n",
      "jupyter-lsp               2.2.3\n",
      "jupyter_server            2.12.5\n",
      "jupyter_server_terminals  0.5.2\n",
      "jupyterlab                4.1.2\n",
      "jupyterlab_pygments       0.3.0\n",
      "jupyterlab_server         2.25.3\n",
      "kaleido                   0.2.1\n",
      "kiwisolver                1.4.5\n",
      "libmambapy                1.5.6\n",
      "llvmlite                  0.41.1\n",
      "MarkupSafe                2.1.5\n",
      "matplotlib                3.8.2\n",
      "matplotlib-inline         0.1.6\n",
      "menuinst                  2.0.2\n",
      "meteostat                 1.6.8\n",
      "mistune                   3.0.2\n",
      "msgpack                   1.0.7\n",
      "mysql-connector           2.2.9\n",
      "nbclient                  0.8.0\n",
      "nbconvert                 7.16.1\n",
      "nbformat                  5.9.2\n",
      "nest_asyncio              1.6.0\n",
      "notebook                  7.0.6\n",
      "notebook_shim             0.2.4\n",
      "numba                     0.58.1\n",
      "numpy                     1.26.4\n",
      "openpyxl                  3.1.2\n",
      "overrides                 7.7.0\n",
      "packaging                 23.2\n",
      "pandas                    2.2.1\n",
      "pandocfilters             1.5.0\n",
      "parso                     0.8.3\n",
      "patsy                     0.5.4\n",
      "pexpect                   4.9.0\n",
      "pickleshare               0.7.5\n",
      "Pillow                    10.1.0\n",
      "pip                       24.0\n",
      "pipenv                    2023.12.1\n",
      "pipreqs                   0.4.13\n",
      "pkgutil_resolve_name      1.3.10\n",
      "platformdirs              4.2.0\n",
      "plotly                    5.18.0\n",
      "pluggy                    1.4.0\n",
      "prometheus_client         0.20.0\n",
      "prompt-toolkit            3.0.42\n",
      "psutil                    5.9.8\n",
      "ptyprocess                0.7.0\n",
      "PuLP                      2.8.0\n",
      "pure-eval                 0.2.2\n",
      "pvlib                     0.10.4\n",
      "pycosat                   0.6.6\n",
      "pycparser                 2.21\n",
      "pygame                    2.6.0\n",
      "Pygments                  2.17.2\n",
      "pyparsing                 3.1.1\n",
      "PySocks                   1.7.1\n",
      "python-dateutil           2.9.0\n",
      "python-json-logger        2.0.7\n",
      "pytz                      2024.1\n",
      "PyYAML                    6.0.1\n",
      "pyzmq                     24.0.1\n",
      "reactivex                 4.0.4\n",
      "referencing               0.33.0\n",
      "requests                  2.31.0\n",
      "rfc3339-validator         0.1.4\n",
      "rfc3986-validator         0.1.1\n",
      "rpds-py                   0.18.0\n",
      "ruamel.yaml               0.18.6\n",
      "ruamel.yaml.clib          0.2.8\n",
      "schedule                  1.2.1\n",
      "scikit-learn              1.4.1.post1\n",
      "scipy                     1.11.4\n",
      "seaborn                   0.13.2\n",
      "Send2Trash                1.8.2\n",
      "setuptools                69.1.1\n",
      "six                       1.16.0\n",
      "smart-open                7.0.4\n",
      "sniffio                   1.3.1\n",
      "soupsieve                 2.5\n",
      "sparse                    0.15.1\n",
      "stack-data                0.6.2\n",
      "statsmodels               0.14.0\n",
      "tabulate                  0.9.0\n",
      "tenacity                  8.2.3\n",
      "terminado                 0.18.0\n",
      "threadpoolctl             3.3.0\n",
      "tinycss2                  1.2.1\n",
      "tomli                     2.0.1\n",
      "tornado                   6.4\n",
      "tqdm                      4.66.2\n",
      "traitlets                 5.14.1\n",
      "truststore                0.8.0\n",
      "types-python-dateutil     2.8.19.20240106\n",
      "typing_extensions         4.10.0\n",
      "typing-utils              0.1.0\n",
      "tzdata                    2023.3\n",
      "uri-template              1.3.0\n",
      "urllib3                   1.26.7\n",
      "virtualenv                20.25.1\n",
      "wcwidth                   0.2.13\n",
      "webcolors                 1.13\n",
      "webencodings              0.5.1\n",
      "websocket-client          1.7.0\n",
      "wheel                     0.42.0\n",
      "wikipedia                 1.4.0\n",
      "wrapt                     1.16.0\n",
      "yarg                      0.1.9\n",
      "zipp                      3.17.0\n",
      "zstandard                 0.22.0\n"
     ]
    }
   ],
   "source": [
    "!pip list"
   ]
  },
  {
   "cell_type": "markdown",
   "metadata": {},
   "source": [
    "## Environment\n",
    "\n",
    "<img src=\"https://github.com/woodjmichael/PV-based-systems-lab/blob/main/conda.png?raw=true\" width=\"600\">\n",
    "\n",
    "The **environment** is what is sounds like: all the installed packages and other code we might use.\n",
    "\n",
    "Managing the environment is hard. Why?\n",
    "- We tend to use many different packages (and each package uses many sub-packages)\n",
    "- Also the packages are constantly being updated, and they aren't always compatible\n",
    "- So we need to manage which version of which package we have, and \"solve\" compatability problems\n",
    "\n",
    "There are different approaches to this problem.\n",
    "- For example with the `tensorflow` package we often use two environment tools:\n",
    "  - `conda`\n",
    "  -  `pip`\n",
    "\n",
    "Last, we don't often have one fixed environment on a computer, but different _virtual_ environments.\n"
   ]
  },
  {
   "cell_type": "markdown",
   "metadata": {},
   "source": [
    "# Matrix Algebra and Parallelization\n",
    "\n",
    "\n",
    "Machine learning and AI, at their cores, involve lots of linear algebra, especially matrix multiplication and addition.\n",
    "\n",
    "For example, the forward pass of a 6-unit artificial neural network with an input vector of length 24 requires multiplying a matrix $A$ with dimension $24\\times6$ and adding to a vector of length $24$. \n",
    "\n",
    "A normal computer's **CPU** will do each of $24\\times6=144$ multiplications in series. For large matrices (large models have billions of parameters) this would be far too slow, especially for training when the multiplication is done many, many times.\n",
    "\n",
    "Rather, a **GPU** is a specialized chip which does much of the matrix multiplication in parallel. Original GPUs were developed for graphics, which also involves algebra with large matrices and needs to be fast. Now the foremost manufacturer NVIDIA is known for being a critical technology for AI development.\n",
    "\n",
    "There are many layers of code which have to work perfectly with the GPU hardware to perform well. GPUs are expensive and power hungry, and CPU multi-threading is improving quickly. However the benefit of GPU parallelization can be 5-20x faster model training.\n",
    "\n",
    "Parallelization refers to large computing jobs where many CPUs or GPUs are required. \n",
    "\n",
    "<img src=\"https://github.com/woodjmichael/PV-based-systems-lab/blob/main/gpu.gif?raw=true\" width=\"600\">"
   ]
  },
  {
   "cell_type": "markdown",
   "metadata": {},
   "source": [
    "# Code Project\n",
    "\n",
    "If we have time we'll make a new module with the conductor class and then import it into Colab."
   ]
  }
 ],
 "metadata": {
  "kernelspec": {
   "display_name": "base",
   "language": "python",
   "name": "python3"
  },
  "language_info": {
   "codemirror_mode": {
    "name": "ipython",
    "version": 3
   },
   "file_extension": ".py",
   "mimetype": "text/x-python",
   "name": "python",
   "nbconvert_exporter": "python",
   "pygments_lexer": "ipython3",
   "version": "3.11.0"
  }
 },
 "nbformat": 4,
 "nbformat_minor": 2
}
