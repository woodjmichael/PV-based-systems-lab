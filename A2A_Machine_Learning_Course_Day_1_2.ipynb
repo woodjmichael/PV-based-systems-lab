{
  "cells": [
    {
      "cell_type": "markdown",
      "metadata": {
        "id": "view-in-github",
        "colab_type": "text"
      },
      "source": [
        "<a href=\"https://colab.research.google.com/github/woodjmichael/PV-based-systems-lab/blob/main/A2A_Machine_Learning_Course_Day_1_2.ipynb\" target=\"_parent\"><img src=\"https://colab.research.google.com/assets/colab-badge.svg\" alt=\"Open In Colab\"/></a>"
      ]
    },
    {
      "cell_type": "markdown",
      "metadata": {
        "id": "wjXO2-Nyl6OS"
      },
      "source": [
        "# Introduction to Python\n",
        "\n",
        "<img src=\"https://www.mrtfuelcell.polimi.it/images/logo_poli.jpg\" height=\"200\">\n",
        "\n",
        "\n",
        "<img src=\"https://upload.wikimedia.org/wikipedia/commons/f/f8/Python_logo_and_wordmark.svg\" height=\"150\">"
      ]
    },
    {
      "cell_type": "markdown",
      "metadata": {
        "id": "9uPGt8hil6OU"
      },
      "source": [
        "## Outline\n",
        "\n",
        "1. What _is_ a Jupyter notebook?\n",
        "2. What _is_ Google Colab?\n",
        "3. What _is_ python?\n",
        "4. Environment\n",
        "5. Numpy\n",
        "6. Matrix Math and Parallelization\n",
        "7. Simple code project\n",
        "\n",
        "\n",
        "## Learning Objectives\n",
        "\n",
        "- The difference between the python langugae and interpreter\n",
        "- Basic syntax for variables, flow control, and using packages\n",
        "- Understand how packages are made and function\n",
        "- See the challenges of environment management and matrix multiplication\n",
        "- See the importance of code documentation"
      ]
    },
    {
      "cell_type": "markdown",
      "metadata": {
        "id": "y25Fl5uhl6OU"
      },
      "source": [
        "## Terms\n",
        "\n",
        "Text in **bold** will appear here.\n",
        "\n",
        "Like in many areas of tech and science, there is a simple informal language and a more precise formal one.\n",
        "\n",
        "| Informal EN | Informale IT | Technical | Description |\n",
        "| --- | --- | --- | --- |\n",
        "| File/Code | Codice | Script, source | A file of python commands which can be run directly |\n",
        "| Folder | Cartella | Directory | Location on a computer |\n",
        "| Run | Girare | Execute | Read and act on each line of python code |\n",
        "| Program (python) | App (pitone) | Interpreter (python) | The program which compiles and runs python code on a computer |\n",
        "| Notebook | Notebook | Jupyter Notebook | Document containing both executable code and rich text |\n",
        "| Is | È | Assignment | Saving data in a variable |\n",
        "| Error | Errore | Exception | The reason why a code couldn't run |\n",
        "| -- | -- | Type | Python objects always have a type, like a list or float |\n",
        "| -- | -- | Object | A data type which contains both data and code |\n",
        "| -- | -- | Function | Selection of code that can be run simply by calling the function name |\n",
        "| -- | -- | Class | A use-defined object type which contains both data and code (methods) |\n",
        "| -- | -- | Method | A function inside a class |\n",
        "| -- | -- | Initialize | Create a new object from a class |\n",
        "| -- | -- | Environment |\n",
        "| -- | -- | Module | A code file which isn't run directly but is imported into your main script |\n",
        "| -- | -- | Package | A folder containing many related modules, like `tensorflow` |\n",
        "| -- | -- | Library | Usually refers to the set of packages used for a particular application |\n"
      ]
    },
    {
      "cell_type": "markdown",
      "metadata": {
        "id": "eeCe9K_zl6OU"
      },
      "source": [
        "# What _is_ a Jupyter notebook?\n",
        "\n",
        "<img src=\"https://github.com/woodjmichael/PV-based-systems-lab/blob/main/jupyter.png?raw=true\" width=\"200\">\n",
        "\n",
        "\n",
        "Well, it's this!\n",
        "\n",
        "A Jupyter **notebook** combines together in one file:\n",
        "- Human-friendly text, tables, and images\n",
        "- **Code** that you can **run** directly\n",
        "\n",
        "Notebooks are great for learning and experiments.\n",
        "\n",
        "\"Production\" software (e.g. Chrome) is usually not in a notebook.\n",
        "\n",
        "This is a text, or \"Markdown\", block."
      ]
    },
    {
      "cell_type": "code",
      "execution_count": 1,
      "metadata": {
        "colab": {
          "base_uri": "https://localhost:8080/"
        },
        "id": "PkClDz9Hl6OV",
        "outputId": "ca4ee825-4de3-49e1-80a8-f1294495d110"
      },
      "outputs": [
        {
          "output_type": "execute_result",
          "data": {
            "text/plain": [
              "42"
            ]
          },
          "metadata": {},
          "execution_count": 1
        }
      ],
      "source": [
        "# this is a code block\n",
        "# click the arrow on the left to run it\n",
        "6*7"
      ]
    },
    {
      "cell_type": "markdown",
      "metadata": {
        "id": "vA4Z_85kl6OV"
      },
      "source": [
        "# What _is_ Google Colab?\n",
        "\n",
        "<img src=\"https://github.com/woodjmichael/PV-based-systems-lab/blob/main/colab.jpg?raw=true\" width=\"200\">\n",
        "<br>\n",
        "<img src=\"https://github.com/woodjmichael/PV-based-systems-lab/blob/main/colab.png?raw=true\" width=\"700\">\n",
        "\n",
        "Well, it's also this!\n",
        "\n",
        "Colab (Colaboratory) lets you run code on extra Google cloud computers in a Jupyter notebook.\n",
        "\n",
        "Its great for learning and small experiments.\n",
        "\n",
        "But you can't run code for many hours, especially if using a GPU."
      ]
    },
    {
      "cell_type": "markdown",
      "metadata": {
        "id": "RMLtM0d1l6OW"
      },
      "source": [
        "# What _is_ python?\n",
        "\n",
        "<img src=\"https://upload.wikimedia.org/wikipedia/commons/thumb/a/a3/Monty_Python_Live_02-07-14_12_56_41_%2814415567757%29.jpg/1280px-Monty_Python_Live_02-07-14_12_56_41_%2814415567757%29.jpg\" width=\"400\">\n",
        "\n",
        "_From the Ministry of Silly Walks by Monty Python_\n",
        "\n",
        "<!-- <img src=\"https://github.com/woodjmichael/PV-based-systems-lab/blob/main/python.png?raw=true\" width=\"300\"> -->\n",
        "\n",
        "<!-- <img src=\"https://upload.wikimedia.org/wikipedia/commons/8/8e/Monty_Python_Live_02-07-14_13_04_42_%2814598710791%29.jpg\" width=\"300\"> -->\n",
        "\n",
        "\n",
        "It's really two different things:\n",
        "1. A programming **language** (like C)\n",
        "2. An **interpreter** program to run `.py` files written in python"
      ]
    },
    {
      "cell_type": "markdown",
      "metadata": {
        "id": "ABn6QfnWl6OW"
      },
      "source": [
        "## Language\n",
        "\n",
        "Python can be easily readable in english:\n",
        "\n",
        "```python\n",
        "while max(y) < 10 and iteration < 10:\n",
        "    if x is in valid_inputs:\n",
        "        y.append(x)\n",
        "    else:\n",
        "        raise ValueError\n",
        "    iteration += 1\n",
        "```\n",
        "\n",
        "And when used **objectively** complex operations can quickly make sense.\n",
        "\n",
        "```python\n",
        "data_upsampled = data_raw.dropna().resample('1h').interpolate(method='linear')\n",
        "```\n",
        "\n",
        "Below is a valid command in python, which prints the canonical \"Zen of Python.\""
      ]
    },
    {
      "cell_type": "code",
      "execution_count": 2,
      "metadata": {
        "colab": {
          "base_uri": "https://localhost:8080/"
        },
        "id": "6GPmSIMVl6OW",
        "outputId": "00352d08-2053-4dda-eeb9-a90874ee9b69"
      },
      "outputs": [
        {
          "output_type": "stream",
          "name": "stdout",
          "text": [
            "The Zen of Python, by Tim Peters\n",
            "\n",
            "Beautiful is better than ugly.\n",
            "Explicit is better than implicit.\n",
            "Simple is better than complex.\n",
            "Complex is better than complicated.\n",
            "Flat is better than nested.\n",
            "Sparse is better than dense.\n",
            "Readability counts.\n",
            "Special cases aren't special enough to break the rules.\n",
            "Although practicality beats purity.\n",
            "Errors should never pass silently.\n",
            "Unless explicitly silenced.\n",
            "In the face of ambiguity, refuse the temptation to guess.\n",
            "There should be one-- and preferably only one --obvious way to do it.\n",
            "Although that way may not be obvious at first unless you're Dutch.\n",
            "Now is better than never.\n",
            "Although never is often better than *right* now.\n",
            "If the implementation is hard to explain, it's a bad idea.\n",
            "If the implementation is easy to explain, it may be a good idea.\n",
            "Namespaces are one honking great idea -- let's do more of those!\n"
          ]
        }
      ],
      "source": [
        "import this"
      ]
    },
    {
      "cell_type": "markdown",
      "metadata": {
        "id": "ZVKNXcMXl6OX"
      },
      "source": [
        "If the syntax (sintassi) is wrong the computer won't understand."
      ]
    },
    {
      "cell_type": "code",
      "execution_count": 3,
      "metadata": {
        "colab": {
          "base_uri": "https://localhost:8080/",
          "height": 108
        },
        "id": "MvQbXF18l6OY",
        "outputId": "74b9707b-152f-433a-ba84-e0e21d71e348"
      },
      "outputs": [
        {
          "output_type": "error",
          "ename": "SyntaxError",
          "evalue": "incomplete input (<ipython-input-3-1dca0fff4ad6>, line 1)",
          "traceback": [
            "\u001b[0;36m  File \u001b[0;32m\"<ipython-input-3-1dca0fff4ad6>\"\u001b[0;36m, line \u001b[0;32m1\u001b[0m\n\u001b[0;31m    print('hello!'\u001b[0m\n\u001b[0m                  ^\u001b[0m\n\u001b[0;31mSyntaxError\u001b[0m\u001b[0;31m:\u001b[0m incomplete input\n"
          ]
        }
      ],
      "source": [
        "print('hello!'"
      ]
    },
    {
      "cell_type": "markdown",
      "metadata": {
        "id": "EVJKdsl7l6OY"
      },
      "source": [
        "Try to fix the above command. What's missing?\n",
        "\n",
        "Feel free to experiment with the code, you can't hurt anything."
      ]
    },
    {
      "cell_type": "markdown",
      "metadata": {
        "id": "QNDlhgYIl6OY"
      },
      "source": [
        "### Operations\n",
        "\n",
        "Math operations, basically.\n",
        "\n",
        "This **assignment** always takes what is on the right side of `=` and saves it in the left side.\n",
        "\n",
        "`I` _is_ `5`."
      ]
    },
    {
      "cell_type": "code",
      "execution_count": 4,
      "metadata": {
        "id": "-GmQH9k0l6OY"
      },
      "outputs": [],
      "source": [
        "I=5     # current\n",
        "R=0.01  # resistence"
      ]
    },
    {
      "cell_type": "markdown",
      "metadata": {
        "id": "9JsMuNRXl6OZ"
      },
      "source": [
        "Comments begin with `#` and don't do anything.\n",
        "\n",
        "In a notebook, simply typing a variable _in the last line_ of a code block displays it."
      ]
    },
    {
      "cell_type": "code",
      "execution_count": 5,
      "metadata": {
        "colab": {
          "base_uri": "https://localhost:8080/"
        },
        "id": "CdADg0D8l6OZ",
        "outputId": "ec878f2e-19e1-44db-867b-c473d9224a8c"
      },
      "outputs": [
        {
          "output_type": "execute_result",
          "data": {
            "text/plain": [
              "5"
            ]
          },
          "metadata": {},
          "execution_count": 5
        }
      ],
      "source": [
        "# I is 5\n",
        "I"
      ]
    },
    {
      "cell_type": "markdown",
      "metadata": {
        "id": "MFFmvUdkl6OZ"
      },
      "source": [
        "Arithmetic: $+,-,/,*,$ and $**$ for exponents.\n",
        "\n",
        "The notebook remembers `I` and `R`, and anything else we already ran above."
      ]
    },
    {
      "cell_type": "code",
      "execution_count": 6,
      "metadata": {
        "colab": {
          "base_uri": "https://localhost:8080/"
        },
        "id": "MNabmF6el6OZ",
        "outputId": "afbe8660-01fb-47ff-b0b7-428eed2a681f"
      },
      "outputs": [
        {
          "output_type": "execute_result",
          "data": {
            "text/plain": [
              "0.25"
            ]
          },
          "metadata": {},
          "execution_count": 6
        }
      ],
      "source": [
        "power = I**2 * R\n",
        "power"
      ]
    },
    {
      "cell_type": "markdown",
      "metadata": {
        "id": "zkKiWFw6l6OZ"
      },
      "source": [
        "Logic: $<,>,<=,>=,==$ (equal to), $!=$ (not equal to).\n",
        "\n",
        "Also `and`, `not`, and `or`."
      ]
    },
    {
      "cell_type": "code",
      "execution_count": 7,
      "metadata": {
        "colab": {
          "base_uri": "https://localhost:8080/"
        },
        "id": "eXO77nXxl6OZ",
        "outputId": "82e0f5a9-c4d7-4cef-9040-363f7a19fdee"
      },
      "outputs": [
        {
          "output_type": "execute_result",
          "data": {
            "text/plain": [
              "False"
            ]
          },
          "metadata": {},
          "execution_count": 7
        }
      ],
      "source": [
        "power == I"
      ]
    },
    {
      "cell_type": "code",
      "execution_count": 8,
      "metadata": {
        "colab": {
          "base_uri": "https://localhost:8080/"
        },
        "id": "UHiPgyAml6OZ",
        "outputId": "02559934-d9b4-4e1f-9d46-3b755decc07d"
      },
      "outputs": [
        {
          "output_type": "execute_result",
          "data": {
            "text/plain": [
              "True"
            ]
          },
          "metadata": {},
          "execution_count": 8
        }
      ],
      "source": [
        "(R <= 1) or (R >= 1)"
      ]
    },
    {
      "cell_type": "markdown",
      "metadata": {
        "id": "4VOu-42Dl6OZ"
      },
      "source": [
        "### Objects\n",
        "\n",
        "Each **object** in python has a **type**, like a float (32-bit floating point number)."
      ]
    },
    {
      "cell_type": "code",
      "execution_count": 9,
      "metadata": {
        "colab": {
          "base_uri": "https://localhost:8080/"
        },
        "id": "oU9VU9Nyl6OZ",
        "outputId": "97f1319b-3878-4d24-a448-f1876c16daf9"
      },
      "outputs": [
        {
          "output_type": "execute_result",
          "data": {
            "text/plain": [
              "float"
            ]
          },
          "metadata": {},
          "execution_count": 9
        }
      ],
      "source": [
        "type(R)"
      ]
    },
    {
      "cell_type": "markdown",
      "metadata": {
        "id": "_mLYCTRNl6Oa"
      },
      "source": [
        "#### String\n",
        "\n",
        "A string (type \"str\") is just text."
      ]
    },
    {
      "cell_type": "code",
      "execution_count": 10,
      "metadata": {
        "colab": {
          "base_uri": "https://localhost:8080/"
        },
        "id": "TYdl459cl6Oa",
        "outputId": "0ac83230-0942-44c1-de29-00c689975b39"
      },
      "outputs": [
        {
          "output_type": "execute_result",
          "data": {
            "text/plain": [
              "str"
            ]
          },
          "metadata": {},
          "execution_count": 10
        }
      ],
      "source": [
        "coin = 'Dogecoin'\n",
        "type(coin)"
      ]
    },
    {
      "cell_type": "markdown",
      "metadata": {
        "id": "RBZyowNel6Oa"
      },
      "source": [
        "Most list operations (see below) can be done on a string."
      ]
    },
    {
      "cell_type": "code",
      "execution_count": 11,
      "metadata": {
        "colab": {
          "base_uri": "https://localhost:8080/",
          "height": 35
        },
        "id": "e3ckXBS9l6Oa",
        "outputId": "8be10012-87b7-4231-9aa2-079f93b8e12e"
      },
      "outputs": [
        {
          "output_type": "execute_result",
          "data": {
            "text/plain": [
              "'D'"
            ],
            "application/vnd.google.colaboratory.intrinsic+json": {
              "type": "string"
            }
          },
          "metadata": {},
          "execution_count": 11
        }
      ],
      "source": [
        "coin[0]"
      ]
    },
    {
      "cell_type": "markdown",
      "metadata": {
        "id": "ECWtCmMVl6Oa"
      },
      "source": [
        "#### List\n",
        "\n",
        "A list is a series of the same object:"
      ]
    },
    {
      "cell_type": "code",
      "execution_count": 12,
      "metadata": {
        "colab": {
          "base_uri": "https://localhost:8080/"
        },
        "id": "gZ3apYQFl6Oa",
        "outputId": "fd0d23c6-3c20-4c86-9a6d-5955608ecd07"
      },
      "outputs": [
        {
          "output_type": "execute_result",
          "data": {
            "text/plain": [
              "['Dogecoin', 'Bitcoin', 'Ethereum', 'Litecoin']"
            ]
          },
          "metadata": {},
          "execution_count": 12
        }
      ],
      "source": [
        "coins = ['Dogecoin','Bitcoin','Ethereum'] + ['Litecoin'] # concatenate\n",
        "coins"
      ]
    },
    {
      "cell_type": "markdown",
      "metadata": {
        "id": "0dVVes32l6Ob"
      },
      "source": [
        "Read the first item in the list:\n",
        "\n",
        ">NB: Python is \"zero-indexed,\" so the first value is always \"number 0\""
      ]
    },
    {
      "cell_type": "code",
      "execution_count": 13,
      "metadata": {
        "colab": {
          "base_uri": "https://localhost:8080/",
          "height": 35
        },
        "id": "7tmstDg-l6Ob",
        "outputId": "d71b290a-6a0c-40a5-9c17-ec22632b4b8d"
      },
      "outputs": [
        {
          "output_type": "execute_result",
          "data": {
            "text/plain": [
              "'Dogecoin'"
            ],
            "application/vnd.google.colaboratory.intrinsic+json": {
              "type": "string"
            }
          },
          "metadata": {},
          "execution_count": 13
        }
      ],
      "source": [
        "coins[0]"
      ]
    },
    {
      "cell_type": "markdown",
      "metadata": {
        "id": "EL4uvbYAl6Ob"
      },
      "source": [
        "Edit an item:"
      ]
    },
    {
      "cell_type": "code",
      "execution_count": 14,
      "metadata": {
        "colab": {
          "base_uri": "https://localhost:8080/"
        },
        "id": "aB0srwa1l6Ob",
        "outputId": "16e752e9-c6a3-456f-96df-c39fbb735d21"
      },
      "outputs": [
        {
          "output_type": "execute_result",
          "data": {
            "text/plain": [
              "['Dogecoin', 'Avalanche', 'Ethereum', 'Litecoin']"
            ]
          },
          "metadata": {},
          "execution_count": 14
        }
      ],
      "source": [
        "coins[1] = 'Avalanche'\n",
        "coins"
      ]
    },
    {
      "cell_type": "markdown",
      "metadata": {
        "id": "r98STvSNl6Ob"
      },
      "source": [
        "Add to the list"
      ]
    },
    {
      "cell_type": "code",
      "execution_count": 15,
      "metadata": {
        "colab": {
          "base_uri": "https://localhost:8080/"
        },
        "id": "pCfaKRdNl6Ob",
        "outputId": "394c3773-c38c-4619-cf38-3a0b9ee6cc54"
      },
      "outputs": [
        {
          "output_type": "execute_result",
          "data": {
            "text/plain": [
              "['Dogecoin', 'Avalanche', 'Ethereum', 'Litecoin', 'Dogecoin']"
            ]
          },
          "metadata": {},
          "execution_count": 15
        }
      ],
      "source": [
        "coins.append('Dogecoin')\n",
        "coins"
      ]
    },
    {
      "cell_type": "markdown",
      "metadata": {
        "id": "eacMuT10l6Oc"
      },
      "source": [
        "Remove from the list"
      ]
    },
    {
      "cell_type": "code",
      "execution_count": 16,
      "metadata": {
        "colab": {
          "base_uri": "https://localhost:8080/"
        },
        "id": "FTsTlCnzl6Oc",
        "outputId": "43d59909-5a3e-431a-e73c-79bb9b85ce52"
      },
      "outputs": [
        {
          "output_type": "execute_result",
          "data": {
            "text/plain": [
              "['Dogecoin', 'Avalanche', 'Litecoin', 'Dogecoin']"
            ]
          },
          "metadata": {},
          "execution_count": 16
        }
      ],
      "source": [
        "coins.remove('Ethereum')\n",
        "coins"
      ]
    },
    {
      "cell_type": "markdown",
      "metadata": {
        "id": "9XfD-B8Ul6Oc"
      },
      "source": [
        "It's easy to do a small operation on every item in a list:"
      ]
    },
    {
      "cell_type": "code",
      "execution_count": 17,
      "metadata": {
        "colab": {
          "base_uri": "https://localhost:8080/"
        },
        "id": "wk7tqhWsl6Oc",
        "outputId": "a2ef2507-449b-4f19-9f2b-216cbc2a7760"
      },
      "outputs": [
        {
          "output_type": "execute_result",
          "data": {
            "text/plain": [
              "[8, 9, 8, 8]"
            ]
          },
          "metadata": {},
          "execution_count": 17
        }
      ],
      "source": [
        "coins_length = [len(coin) for coin in coins]\n",
        "coins_length"
      ]
    },
    {
      "cell_type": "markdown",
      "metadata": {
        "id": "KciPR_eHl6Oc"
      },
      "source": [
        "#### Dictionary\n",
        "\n",
        "This is maybe the most powerful and common standard python object.\n",
        "\n",
        "It's a kind of list with three main differences:\n",
        "- The index is usually string *keys* instead of integer *index* values\n",
        "- In each item of the dictionary you can put whatever you want\n",
        "- We use `{` instead of `[`, but still `[` to access items"
      ]
    },
    {
      "cell_type": "code",
      "execution_count": 18,
      "metadata": {
        "colab": {
          "base_uri": "https://localhost:8080/"
        },
        "id": "XBzBYm-7l6Oc",
        "outputId": "30952613-0207-4907-a781-bb49b629d509"
      },
      "outputs": [
        {
          "output_type": "execute_result",
          "data": {
            "text/plain": [
              "0.08"
            ]
          },
          "metadata": {},
          "execution_count": 18
        }
      ],
      "source": [
        "coin_value = {'Bitcoin':48625.24,'Ethereum':2010.17,'Dogecoin':0.08}\n",
        "coin_value['Dogecoin']"
      ]
    },
    {
      "cell_type": "markdown",
      "metadata": {
        "id": "AHS4VMTgl6Oe"
      },
      "source": [
        "### Flow Control\n",
        "\n",
        "A big challenge in programming is controlling what code runs given input X or condition Y.\n",
        "\n",
        "For example you might want a code to only run once a day at midnight."
      ]
    },
    {
      "cell_type": "markdown",
      "metadata": {
        "id": "0vU3sSZKl6Oe"
      },
      "source": [
        "#### For\n",
        "\n",
        "Sometimes we want to run some code many times.\n",
        "\n",
        "`range(N)` creates a list of integers starting at `0`, with length `N`.\n",
        "\n",
        "This `for` loop will run 6 times:"
      ]
    },
    {
      "cell_type": "code",
      "execution_count": 19,
      "metadata": {
        "colab": {
          "base_uri": "https://localhost:8080/"
        },
        "id": "-uyX3vUIl6Oe",
        "outputId": "11f3aa84-29e1-4084-e630-8b87fcef67ec"
      },
      "outputs": [
        {
          "output_type": "stream",
          "name": "stdout",
          "text": [
            "0 hello!\n",
            "1 hello!\n",
            "2 hello!\n",
            "3 hello!\n",
            "4 hello!\n",
            "5 hello!\n"
          ]
        }
      ],
      "source": [
        "for i in range(6):\n",
        "    print(i,'hello!')"
      ]
    },
    {
      "cell_type": "markdown",
      "metadata": {
        "id": "clIPXlXll6Oe"
      },
      "source": [
        "Often we want to access each item `in` something:"
      ]
    },
    {
      "cell_type": "code",
      "execution_count": 20,
      "metadata": {
        "colab": {
          "base_uri": "https://localhost:8080/"
        },
        "id": "MdUorfR8l6Oe",
        "outputId": "c9cc0496-ca24-4998-af73-10ba36edb8cb"
      },
      "outputs": [
        {
          "output_type": "stream",
          "name": "stdout",
          "text": [
            "h\n",
            "e\n",
            "l\n",
            "l\n",
            "o\n",
            "!\n"
          ]
        }
      ],
      "source": [
        "for s in 'hello!':\n",
        "    print(s)"
      ]
    },
    {
      "cell_type": "markdown",
      "metadata": {
        "id": "Lil0duB-l6Oe"
      },
      "source": [
        "And if you want the index `i`:"
      ]
    },
    {
      "cell_type": "code",
      "execution_count": 21,
      "metadata": {
        "colab": {
          "base_uri": "https://localhost:8080/"
        },
        "id": "iySbaqM2l6Oe",
        "outputId": "da7453bd-7f54-4765-be5b-af0bb78fdaeb"
      },
      "outputs": [
        {
          "output_type": "stream",
          "name": "stdout",
          "text": [
            "0 h\n",
            "1 e\n",
            "2 l\n",
            "3 l\n",
            "4 o\n",
            "5 !\n"
          ]
        }
      ],
      "source": [
        "for i,s in enumerate('hello!'):\n",
        "    print(i,s)"
      ]
    },
    {
      "cell_type": "markdown",
      "metadata": {
        "id": "j1IxdB22l6Of"
      },
      "source": [
        "#### If.. Else"
      ]
    },
    {
      "cell_type": "markdown",
      "metadata": {
        "id": "QTnjUQBOl6Of"
      },
      "source": [
        "Other times we want to only run based on a condition."
      ]
    },
    {
      "cell_type": "code",
      "execution_count": 22,
      "metadata": {
        "colab": {
          "base_uri": "https://localhost:8080/"
        },
        "id": "OC3qYt1ml6Of",
        "outputId": "ebd9661f-f300-4e4a-ad3f-d809616dfc31"
      },
      "outputs": [
        {
          "output_type": "stream",
          "name": "stdout",
          "text": [
            "its true!\n"
          ]
        }
      ],
      "source": [
        "if 5<10:\n",
        "    print('its true!')"
      ]
    },
    {
      "cell_type": "markdown",
      "metadata": {
        "id": "XNlAI49Fl6Of"
      },
      "source": [
        "### Functions\n",
        "\n",
        "Code we use often can be saved in a function and then *called*.\n",
        "\n",
        "<img src=\"https://github.com/woodjmichael/PV-based-systems-lab/blob/main/function.png?raw=true\" width=\"600\">"
      ]
    },
    {
      "cell_type": "code",
      "execution_count": 23,
      "metadata": {
        "id": "dyNL7X7ll6Of"
      },
      "outputs": [],
      "source": [
        "def calculate_power(resistance, current):\n",
        "    return current**2 * resistance"
      ]
    },
    {
      "cell_type": "markdown",
      "metadata": {
        "id": "dTN5ViBUl6Of"
      },
      "source": [
        "Now call the function with inputs"
      ]
    },
    {
      "cell_type": "code",
      "execution_count": 24,
      "metadata": {
        "colab": {
          "base_uri": "https://localhost:8080/"
        },
        "id": "Urn2eloll6Of",
        "outputId": "a6537fdc-62e5-4e1f-e35b-cb9cb82476b5"
      },
      "outputs": [
        {
          "output_type": "execute_result",
          "data": {
            "text/plain": [
              "0.25"
            ]
          },
          "metadata": {},
          "execution_count": 24
        }
      ],
      "source": [
        "calculate_power(resistance=0.01, current=5)"
      ]
    },
    {
      "cell_type": "markdown",
      "metadata": {
        "id": "60v8WvN_l6Og"
      },
      "source": [
        "### Classes\n",
        "\n",
        "Classes a kind of super function, often making cleaner code with fewer mistakes.\n",
        "\n",
        "Usually we **initialize** the class with some data or attributes.\n",
        "\n",
        "Then we can call functions specific to the class, which we call **methods**."
      ]
    },
    {
      "cell_type": "code",
      "execution_count": 25,
      "metadata": {
        "id": "Zqe9hlnwl6Og"
      },
      "outputs": [],
      "source": [
        "class Conductor():\n",
        "    def __init__(self, resistance):\n",
        "        self.resistance = resistance\n",
        "    def calc_loss(self,current):\n",
        "        return current**2 * self.resistance"
      ]
    },
    {
      "cell_type": "markdown",
      "metadata": {
        "id": "YB6XplIPl6Og"
      },
      "source": [
        "First we need to initialize a new object from the class. We say it is a `Conductor` type."
      ]
    },
    {
      "cell_type": "code",
      "execution_count": 26,
      "metadata": {
        "colab": {
          "base_uri": "https://localhost:8080/",
          "height": 104
        },
        "id": "acAlbTVjl6Og",
        "outputId": "7df3b3cf-be02-46c2-9b49-85b5ff809b46"
      },
      "outputs": [
        {
          "output_type": "execute_result",
          "data": {
            "text/plain": [
              "__main__.Conductor"
            ],
            "text/html": [
              "<div style=\"max-width:800px; border: 1px solid var(--colab-border-color);\"><style>\n",
              "      pre.function-repr-contents {\n",
              "        overflow-x: auto;\n",
              "        padding: 8px 12px;\n",
              "        max-height: 500px;\n",
              "      }\n",
              "\n",
              "      pre.function-repr-contents.function-repr-contents-collapsed {\n",
              "        cursor: pointer;\n",
              "        max-height: 100px;\n",
              "      }\n",
              "    </style>\n",
              "    <pre style=\"white-space: initial; background:\n",
              "         var(--colab-secondary-surface-color); padding: 8px 12px;\n",
              "         border-bottom: 1px solid var(--colab-border-color);\"><b>Conductor</b><br/>def __init__(resistance)</pre><pre class=\"function-repr-contents function-repr-contents-collapsed\" style=\"\"><a class=\"filepath\" style=\"display:none\" href=\"#\"></a>&lt;no docstring&gt;</pre></div>"
            ]
          },
          "metadata": {},
          "execution_count": 26
        }
      ],
      "source": [
        "line1 = Conductor(resistance=0.01)\n",
        "type(line1)"
      ]
    },
    {
      "cell_type": "markdown",
      "metadata": {
        "id": "8d8z_S53l6Og"
      },
      "source": [
        "Then we can use the object and any of it's `def` methods."
      ]
    },
    {
      "cell_type": "code",
      "execution_count": 27,
      "metadata": {
        "colab": {
          "base_uri": "https://localhost:8080/"
        },
        "id": "7cH0KV6Ul6Oh",
        "outputId": "ac22bb9b-8c97-4671-fc03-17f3c30da3ec"
      },
      "outputs": [
        {
          "output_type": "execute_result",
          "data": {
            "text/plain": [
              "0.25"
            ]
          },
          "metadata": {},
          "execution_count": 27
        }
      ],
      "source": [
        "line1.calc_loss(current=5)"
      ]
    },
    {
      "cell_type": "code",
      "execution_count": 28,
      "metadata": {
        "colab": {
          "base_uri": "https://localhost:8080/"
        },
        "id": "c4A37ZBJl6Oh",
        "outputId": "a34d71f6-8a85-4656-fb38-1e8dff8872ae"
      },
      "outputs": [
        {
          "output_type": "execute_result",
          "data": {
            "text/plain": [
              "1.0"
            ]
          },
          "metadata": {},
          "execution_count": 28
        }
      ],
      "source": [
        "line1.calc_loss(current=10)"
      ]
    },
    {
      "cell_type": "markdown",
      "metadata": {
        "id": "UKQe5vBMl6Oh"
      },
      "source": [
        "### Documentation\n",
        "\n",
        "Good documentation reduces errors and the time to fix ones that do happen.\n",
        "\n",
        "It is *extremely* helpful for your future self or a colleague.\n",
        "\n",
        "What happens if we pass an invalid input, like a string? An unexpected error."
      ]
    },
    {
      "cell_type": "code",
      "execution_count": 29,
      "metadata": {
        "colab": {
          "base_uri": "https://localhost:8080/",
          "height": 234
        },
        "id": "ZScHcKi8l6Oh",
        "outputId": "58a1842f-cb64-49f6-aacc-9466eea5b9b9"
      },
      "outputs": [
        {
          "output_type": "error",
          "ename": "TypeError",
          "evalue": "unsupported operand type(s) for ** or pow(): 'str' and 'int'",
          "traceback": [
            "\u001b[0;31m---------------------------------------------------------------------------\u001b[0m",
            "\u001b[0;31mTypeError\u001b[0m                                 Traceback (most recent call last)",
            "\u001b[0;32m<ipython-input-29-3bedfc46e1c4>\u001b[0m in \u001b[0;36m<cell line: 1>\u001b[0;34m()\u001b[0m\n\u001b[0;32m----> 1\u001b[0;31m \u001b[0mline1\u001b[0m\u001b[0;34m.\u001b[0m\u001b[0mcalc_loss\u001b[0m\u001b[0;34m(\u001b[0m\u001b[0mcurrent\u001b[0m\u001b[0;34m=\u001b[0m\u001b[0;34m'5'\u001b[0m\u001b[0;34m)\u001b[0m\u001b[0;34m\u001b[0m\u001b[0;34m\u001b[0m\u001b[0m\n\u001b[0m",
            "\u001b[0;32m<ipython-input-25-6fcc61d75ace>\u001b[0m in \u001b[0;36mcalc_loss\u001b[0;34m(self, current)\u001b[0m\n\u001b[1;32m      3\u001b[0m         \u001b[0mself\u001b[0m\u001b[0;34m.\u001b[0m\u001b[0mresistance\u001b[0m \u001b[0;34m=\u001b[0m \u001b[0mresistance\u001b[0m\u001b[0;34m\u001b[0m\u001b[0;34m\u001b[0m\u001b[0m\n\u001b[1;32m      4\u001b[0m     \u001b[0;32mdef\u001b[0m \u001b[0mcalc_loss\u001b[0m\u001b[0;34m(\u001b[0m\u001b[0mself\u001b[0m\u001b[0;34m,\u001b[0m\u001b[0mcurrent\u001b[0m\u001b[0;34m)\u001b[0m\u001b[0;34m:\u001b[0m\u001b[0;34m\u001b[0m\u001b[0;34m\u001b[0m\u001b[0m\n\u001b[0;32m----> 5\u001b[0;31m         \u001b[0;32mreturn\u001b[0m \u001b[0mcurrent\u001b[0m\u001b[0;34m**\u001b[0m\u001b[0;36m2\u001b[0m \u001b[0;34m*\u001b[0m \u001b[0mself\u001b[0m\u001b[0;34m.\u001b[0m\u001b[0mresistance\u001b[0m\u001b[0;34m\u001b[0m\u001b[0;34m\u001b[0m\u001b[0m\n\u001b[0m",
            "\u001b[0;31mTypeError\u001b[0m: unsupported operand type(s) for ** or pow(): 'str' and 'int'"
          ]
        }
      ],
      "source": [
        "line1.calc_loss(current='5')"
      ]
    },
    {
      "cell_type": "markdown",
      "metadata": {
        "id": "UxI1E9Nyl6Oh"
      },
      "source": [
        "So let's document the class, with `\"\"\"` comments for multiple lines.\n",
        "\n",
        "Also lets define the types of the input and output data. This also reduces mistakes."
      ]
    },
    {
      "cell_type": "code",
      "execution_count": 30,
      "metadata": {
        "colab": {
          "base_uri": "https://localhost:8080/"
        },
        "id": "kS7_4ZTol6Oh",
        "outputId": "b400e9e0-2bcd-4be8-ed8a-5817b03448ca"
      },
      "outputs": [
        {
          "output_type": "execute_result",
          "data": {
            "text/plain": [
              "0.25"
            ]
          },
          "metadata": {},
          "execution_count": 30
        }
      ],
      "source": [
        "class Conductor():\n",
        "    \"\"\" Conductor class \"\"\"\n",
        "    def __init__(self, resistance:float):\n",
        "        \"\"\" Conductor useful calculations\n",
        "\n",
        "        Args:\n",
        "            resistance (float): resistance of the line in ohms\n",
        "        \"\"\"\n",
        "        self.resistance = resistance\n",
        "\n",
        "    def calc_loss(self,current:float)->float:\n",
        "        \"\"\" Calculate the line loss\n",
        "\n",
        "        Args:\n",
        "            current (float): current of the line in ohms\n",
        "\n",
        "        Returns:\n",
        "            float: power in watts\n",
        "        \"\"\"\n",
        "        return current**2 * self.resistance\n",
        "\n",
        "line2 = Conductor(resistance=0.01)\n",
        "\n",
        "line2.calc_loss(current=5)"
      ]
    },
    {
      "cell_type": "markdown",
      "metadata": {
        "id": "Wb5BGI_bl6Oh"
      },
      "source": [
        "Now if I mouse-over `calc_loss` I see that the input can't be a string."
      ]
    },
    {
      "cell_type": "markdown",
      "metadata": {
        "id": "7UsqWmEfl6Oh"
      },
      "source": [
        "## Interpreter\n",
        "\n",
        "<img src=\"https://www.dunebook.com/wp-content/uploads/2019/10/image1-1.png\" width=\"600\">\n",
        "\n",
        "<!-- <figure>\n",
        "<center>\n",
        "  <img src=\"interpreter.png\" width=\"600\">\n",
        "  <figcaption>Image: python.org/downloads/</figcaption>\n",
        "  </center>\n",
        "</figure> -->\n",
        "\n",
        "\n",
        "\n",
        "The python program interprets code into actions the computer can take.\n",
        "\n",
        "Notebooks use the interpeter but it's hidden. Magic!\n",
        "\n",
        "Just once you should write a `.py` file and run the interpreter directly."
      ]
    },
    {
      "cell_type": "markdown",
      "metadata": {
        "id": "ABp11M8dl6Oh"
      },
      "source": [
        "#### 1. Write code file\n",
        "\n",
        "1. Click the folder icon on the far left of your screen. It's an empty rectangle.\n",
        "\n",
        "2. In the side bar area right click, select `New File`, and name it `hello.py`.\n",
        "\n",
        "3. Double click `hello.py` to open it. Write `print('hello!')` and save (Ctrl+S)."
      ]
    },
    {
      "cell_type": "markdown",
      "metadata": {
        "id": "ih1j76hXl6Oh"
      },
      "source": [
        "#### 2. Run with interpreter\n",
        "\n",
        "Run the code block below. The `!` gives us direct access to the Google cloud computer.\n",
        "\n",
        "The command `python` runs the interpreter and `hello.py` is the file we want to run."
      ]
    },
    {
      "cell_type": "code",
      "execution_count": 32,
      "metadata": {
        "colab": {
          "base_uri": "https://localhost:8080/"
        },
        "id": "51RPxQeFl6Oi",
        "outputId": "695d9039-93b8-43d3-fbb6-e62da7597375"
      },
      "outputs": [
        {
          "output_type": "stream",
          "name": "stdout",
          "text": [
            "hello!\n"
          ]
        }
      ],
      "source": [
        "!python hello.py"
      ]
    },
    {
      "cell_type": "markdown",
      "metadata": {
        "id": "8JhCJu6jl6Oi"
      },
      "source": [
        "The result is the same as typing `print('hello!')` into Colab.\n",
        "\n",
        "The difference is we only used two things: a text file and the python interpreter."
      ]
    },
    {
      "cell_type": "markdown",
      "metadata": {
        "id": "DFS3K73Ll6Oi"
      },
      "source": [
        "# Environment\n",
        "\n",
        "<img src=\"https://github.com/woodjmichael/PV-based-systems-lab/blob/main/packages.png?raw=true\" width=\"400\">\n",
        "\n",
        "The **environment** is all the code libraries, programs, and the operating system your code has access to.\n",
        "\n",
        "In python the libraries are mostly **packages** that we find online.\n",
        "\n",
        "Each package is made of modules."
      ]
    },
    {
      "cell_type": "markdown",
      "metadata": {
        "id": "R4v2xNw7l6Oi"
      },
      "source": [
        "## Modules\n",
        "\n",
        "In `hello.py` we had to write (or copy-paste) all the code by hand.\n",
        "\n",
        "What if your colleage gives you a `.py` code? Or you find something online?\n",
        "\n",
        "You could run the code directly. More likley, you'll want to integrate it with your code using `import`.\n",
        "\n",
        "Run the code below to create a new file called `hello_module.py`."
      ]
    },
    {
      "cell_type": "markdown",
      "metadata": {
        "id": "Ai7t0CxAl6Oi"
      },
      "source": [
        "#### 1. Write a module file\n",
        "\n",
        "1. In the side bar area right click, select `New File`, and name it `hello_module.py`.\n",
        "2. Double click `hello_module.py` to open it.\n",
        "3. Write the following two lines and save (Ctrl+S).\n",
        "```python\n",
        "def say_hello():\n",
        "    print('hello from a module!')\n",
        "```\n",
        "\n",
        "Note that the code will not run: there is the function, but no code to call it.\n",
        "\n",
        "That's what makes it a **module** and not a script."
      ]
    },
    {
      "cell_type": "markdown",
      "metadata": {
        "id": "jkRrb5U0l6Oi"
      },
      "source": [
        "#### 2. Run in the notebook"
      ]
    },
    {
      "cell_type": "markdown",
      "metadata": {
        "id": "ujEbqwwzl6Oi"
      },
      "source": [
        "Usually importing a module is unspectacular."
      ]
    },
    {
      "cell_type": "code",
      "execution_count": 33,
      "metadata": {
        "id": "bYVTrykQl6Oj"
      },
      "outputs": [],
      "source": [
        "import hello_module"
      ]
    },
    {
      "cell_type": "markdown",
      "metadata": {
        "id": "u2kQfZjvl6Oj"
      },
      "source": [
        "But now you can run our function from the module."
      ]
    },
    {
      "cell_type": "code",
      "execution_count": 34,
      "metadata": {
        "colab": {
          "base_uri": "https://localhost:8080/"
        },
        "id": "F-6PgCJcl6Oj",
        "outputId": "45b2a461-a959-4bd3-d331-b94a31a1c852"
      },
      "outputs": [
        {
          "output_type": "stream",
          "name": "stdout",
          "text": [
            "hello from a module!\n"
          ]
        }
      ],
      "source": [
        "hello_module.say_hello()"
      ]
    },
    {
      "cell_type": "markdown",
      "metadata": {
        "id": "dKuDWfeGl6Oj"
      },
      "source": [
        "## Packages\n",
        "\n",
        "<img src=\"https://github.com/woodjmichael/PV-based-systems-lab/blob/main/package-module.png?raw=true\" width=\"400\">\n",
        "\n",
        "We want access to all the large \"libraries\" of code written the open source community.\n",
        "\n",
        "For example there is Google's machine learning tool `tensorflow`.\n",
        "\n",
        "These groups develop **packages** which are just folders containing a few to many modules.\n",
        "\n",
        "We always use packages, often without realizing it. Otherwise vanilla python would be very boring.\n",
        "\n",
        "`pip` will show us all the installed packages right now on the computer connected to the notebook.\n",
        "\n",
        "You will see `tensorflow` and some entertaining names like `weasel` and `kiwisolver`."
      ]
    },
    {
      "cell_type": "code",
      "execution_count": 35,
      "metadata": {
        "colab": {
          "base_uri": "https://localhost:8080/"
        },
        "id": "Rmz5Yf9Rl6Oj",
        "outputId": "27d210ca-3404-4c66-b0d5-283096c9b0c9"
      },
      "outputs": [
        {
          "output_type": "stream",
          "name": "stdout",
          "text": [
            "Package                          Version\n",
            "-------------------------------- ---------------------\n",
            "absl-py                          1.4.0\n",
            "accelerate                       0.33.0\n",
            "aiohappyeyeballs                 2.4.0\n",
            "aiohttp                          3.10.5\n",
            "aiosignal                        1.3.1\n",
            "alabaster                        0.7.16\n",
            "albucore                         0.0.14\n",
            "albumentations                   1.4.14\n",
            "altair                           4.2.2\n",
            "annotated-types                  0.7.0\n",
            "anyio                            3.7.1\n",
            "argon2-cffi                      23.1.0\n",
            "argon2-cffi-bindings             21.2.0\n",
            "array_record                     0.5.1\n",
            "arviz                            0.18.0\n",
            "asn1crypto                       1.5.1\n",
            "astropy                          6.1.3\n",
            "astropy-iers-data                0.2024.8.27.10.28.29\n",
            "astunparse                       1.6.3\n",
            "async-timeout                    4.0.3\n",
            "atpublic                         4.1.0\n",
            "attrs                            24.2.0\n",
            "audioread                        3.0.1\n",
            "autograd                         1.7.0\n",
            "babel                            2.16.0\n",
            "backcall                         0.2.0\n",
            "beautifulsoup4                   4.12.3\n",
            "bidict                           0.23.1\n",
            "bigframes                        1.15.0\n",
            "bigquery-magics                  0.2.0\n",
            "bleach                           6.1.0\n",
            "blinker                          1.4\n",
            "blis                             0.7.11\n",
            "blosc2                           2.0.0\n",
            "bokeh                            3.4.3\n",
            "bqplot                           0.12.43\n",
            "branca                           0.7.2\n",
            "build                            1.2.2\n",
            "CacheControl                     0.14.0\n",
            "cachetools                       5.5.0\n",
            "catalogue                        2.0.10\n",
            "certifi                          2024.8.30\n",
            "cffi                             1.17.0\n",
            "chardet                          5.2.0\n",
            "charset-normalizer               3.3.2\n",
            "chex                             0.1.86\n",
            "clarabel                         0.9.0\n",
            "click                            8.1.7\n",
            "click-plugins                    1.1.1\n",
            "cligj                            0.7.2\n",
            "cloudpathlib                     0.19.0\n",
            "cloudpickle                      2.2.1\n",
            "cmake                            3.30.2\n",
            "cmdstanpy                        1.2.4\n",
            "colorcet                         3.1.0\n",
            "colorlover                       0.3.0\n",
            "colour                           0.1.5\n",
            "community                        1.0.0b1\n",
            "confection                       0.1.5\n",
            "cons                             0.4.6\n",
            "contextlib2                      21.6.0\n",
            "contourpy                        1.3.0\n",
            "cryptography                     43.0.0\n",
            "cuda-python                      12.2.1\n",
            "cudf-cu12                        24.4.1\n",
            "cufflinks                        0.17.3\n",
            "cupy-cuda12x                     12.2.0\n",
            "cvxopt                           1.3.2\n",
            "cvxpy                            1.5.3\n",
            "cycler                           0.12.1\n",
            "cymem                            2.0.8\n",
            "Cython                           3.0.11\n",
            "dask                             2024.7.1\n",
            "datascience                      0.17.6\n",
            "db-dtypes                        1.3.0\n",
            "dbus-python                      1.2.18\n",
            "debugpy                          1.6.6\n",
            "decorator                        4.4.2\n",
            "defusedxml                       0.7.1\n",
            "distributed                      2024.7.1\n",
            "distro                           1.7.0\n",
            "dlib                             19.24.2\n",
            "dm-tree                          0.1.8\n",
            "docstring_parser                 0.16\n",
            "docutils                         0.18.1\n",
            "dopamine_rl                      4.0.9\n",
            "duckdb                           0.10.3\n",
            "earthengine-api                  0.1.418\n",
            "easydict                         1.13\n",
            "ecos                             2.0.14\n",
            "editdistance                     0.8.1\n",
            "eerepr                           0.0.4\n",
            "einops                           0.8.0\n",
            "en-core-web-sm                   3.7.1\n",
            "entrypoints                      0.4\n",
            "et-xmlfile                       1.1.0\n",
            "etils                            1.7.0\n",
            "etuples                          0.3.9\n",
            "eval_type_backport               0.2.0\n",
            "exceptiongroup                   1.2.2\n",
            "fastai                           2.7.17\n",
            "fastcore                         1.7.1\n",
            "fastdownload                     0.0.7\n",
            "fastjsonschema                   2.20.0\n",
            "fastprogress                     1.0.3\n",
            "fastrlock                        0.8.2\n",
            "filelock                         3.15.4\n",
            "fiona                            1.9.6\n",
            "firebase-admin                   6.5.0\n",
            "Flask                            2.2.5\n",
            "flatbuffers                      24.3.25\n",
            "flax                             0.8.4\n",
            "folium                           0.17.0\n",
            "fonttools                        4.53.1\n",
            "frozendict                       2.4.4\n",
            "frozenlist                       1.4.1\n",
            "fsspec                           2024.6.1\n",
            "future                           1.0.0\n",
            "gast                             0.6.0\n",
            "gcsfs                            2024.6.1\n",
            "GDAL                             3.6.4\n",
            "gdown                            5.1.0\n",
            "geemap                           0.34.0\n",
            "gensim                           4.3.3\n",
            "geocoder                         1.38.1\n",
            "geographiclib                    2.0\n",
            "geopandas                        0.14.4\n",
            "geopy                            2.4.1\n",
            "gin-config                       0.5.0\n",
            "glob2                            0.7\n",
            "google                           2.0.3\n",
            "google-ai-generativelanguage     0.6.6\n",
            "google-api-core                  2.19.2\n",
            "google-api-python-client         2.137.0\n",
            "google-auth                      2.27.0\n",
            "google-auth-httplib2             0.2.0\n",
            "google-auth-oauthlib             1.2.1\n",
            "google-cloud-aiplatform          1.64.0\n",
            "google-cloud-bigquery            3.25.0\n",
            "google-cloud-bigquery-connection 1.15.5\n",
            "google-cloud-bigquery-storage    2.25.0\n",
            "google-cloud-bigtable            2.26.0\n",
            "google-cloud-core                2.4.1\n",
            "google-cloud-datastore           2.19.0\n",
            "google-cloud-firestore           2.16.1\n",
            "google-cloud-functions           1.16.5\n",
            "google-cloud-iam                 2.15.2\n",
            "google-cloud-language            2.13.4\n",
            "google-cloud-pubsub              2.23.0\n",
            "google-cloud-resource-manager    1.12.5\n",
            "google-cloud-storage             2.8.0\n",
            "google-cloud-translate           3.15.5\n",
            "google-colab                     1.0.0\n",
            "google-crc32c                    1.5.0\n",
            "google-generativeai              0.7.2\n",
            "google-pasta                     0.2.0\n",
            "google-resumable-media           2.7.2\n",
            "googleapis-common-protos         1.65.0\n",
            "googledrivedownloader            0.4\n",
            "graphviz                         0.20.3\n",
            "greenlet                         3.0.3\n",
            "grpc-google-iam-v1               0.13.1\n",
            "grpcio                           1.64.1\n",
            "grpcio-status                    1.48.2\n",
            "gspread                          6.0.2\n",
            "gspread-dataframe                3.3.1\n",
            "gym                              0.25.2\n",
            "gym-notices                      0.0.8\n",
            "h5netcdf                         1.3.0\n",
            "h5py                             3.11.0\n",
            "holidays                         0.55\n",
            "holoviews                        1.18.3\n",
            "html5lib                         1.1\n",
            "httpimport                       1.3.1\n",
            "httplib2                         0.22.0\n",
            "huggingface-hub                  0.24.6\n",
            "humanize                         4.10.0\n",
            "hyperopt                         0.2.7\n",
            "ibis-framework                   8.0.0\n",
            "idna                             3.8\n",
            "imageio                          2.34.2\n",
            "imageio-ffmpeg                   0.5.1\n",
            "imagesize                        1.4.1\n",
            "imbalanced-learn                 0.12.3\n",
            "imgaug                           0.4.0\n",
            "immutabledict                    4.2.0\n",
            "importlib_metadata               8.4.0\n",
            "importlib_resources              6.4.4\n",
            "imutils                          0.5.4\n",
            "inflect                          7.3.1\n",
            "iniconfig                        2.0.0\n",
            "intel-cmplr-lib-ur               2024.2.1\n",
            "intel-openmp                     2024.2.1\n",
            "ipyevents                        2.0.2\n",
            "ipyfilechooser                   0.6.0\n",
            "ipykernel                        5.5.6\n",
            "ipyleaflet                       0.18.2\n",
            "ipyparallel                      8.8.0\n",
            "ipython                          7.34.0\n",
            "ipython-genutils                 0.2.0\n",
            "ipython-sql                      0.5.0\n",
            "ipytree                          0.2.2\n",
            "ipywidgets                       7.7.1\n",
            "itsdangerous                     2.2.0\n",
            "jax                              0.4.26\n",
            "jaxlib                           0.4.26+cuda12.cudnn89\n",
            "jeepney                          0.7.1\n",
            "jellyfish                        1.1.0\n",
            "jieba                            0.42.1\n",
            "Jinja2                           3.1.4\n",
            "joblib                           1.4.2\n",
            "jsonpickle                       3.2.2\n",
            "jsonschema                       4.23.0\n",
            "jsonschema-specifications        2023.12.1\n",
            "jupyter-client                   6.1.12\n",
            "jupyter-console                  6.1.0\n",
            "jupyter_core                     5.7.2\n",
            "jupyter-server                   1.24.0\n",
            "jupyterlab_pygments              0.3.0\n",
            "jupyterlab_widgets               3.0.13\n",
            "kaggle                           1.6.17\n",
            "kagglehub                        0.2.9\n",
            "keras                            3.4.1\n",
            "keyring                          23.5.0\n",
            "kiwisolver                       1.4.5\n",
            "langcodes                        3.4.0\n",
            "language_data                    1.2.0\n",
            "launchpadlib                     1.10.16\n",
            "lazr.restfulclient               0.14.4\n",
            "lazr.uri                         1.0.6\n",
            "lazy_loader                      0.4\n",
            "libclang                         18.1.1\n",
            "librosa                          0.10.2.post1\n",
            "lightgbm                         4.4.0\n",
            "linkify-it-py                    2.0.3\n",
            "llvmlite                         0.43.0\n",
            "locket                           1.0.0\n",
            "logical-unification              0.4.6\n",
            "lxml                             4.9.4\n",
            "malloy                           2024.1091\n",
            "marisa-trie                      1.2.0\n",
            "Markdown                         3.7\n",
            "markdown-it-py                   3.0.0\n",
            "MarkupSafe                       2.1.5\n",
            "matplotlib                       3.7.1\n",
            "matplotlib-inline                0.1.7\n",
            "matplotlib-venn                  0.11.10\n",
            "mdit-py-plugins                  0.4.1\n",
            "mdurl                            0.1.2\n",
            "miniKanren                       1.0.3\n",
            "missingno                        0.5.2\n",
            "mistune                          0.8.4\n",
            "mizani                           0.9.3\n",
            "mkl                              2024.2.1\n",
            "ml-dtypes                        0.4.0\n",
            "mlxtend                          0.23.1\n",
            "more-itertools                   10.3.0\n",
            "moviepy                          1.0.3\n",
            "mpmath                           1.3.0\n",
            "msgpack                          1.0.8\n",
            "multidict                        6.0.5\n",
            "multipledispatch                 1.0.0\n",
            "multitasking                     0.0.11\n",
            "murmurhash                       1.0.10\n",
            "music21                          9.1.0\n",
            "namex                            0.0.8\n",
            "natsort                          8.4.0\n",
            "nbclassic                        1.1.0\n",
            "nbclient                         0.10.0\n",
            "nbconvert                        6.5.4\n",
            "nbformat                         5.10.4\n",
            "nest-asyncio                     1.6.0\n",
            "networkx                         3.3\n",
            "nibabel                          5.0.1\n",
            "nltk                             3.8.1\n",
            "notebook                         6.5.5\n",
            "notebook_shim                    0.2.4\n",
            "numba                            0.60.0\n",
            "numexpr                          2.10.1\n",
            "numpy                            1.26.4\n",
            "nvidia-nccl-cu12                 2.22.3\n",
            "nvtx                             0.2.10\n",
            "oauth2client                     4.1.3\n",
            "oauthlib                         3.2.2\n",
            "opencv-contrib-python            4.10.0.84\n",
            "opencv-python                    4.10.0.84\n",
            "opencv-python-headless           4.10.0.84\n",
            "openpyxl                         3.1.5\n",
            "opt-einsum                       3.3.0\n",
            "optax                            0.2.2\n",
            "optree                           0.12.1\n",
            "orbax-checkpoint                 0.6.1\n",
            "osqp                             0.6.7.post0\n",
            "packaging                        24.1\n",
            "pandas                           2.1.4\n",
            "pandas-datareader                0.10.0\n",
            "pandas-gbq                       0.23.1\n",
            "pandas-stubs                     2.1.4.231227\n",
            "pandocfilters                    1.5.1\n",
            "panel                            1.4.5\n",
            "param                            2.1.1\n",
            "parso                            0.8.4\n",
            "parsy                            2.1\n",
            "partd                            1.4.2\n",
            "pathlib                          1.0.1\n",
            "patsy                            0.5.6\n",
            "peewee                           3.17.6\n",
            "pexpect                          4.9.0\n",
            "pickleshare                      0.7.5\n",
            "Pillow                           9.4.0\n",
            "pip                              24.1.2\n",
            "pip-tools                        7.4.1\n",
            "platformdirs                     4.2.2\n",
            "plotly                           5.15.0\n",
            "plotnine                         0.12.4\n",
            "pluggy                           1.5.0\n",
            "polars                           0.20.2\n",
            "pooch                            1.8.2\n",
            "portpicker                       1.5.2\n",
            "prefetch_generator               1.0.3\n",
            "preshed                          3.0.9\n",
            "prettytable                      3.11.0\n",
            "proglog                          0.1.10\n",
            "progressbar2                     4.2.0\n",
            "prometheus_client                0.20.0\n",
            "promise                          2.3\n",
            "prompt_toolkit                   3.0.47\n",
            "prophet                          1.1.5\n",
            "proto-plus                       1.24.0\n",
            "protobuf                         3.20.3\n",
            "psutil                           5.9.5\n",
            "psycopg2                         2.9.9\n",
            "ptyprocess                       0.7.0\n",
            "py-cpuinfo                       9.0.0\n",
            "py4j                             0.10.9.7\n",
            "pyarrow                          14.0.2\n",
            "pyarrow-hotfix                   0.6\n",
            "pyasn1                           0.6.0\n",
            "pyasn1_modules                   0.4.0\n",
            "pycocotools                      2.0.8\n",
            "pycparser                        2.22\n",
            "pydantic                         2.8.2\n",
            "pydantic_core                    2.20.1\n",
            "pydata-google-auth               1.8.2\n",
            "pydot                            1.4.2\n",
            "pydot-ng                         2.0.0\n",
            "pydotplus                        2.0.2\n",
            "PyDrive                          1.3.1\n",
            "PyDrive2                         1.6.3\n",
            "pyerfa                           2.0.1.4\n",
            "pygame                           2.6.0\n",
            "Pygments                         2.16.1\n",
            "PyGObject                        3.42.1\n",
            "PyJWT                            2.9.0\n",
            "pymc                             5.10.4\n",
            "pymystem3                        0.2.0\n",
            "pynvjitlink-cu12                 0.3.0\n",
            "PyOpenGL                         3.1.7\n",
            "pyOpenSSL                        24.2.1\n",
            "pyparsing                        3.1.4\n",
            "pyperclip                        1.9.0\n",
            "pyproj                           3.6.1\n",
            "pyproject_hooks                  1.1.0\n",
            "pyshp                            2.3.1\n",
            "PySocks                          1.7.1\n",
            "pytensor                         2.18.6\n",
            "pytest                           7.4.4\n",
            "python-apt                       2.4.0\n",
            "python-box                       7.2.0\n",
            "python-dateutil                  2.8.2\n",
            "python-louvain                   0.16\n",
            "python-slugify                   8.0.4\n",
            "python-utils                     3.8.2\n",
            "pytz                             2024.1\n",
            "pyviz_comms                      3.0.3\n",
            "PyYAML                           6.0.2\n",
            "pyzmq                            24.0.1\n",
            "qdldl                            0.1.7.post4\n",
            "ratelim                          0.1.6\n",
            "referencing                      0.35.1\n",
            "regex                            2024.5.15\n",
            "requests                         2.32.3\n",
            "requests-oauthlib                1.3.1\n",
            "requirements-parser              0.9.0\n",
            "rich                             13.8.0\n",
            "rmm-cu12                         24.4.0\n",
            "rpds-py                          0.20.0\n",
            "rpy2                             3.4.2\n",
            "rsa                              4.9\n",
            "safetensors                      0.4.4\n",
            "scikit-image                     0.23.2\n",
            "scikit-learn                     1.3.2\n",
            "scipy                            1.13.1\n",
            "scooby                           0.10.0\n",
            "scs                              3.2.7\n",
            "seaborn                          0.13.1\n",
            "SecretStorage                    3.3.1\n",
            "Send2Trash                       1.8.3\n",
            "sentencepiece                    0.1.99\n",
            "setuptools                       71.0.4\n",
            "shapely                          2.0.6\n",
            "shellingham                      1.5.4\n",
            "simple_parsing                   0.1.5\n",
            "six                              1.16.0\n",
            "sklearn-pandas                   2.2.0\n",
            "smart-open                       7.0.4\n",
            "sniffio                          1.3.1\n",
            "snowballstemmer                  2.2.0\n",
            "snowflake-connector-python       3.12.1\n",
            "sortedcontainers                 2.4.0\n",
            "soundfile                        0.12.1\n",
            "soupsieve                        2.6\n",
            "soxr                             0.5.0\n",
            "spacy                            3.7.6\n",
            "spacy-legacy                     3.0.12\n",
            "spacy-loggers                    1.0.5\n",
            "Sphinx                           5.0.2\n",
            "sphinxcontrib-applehelp          2.0.0\n",
            "sphinxcontrib-devhelp            2.0.0\n",
            "sphinxcontrib-htmlhelp           2.1.0\n",
            "sphinxcontrib-jsmath             1.0.1\n",
            "sphinxcontrib-qthelp             2.0.0\n",
            "sphinxcontrib-serializinghtml    2.0.0\n",
            "SQLAlchemy                       2.0.32\n",
            "sqlglot                          20.11.0\n",
            "sqlparse                         0.5.1\n",
            "srsly                            2.4.8\n",
            "stanio                           0.5.1\n",
            "statsmodels                      0.14.2\n",
            "StrEnum                          0.4.15\n",
            "sympy                            1.13.2\n",
            "tables                           3.8.0\n",
            "tabulate                         0.9.0\n",
            "tbb                              2021.13.1\n",
            "tblib                            3.0.0\n",
            "tenacity                         9.0.0\n",
            "tensorboard                      2.17.0\n",
            "tensorboard-data-server          0.7.2\n",
            "tensorflow                       2.17.0\n",
            "tensorflow-datasets              4.9.6\n",
            "tensorflow-hub                   0.16.1\n",
            "tensorflow-io-gcs-filesystem     0.37.1\n",
            "tensorflow-metadata              1.15.0\n",
            "tensorflow-probability           0.24.0\n",
            "tensorstore                      0.1.64\n",
            "termcolor                        2.4.0\n",
            "terminado                        0.18.1\n",
            "text-unidecode                   1.3\n",
            "textblob                         0.17.1\n",
            "tf_keras                         2.17.0\n",
            "tf-slim                          1.1.0\n",
            "thinc                            8.2.5\n",
            "threadpoolctl                    3.5.0\n",
            "tifffile                         2024.8.28\n",
            "tinycss2                         1.3.0\n",
            "tokenizers                       0.19.1\n",
            "toml                             0.10.2\n",
            "tomli                            2.0.1\n",
            "tomlkit                          0.13.2\n",
            "toolz                            0.12.1\n",
            "torch                            2.4.0+cu121\n",
            "torchaudio                       2.4.0+cu121\n",
            "torchsummary                     1.5.1\n",
            "torchvision                      0.19.0+cu121\n",
            "tornado                          6.3.3\n",
            "tqdm                             4.66.5\n",
            "traitlets                        5.7.1\n",
            "traittypes                       0.2.1\n",
            "transformers                     4.44.2\n",
            "tweepy                           4.14.0\n",
            "typeguard                        4.3.0\n",
            "typer                            0.12.5\n",
            "types-pytz                       2024.1.0.20240417\n",
            "types-setuptools                 74.1.0.20240907\n",
            "typing_extensions                4.12.2\n",
            "tzdata                           2024.1\n",
            "tzlocal                          5.2\n",
            "uc-micro-py                      1.0.3\n",
            "uritemplate                      4.1.1\n",
            "urllib3                          2.0.7\n",
            "vega-datasets                    0.9.0\n",
            "wadllib                          1.3.6\n",
            "wasabi                           1.1.3\n",
            "wcwidth                          0.2.13\n",
            "weasel                           0.4.1\n",
            "webcolors                        24.8.0\n",
            "webencodings                     0.5.1\n",
            "websocket-client                 1.8.0\n",
            "Werkzeug                         3.0.4\n",
            "wheel                            0.44.0\n",
            "widgetsnbextension               3.6.8\n",
            "wordcloud                        1.9.3\n",
            "wrapt                            1.16.0\n",
            "xarray                           2024.6.0\n",
            "xarray-einstats                  0.7.0\n",
            "xgboost                          2.1.1\n",
            "xlrd                             2.0.1\n",
            "xyzservices                      2024.6.0\n",
            "yarl                             1.9.4\n",
            "yellowbrick                      1.5\n",
            "yfinance                         0.2.43\n",
            "zict                             3.0.0\n",
            "zipp                             3.20.1\n"
          ]
        }
      ],
      "source": [
        "!pip list"
      ]
    },
    {
      "cell_type": "markdown",
      "metadata": {
        "id": "BQYgJdTZl6Oj"
      },
      "source": [
        "Now let's find, install, and use a new package.\n",
        "\n",
        "[meteostat](https://pypi.org/project/meteostat/) looks interesting!\n",
        "\n",
        "> NB: Packages almost always have example code to get started"
      ]
    },
    {
      "cell_type": "code",
      "execution_count": 36,
      "metadata": {
        "colab": {
          "base_uri": "https://localhost:8080/"
        },
        "id": "nhdvWD6fl6Ok",
        "outputId": "e6419390-5d98-4ead-f91c-76bc1819801a"
      },
      "outputs": [
        {
          "output_type": "stream",
          "name": "stdout",
          "text": [
            "Collecting meteostat\n",
            "  Downloading meteostat-1.6.8-py3-none-any.whl.metadata (4.6 kB)\n",
            "Requirement already satisfied: pandas>=1.1 in /usr/local/lib/python3.10/dist-packages (from meteostat) (2.1.4)\n",
            "Requirement already satisfied: pytz in /usr/local/lib/python3.10/dist-packages (from meteostat) (2024.1)\n",
            "Requirement already satisfied: numpy in /usr/local/lib/python3.10/dist-packages (from meteostat) (1.26.4)\n",
            "Requirement already satisfied: python-dateutil>=2.8.2 in /usr/local/lib/python3.10/dist-packages (from pandas>=1.1->meteostat) (2.8.2)\n",
            "Requirement already satisfied: tzdata>=2022.1 in /usr/local/lib/python3.10/dist-packages (from pandas>=1.1->meteostat) (2024.1)\n",
            "Requirement already satisfied: six>=1.5 in /usr/local/lib/python3.10/dist-packages (from python-dateutil>=2.8.2->pandas>=1.1->meteostat) (1.16.0)\n",
            "Downloading meteostat-1.6.8-py3-none-any.whl (31 kB)\n",
            "Installing collected packages: meteostat\n",
            "Successfully installed meteostat-1.6.8\n"
          ]
        }
      ],
      "source": [
        "!pip install meteostat"
      ]
    },
    {
      "cell_type": "markdown",
      "metadata": {
        "id": "wEBHE-rDl6Ok"
      },
      "source": [
        "Let's run the the example code, but change the location for Milan"
      ]
    },
    {
      "cell_type": "code",
      "execution_count": 37,
      "metadata": {
        "colab": {
          "base_uri": "https://localhost:8080/",
          "height": 466
        },
        "id": "p-6Kk7AXl6Ok",
        "outputId": "6aeb4b07-e01e-4d76-89a8-b71e8b7c604a"
      },
      "outputs": [
        {
          "output_type": "display_data",
          "data": {
            "text/plain": [
              "<Figure size 640x480 with 1 Axes>"
            ],
            "image/png": "[encoded data removed]"
          },
          "metadata": {}
        }
      ],
      "source": [
        "# Import Meteostat library and dependencies\n",
        "import meteostat\n",
        "\n",
        "# Create Point for Milan, Italy\n",
        "location = meteostat.Point(45.503, 9.162)\n",
        "\n",
        "# Get daily data\n",
        "data = meteostat.Daily(location).fetch()\n",
        "\n",
        "# Plot line chart including average, minimum and maximum temperature\n",
        "data['2023':'2024'].plot(y=['tavg', 'tmin', 'tmax']);"
      ]
    },
    {
      "cell_type": "markdown",
      "metadata": {
        "id": "DzXcO64ul6Ok"
      },
      "source": [
        "`pip` will now show the new package, `meteostat`."
      ]
    },
    {
      "cell_type": "code",
      "execution_count": 38,
      "metadata": {
        "colab": {
          "base_uri": "https://localhost:8080/"
        },
        "id": "882zEksKl6Ok",
        "outputId": "fc4b33cb-89f3-42aa-daae-cf294780bc86"
      },
      "outputs": [
        {
          "output_type": "stream",
          "name": "stdout",
          "text": [
            "Package                          Version\n",
            "-------------------------------- ---------------------\n",
            "absl-py                          1.4.0\n",
            "accelerate                       0.33.0\n",
            "aiohappyeyeballs                 2.4.0\n",
            "aiohttp                          3.10.5\n",
            "aiosignal                        1.3.1\n",
            "alabaster                        0.7.16\n",
            "albucore                         0.0.14\n",
            "albumentations                   1.4.14\n",
            "altair                           4.2.2\n",
            "annotated-types                  0.7.0\n",
            "anyio                            3.7.1\n",
            "argon2-cffi                      23.1.0\n",
            "argon2-cffi-bindings             21.2.0\n",
            "array_record                     0.5.1\n",
            "arviz                            0.18.0\n",
            "asn1crypto                       1.5.1\n",
            "astropy                          6.1.3\n",
            "astropy-iers-data                0.2024.8.27.10.28.29\n",
            "astunparse                       1.6.3\n",
            "async-timeout                    4.0.3\n",
            "atpublic                         4.1.0\n",
            "attrs                            24.2.0\n",
            "audioread                        3.0.1\n",
            "autograd                         1.7.0\n",
            "babel                            2.16.0\n",
            "backcall                         0.2.0\n",
            "beautifulsoup4                   4.12.3\n",
            "bidict                           0.23.1\n",
            "bigframes                        1.15.0\n",
            "bigquery-magics                  0.2.0\n",
            "bleach                           6.1.0\n",
            "blinker                          1.4\n",
            "blis                             0.7.11\n",
            "blosc2                           2.0.0\n",
            "bokeh                            3.4.3\n",
            "bqplot                           0.12.43\n",
            "branca                           0.7.2\n",
            "build                            1.2.2\n",
            "CacheControl                     0.14.0\n",
            "cachetools                       5.5.0\n",
            "catalogue                        2.0.10\n",
            "certifi                          2024.8.30\n",
            "cffi                             1.17.0\n",
            "chardet                          5.2.0\n",
            "charset-normalizer               3.3.2\n",
            "chex                             0.1.86\n",
            "clarabel                         0.9.0\n",
            "click                            8.1.7\n",
            "click-plugins                    1.1.1\n",
            "cligj                            0.7.2\n",
            "cloudpathlib                     0.19.0\n",
            "cloudpickle                      2.2.1\n",
            "cmake                            3.30.2\n",
            "cmdstanpy                        1.2.4\n",
            "colorcet                         3.1.0\n",
            "colorlover                       0.3.0\n",
            "colour                           0.1.5\n",
            "community                        1.0.0b1\n",
            "confection                       0.1.5\n",
            "cons                             0.4.6\n",
            "contextlib2                      21.6.0\n",
            "contourpy                        1.3.0\n",
            "cryptography                     43.0.0\n",
            "cuda-python                      12.2.1\n",
            "cudf-cu12                        24.4.1\n",
            "cufflinks                        0.17.3\n",
            "cupy-cuda12x                     12.2.0\n",
            "cvxopt                           1.3.2\n",
            "cvxpy                            1.5.3\n",
            "cycler                           0.12.1\n",
            "cymem                            2.0.8\n",
            "Cython                           3.0.11\n",
            "dask                             2024.7.1\n",
            "datascience                      0.17.6\n",
            "db-dtypes                        1.3.0\n",
            "dbus-python                      1.2.18\n",
            "debugpy                          1.6.6\n",
            "decorator                        4.4.2\n",
            "defusedxml                       0.7.1\n",
            "distributed                      2024.7.1\n",
            "distro                           1.7.0\n",
            "dlib                             19.24.2\n",
            "dm-tree                          0.1.8\n",
            "docstring_parser                 0.16\n",
            "docutils                         0.18.1\n",
            "dopamine_rl                      4.0.9\n",
            "duckdb                           0.10.3\n",
            "earthengine-api                  0.1.418\n",
            "easydict                         1.13\n",
            "ecos                             2.0.14\n",
            "editdistance                     0.8.1\n",
            "eerepr                           0.0.4\n",
            "einops                           0.8.0\n",
            "en-core-web-sm                   3.7.1\n",
            "entrypoints                      0.4\n",
            "et-xmlfile                       1.1.0\n",
            "etils                            1.7.0\n",
            "etuples                          0.3.9\n",
            "eval_type_backport               0.2.0\n",
            "exceptiongroup                   1.2.2\n",
            "fastai                           2.7.17\n",
            "fastcore                         1.7.1\n",
            "fastdownload                     0.0.7\n",
            "fastjsonschema                   2.20.0\n",
            "fastprogress                     1.0.3\n",
            "fastrlock                        0.8.2\n",
            "filelock                         3.15.4\n",
            "fiona                            1.9.6\n",
            "firebase-admin                   6.5.0\n",
            "Flask                            2.2.5\n",
            "flatbuffers                      24.3.25\n",
            "flax                             0.8.4\n",
            "folium                           0.17.0\n",
            "fonttools                        4.53.1\n",
            "frozendict                       2.4.4\n",
            "frozenlist                       1.4.1\n",
            "fsspec                           2024.6.1\n",
            "future                           1.0.0\n",
            "gast                             0.6.0\n",
            "gcsfs                            2024.6.1\n",
            "GDAL                             3.6.4\n",
            "gdown                            5.1.0\n",
            "geemap                           0.34.0\n",
            "gensim                           4.3.3\n",
            "geocoder                         1.38.1\n",
            "geographiclib                    2.0\n",
            "geopandas                        0.14.4\n",
            "geopy                            2.4.1\n",
            "gin-config                       0.5.0\n",
            "glob2                            0.7\n",
            "google                           2.0.3\n",
            "google-ai-generativelanguage     0.6.6\n",
            "google-api-core                  2.19.2\n",
            "google-api-python-client         2.137.0\n",
            "google-auth                      2.27.0\n",
            "google-auth-httplib2             0.2.0\n",
            "google-auth-oauthlib             1.2.1\n",
            "google-cloud-aiplatform          1.64.0\n",
            "google-cloud-bigquery            3.25.0\n",
            "google-cloud-bigquery-connection 1.15.5\n",
            "google-cloud-bigquery-storage    2.25.0\n",
            "google-cloud-bigtable            2.26.0\n",
            "google-cloud-core                2.4.1\n",
            "google-cloud-datastore           2.19.0\n",
            "google-cloud-firestore           2.16.1\n",
            "google-cloud-functions           1.16.5\n",
            "google-cloud-iam                 2.15.2\n",
            "google-cloud-language            2.13.4\n",
            "google-cloud-pubsub              2.23.0\n",
            "google-cloud-resource-manager    1.12.5\n",
            "google-cloud-storage             2.8.0\n",
            "google-cloud-translate           3.15.5\n",
            "google-colab                     1.0.0\n",
            "google-crc32c                    1.5.0\n",
            "google-generativeai              0.7.2\n",
            "google-pasta                     0.2.0\n",
            "google-resumable-media           2.7.2\n",
            "googleapis-common-protos         1.65.0\n",
            "googledrivedownloader            0.4\n",
            "graphviz                         0.20.3\n",
            "greenlet                         3.0.3\n",
            "grpc-google-iam-v1               0.13.1\n",
            "grpcio                           1.64.1\n",
            "grpcio-status                    1.48.2\n",
            "gspread                          6.0.2\n",
            "gspread-dataframe                3.3.1\n",
            "gym                              0.25.2\n",
            "gym-notices                      0.0.8\n",
            "h5netcdf                         1.3.0\n",
            "h5py                             3.11.0\n",
            "holidays                         0.55\n",
            "holoviews                        1.18.3\n",
            "html5lib                         1.1\n",
            "httpimport                       1.3.1\n",
            "httplib2                         0.22.0\n",
            "huggingface-hub                  0.24.6\n",
            "humanize                         4.10.0\n",
            "hyperopt                         0.2.7\n",
            "ibis-framework                   8.0.0\n",
            "idna                             3.8\n",
            "imageio                          2.34.2\n",
            "imageio-ffmpeg                   0.5.1\n",
            "imagesize                        1.4.1\n",
            "imbalanced-learn                 0.12.3\n",
            "imgaug                           0.4.0\n",
            "immutabledict                    4.2.0\n",
            "importlib_metadata               8.4.0\n",
            "importlib_resources              6.4.4\n",
            "imutils                          0.5.4\n",
            "inflect                          7.3.1\n",
            "iniconfig                        2.0.0\n",
            "intel-cmplr-lib-ur               2024.2.1\n",
            "intel-openmp                     2024.2.1\n",
            "ipyevents                        2.0.2\n",
            "ipyfilechooser                   0.6.0\n",
            "ipykernel                        5.5.6\n",
            "ipyleaflet                       0.18.2\n",
            "ipyparallel                      8.8.0\n",
            "ipython                          7.34.0\n",
            "ipython-genutils                 0.2.0\n",
            "ipython-sql                      0.5.0\n",
            "ipytree                          0.2.2\n",
            "ipywidgets                       7.7.1\n",
            "itsdangerous                     2.2.0\n",
            "jax                              0.4.26\n",
            "jaxlib                           0.4.26+cuda12.cudnn89\n",
            "jeepney                          0.7.1\n",
            "jellyfish                        1.1.0\n",
            "jieba                            0.42.1\n",
            "Jinja2                           3.1.4\n",
            "joblib                           1.4.2\n",
            "jsonpickle                       3.2.2\n",
            "jsonschema                       4.23.0\n",
            "jsonschema-specifications        2023.12.1\n",
            "jupyter-client                   6.1.12\n",
            "jupyter-console                  6.1.0\n",
            "jupyter_core                     5.7.2\n",
            "jupyter-server                   1.24.0\n",
            "jupyterlab_pygments              0.3.0\n",
            "jupyterlab_widgets               3.0.13\n",
            "kaggle                           1.6.17\n",
            "kagglehub                        0.2.9\n",
            "keras                            3.4.1\n",
            "keyring                          23.5.0\n",
            "kiwisolver                       1.4.5\n",
            "langcodes                        3.4.0\n",
            "language_data                    1.2.0\n",
            "launchpadlib                     1.10.16\n",
            "lazr.restfulclient               0.14.4\n",
            "lazr.uri                         1.0.6\n",
            "lazy_loader                      0.4\n",
            "libclang                         18.1.1\n",
            "librosa                          0.10.2.post1\n",
            "lightgbm                         4.4.0\n",
            "linkify-it-py                    2.0.3\n",
            "llvmlite                         0.43.0\n",
            "locket                           1.0.0\n",
            "logical-unification              0.4.6\n",
            "lxml                             4.9.4\n",
            "malloy                           2024.1091\n",
            "marisa-trie                      1.2.0\n",
            "Markdown                         3.7\n",
            "markdown-it-py                   3.0.0\n",
            "MarkupSafe                       2.1.5\n",
            "matplotlib                       3.7.1\n",
            "matplotlib-inline                0.1.7\n",
            "matplotlib-venn                  0.11.10\n",
            "mdit-py-plugins                  0.4.1\n",
            "mdurl                            0.1.2\n",
            "meteostat                        1.6.8\n",
            "miniKanren                       1.0.3\n",
            "missingno                        0.5.2\n",
            "mistune                          0.8.4\n",
            "mizani                           0.9.3\n",
            "mkl                              2024.2.1\n",
            "ml-dtypes                        0.4.0\n",
            "mlxtend                          0.23.1\n",
            "more-itertools                   10.3.0\n",
            "moviepy                          1.0.3\n",
            "mpmath                           1.3.0\n",
            "msgpack                          1.0.8\n",
            "multidict                        6.0.5\n",
            "multipledispatch                 1.0.0\n",
            "multitasking                     0.0.11\n",
            "murmurhash                       1.0.10\n",
            "music21                          9.1.0\n",
            "namex                            0.0.8\n",
            "natsort                          8.4.0\n",
            "nbclassic                        1.1.0\n",
            "nbclient                         0.10.0\n",
            "nbconvert                        6.5.4\n",
            "nbformat                         5.10.4\n",
            "nest-asyncio                     1.6.0\n",
            "networkx                         3.3\n",
            "nibabel                          5.0.1\n",
            "nltk                             3.8.1\n",
            "notebook                         6.5.5\n",
            "notebook_shim                    0.2.4\n",
            "numba                            0.60.0\n",
            "numexpr                          2.10.1\n",
            "numpy                            1.26.4\n",
            "nvidia-nccl-cu12                 2.22.3\n",
            "nvtx                             0.2.10\n",
            "oauth2client                     4.1.3\n",
            "oauthlib                         3.2.2\n",
            "opencv-contrib-python            4.10.0.84\n",
            "opencv-python                    4.10.0.84\n",
            "opencv-python-headless           4.10.0.84\n",
            "openpyxl                         3.1.5\n",
            "opt-einsum                       3.3.0\n",
            "optax                            0.2.2\n",
            "optree                           0.12.1\n",
            "orbax-checkpoint                 0.6.1\n",
            "osqp                             0.6.7.post0\n",
            "packaging                        24.1\n",
            "pandas                           2.1.4\n",
            "pandas-datareader                0.10.0\n",
            "pandas-gbq                       0.23.1\n",
            "pandas-stubs                     2.1.4.231227\n",
            "pandocfilters                    1.5.1\n",
            "panel                            1.4.5\n",
            "param                            2.1.1\n",
            "parso                            0.8.4\n",
            "parsy                            2.1\n",
            "partd                            1.4.2\n",
            "pathlib                          1.0.1\n",
            "patsy                            0.5.6\n",
            "peewee                           3.17.6\n",
            "pexpect                          4.9.0\n",
            "pickleshare                      0.7.5\n",
            "Pillow                           9.4.0\n",
            "pip                              24.1.2\n",
            "pip-tools                        7.4.1\n",
            "platformdirs                     4.2.2\n",
            "plotly                           5.15.0\n",
            "plotnine                         0.12.4\n",
            "pluggy                           1.5.0\n",
            "polars                           0.20.2\n",
            "pooch                            1.8.2\n",
            "portpicker                       1.5.2\n",
            "prefetch_generator               1.0.3\n",
            "preshed                          3.0.9\n",
            "prettytable                      3.11.0\n",
            "proglog                          0.1.10\n",
            "progressbar2                     4.2.0\n",
            "prometheus_client                0.20.0\n",
            "promise                          2.3\n",
            "prompt_toolkit                   3.0.47\n",
            "prophet                          1.1.5\n",
            "proto-plus                       1.24.0\n",
            "protobuf                         3.20.3\n",
            "psutil                           5.9.5\n",
            "psycopg2                         2.9.9\n",
            "ptyprocess                       0.7.0\n",
            "py-cpuinfo                       9.0.0\n",
            "py4j                             0.10.9.7\n",
            "pyarrow                          14.0.2\n",
            "pyarrow-hotfix                   0.6\n",
            "pyasn1                           0.6.0\n",
            "pyasn1_modules                   0.4.0\n",
            "pycocotools                      2.0.8\n",
            "pycparser                        2.22\n",
            "pydantic                         2.8.2\n",
            "pydantic_core                    2.20.1\n",
            "pydata-google-auth               1.8.2\n",
            "pydot                            1.4.2\n",
            "pydot-ng                         2.0.0\n",
            "pydotplus                        2.0.2\n",
            "PyDrive                          1.3.1\n",
            "PyDrive2                         1.6.3\n",
            "pyerfa                           2.0.1.4\n",
            "pygame                           2.6.0\n",
            "Pygments                         2.16.1\n",
            "PyGObject                        3.42.1\n",
            "PyJWT                            2.9.0\n",
            "pymc                             5.10.4\n",
            "pymystem3                        0.2.0\n",
            "pynvjitlink-cu12                 0.3.0\n",
            "PyOpenGL                         3.1.7\n",
            "pyOpenSSL                        24.2.1\n",
            "pyparsing                        3.1.4\n",
            "pyperclip                        1.9.0\n",
            "pyproj                           3.6.1\n",
            "pyproject_hooks                  1.1.0\n",
            "pyshp                            2.3.1\n",
            "PySocks                          1.7.1\n",
            "pytensor                         2.18.6\n",
            "pytest                           7.4.4\n",
            "python-apt                       2.4.0\n",
            "python-box                       7.2.0\n",
            "python-dateutil                  2.8.2\n",
            "python-louvain                   0.16\n",
            "python-slugify                   8.0.4\n",
            "python-utils                     3.8.2\n",
            "pytz                             2024.1\n",
            "pyviz_comms                      3.0.3\n",
            "PyYAML                           6.0.2\n",
            "pyzmq                            24.0.1\n",
            "qdldl                            0.1.7.post4\n",
            "ratelim                          0.1.6\n",
            "referencing                      0.35.1\n",
            "regex                            2024.5.15\n",
            "requests                         2.32.3\n",
            "requests-oauthlib                1.3.1\n",
            "requirements-parser              0.9.0\n",
            "rich                             13.8.0\n",
            "rmm-cu12                         24.4.0\n",
            "rpds-py                          0.20.0\n",
            "rpy2                             3.4.2\n",
            "rsa                              4.9\n",
            "safetensors                      0.4.4\n",
            "scikit-image                     0.23.2\n",
            "scikit-learn                     1.3.2\n",
            "scipy                            1.13.1\n",
            "scooby                           0.10.0\n",
            "scs                              3.2.7\n",
            "seaborn                          0.13.1\n",
            "SecretStorage                    3.3.1\n",
            "Send2Trash                       1.8.3\n",
            "sentencepiece                    0.1.99\n",
            "setuptools                       71.0.4\n",
            "shapely                          2.0.6\n",
            "shellingham                      1.5.4\n",
            "simple_parsing                   0.1.5\n",
            "six                              1.16.0\n",
            "sklearn-pandas                   2.2.0\n",
            "smart-open                       7.0.4\n",
            "sniffio                          1.3.1\n",
            "snowballstemmer                  2.2.0\n",
            "snowflake-connector-python       3.12.1\n",
            "sortedcontainers                 2.4.0\n",
            "soundfile                        0.12.1\n",
            "soupsieve                        2.6\n",
            "soxr                             0.5.0\n",
            "spacy                            3.7.6\n",
            "spacy-legacy                     3.0.12\n",
            "spacy-loggers                    1.0.5\n",
            "Sphinx                           5.0.2\n",
            "sphinxcontrib-applehelp          2.0.0\n",
            "sphinxcontrib-devhelp            2.0.0\n",
            "sphinxcontrib-htmlhelp           2.1.0\n",
            "sphinxcontrib-jsmath             1.0.1\n",
            "sphinxcontrib-qthelp             2.0.0\n",
            "sphinxcontrib-serializinghtml    2.0.0\n",
            "SQLAlchemy                       2.0.32\n",
            "sqlglot                          20.11.0\n",
            "sqlparse                         0.5.1\n",
            "srsly                            2.4.8\n",
            "stanio                           0.5.1\n",
            "statsmodels                      0.14.2\n",
            "StrEnum                          0.4.15\n",
            "sympy                            1.13.2\n",
            "tables                           3.8.0\n",
            "tabulate                         0.9.0\n",
            "tbb                              2021.13.1\n",
            "tblib                            3.0.0\n",
            "tenacity                         9.0.0\n",
            "tensorboard                      2.17.0\n",
            "tensorboard-data-server          0.7.2\n",
            "tensorflow                       2.17.0\n",
            "tensorflow-datasets              4.9.6\n",
            "tensorflow-hub                   0.16.1\n",
            "tensorflow-io-gcs-filesystem     0.37.1\n",
            "tensorflow-metadata              1.15.0\n",
            "tensorflow-probability           0.24.0\n",
            "tensorstore                      0.1.64\n",
            "termcolor                        2.4.0\n",
            "terminado                        0.18.1\n",
            "text-unidecode                   1.3\n",
            "textblob                         0.17.1\n",
            "tf_keras                         2.17.0\n",
            "tf-slim                          1.1.0\n",
            "thinc                            8.2.5\n",
            "threadpoolctl                    3.5.0\n",
            "tifffile                         2024.8.28\n",
            "tinycss2                         1.3.0\n",
            "tokenizers                       0.19.1\n",
            "toml                             0.10.2\n",
            "tomli                            2.0.1\n",
            "tomlkit                          0.13.2\n",
            "toolz                            0.12.1\n",
            "torch                            2.4.0+cu121\n",
            "torchaudio                       2.4.0+cu121\n",
            "torchsummary                     1.5.1\n",
            "torchvision                      0.19.0+cu121\n",
            "tornado                          6.3.3\n",
            "tqdm                             4.66.5\n",
            "traitlets                        5.7.1\n",
            "traittypes                       0.2.1\n",
            "transformers                     4.44.2\n",
            "tweepy                           4.14.0\n",
            "typeguard                        4.3.0\n",
            "typer                            0.12.5\n",
            "types-pytz                       2024.1.0.20240417\n",
            "types-setuptools                 74.1.0.20240907\n",
            "typing_extensions                4.12.2\n",
            "tzdata                           2024.1\n",
            "tzlocal                          5.2\n",
            "uc-micro-py                      1.0.3\n",
            "uritemplate                      4.1.1\n",
            "urllib3                          2.0.7\n",
            "vega-datasets                    0.9.0\n",
            "wadllib                          1.3.6\n",
            "wasabi                           1.1.3\n",
            "wcwidth                          0.2.13\n",
            "weasel                           0.4.1\n",
            "webcolors                        24.8.0\n",
            "webencodings                     0.5.1\n",
            "websocket-client                 1.8.0\n",
            "Werkzeug                         3.0.4\n",
            "wheel                            0.44.0\n",
            "widgetsnbextension               3.6.8\n",
            "wordcloud                        1.9.3\n",
            "wrapt                            1.16.0\n",
            "xarray                           2024.6.0\n",
            "xarray-einstats                  0.7.0\n",
            "xgboost                          2.1.1\n",
            "xlrd                             2.0.1\n",
            "xyzservices                      2024.6.0\n",
            "yarl                             1.9.4\n",
            "yellowbrick                      1.5\n",
            "yfinance                         0.2.43\n",
            "zict                             3.0.0\n",
            "zipp                             3.20.1\n"
          ]
        }
      ],
      "source": [
        "!pip list"
      ]
    },
    {
      "cell_type": "markdown",
      "metadata": {
        "id": "szaabUhPl6Ok"
      },
      "source": [
        "## Management\n",
        "\n",
        "<img src=\"https://github.com/woodjmichael/PV-based-systems-lab/blob/main/conda.png?raw=true\" width=\"600\">\n",
        "\n",
        "Managing the environment is hard. Why?\n",
        "- We tend to use many different packages (and each package uses many sub-packages)\n",
        "- Also the packages are constantly being updated, and they aren't always compatible\n",
        "- So we need to manage which version of which package we have, and \"solve\" compatability problems\n",
        "\n",
        "There are different approaches to this problem.\n",
        "- For example with the `tensorflow` package we often use two environment tools:\n",
        "  - `conda`\n",
        "  -  `pip`\n",
        "\n",
        "Last, we don't often have one fixed environment on a computer, but different _virtual_ environments.\n",
        "\n",
        "As an example, what if we install the latest version of the package `numpy`? Red is generally bad news.\n"
      ]
    },
    {
      "cell_type": "code",
      "execution_count": 39,
      "metadata": {
        "colab": {
          "base_uri": "https://localhost:8080/"
        },
        "id": "BRRllKrQl6Ol",
        "outputId": "65eaf3d9-3295-4e09-c6e3-bd381c2c6b1b"
      },
      "outputs": [
        {
          "output_type": "stream",
          "name": "stdout",
          "text": [
            "Using pip 24.1.2 from /usr/local/lib/python3.10/dist-packages/pip (python 3.10)\n",
            "Collecting numpy>=2.0.0\n",
            "  Obtaining dependency information for numpy>=2.0.0 from https://files.pythonhosted.org/packages/7d/4b/a509d346fffede6120cc17610cc500819417ee9c3da7f08d9aaf15cab2a3/numpy-2.1.1-cp310-cp310-manylinux_2_17_x86_64.manylinux2014_x86_64.whl.metadata\n",
            "  Downloading numpy-2.1.1-cp310-cp310-manylinux_2_17_x86_64.manylinux2014_x86_64.whl.metadata (60 kB)\n",
            "\u001b[2K     \u001b[90m━━━━━━━━━━━━━━━━━━━━━━━━━━━━━━━━━━━━━━━━\u001b[0m \u001b[32m60.9/60.9 kB\u001b[0m \u001b[31m3.4 MB/s\u001b[0m eta \u001b[36m0:00:00\u001b[0m\n",
            "\u001b[?25hDownloading numpy-2.1.1-cp310-cp310-manylinux_2_17_x86_64.manylinux2014_x86_64.whl (16.3 MB)\n",
            "\u001b[2K   \u001b[90m━━━━━━━━━━━━━━━━━━━━━━━━━━━━━━━━━━━━━━━━\u001b[0m \u001b[32m16.3/16.3 MB\u001b[0m \u001b[31m67.3 MB/s\u001b[0m eta \u001b[36m0:00:00\u001b[0m\n",
            "\u001b[?25hInstalling collected packages: numpy\n",
            "  Attempting uninstall: numpy\n",
            "    Found existing installation: numpy 1.26.4\n",
            "    Uninstalling numpy-1.26.4:\n",
            "      Removing file or directory /usr/local/bin/f2py\n",
            "      Removing file or directory /usr/local/lib/python3.10/dist-packages/numpy-1.26.4.dist-info/\n",
            "      Removing file or directory /usr/local/lib/python3.10/dist-packages/numpy.libs/\n",
            "      Removing file or directory /usr/local/lib/python3.10/dist-packages/numpy/\n",
            "      Successfully uninstalled numpy-1.26.4\n",
            "  changing mode of /usr/local/bin/f2py to 755\n",
            "  changing mode of /usr/local/bin/numpy-config to 755\n",
            "\u001b[31mERROR: pip's dependency resolver does not currently take into account all the packages that are installed. This behaviour is the source of the following dependency conflicts.\n",
            "accelerate 0.33.0 requires numpy<2.0.0,>=1.17, but you have numpy 2.1.1 which is incompatible.\n",
            "arviz 0.18.0 requires numpy<2.0,>=1.23.0, but you have numpy 2.1.1 which is incompatible.\n",
            "cudf-cu12 24.4.1 requires numpy<2.0a0,>=1.23, but you have numpy 2.1.1 which is incompatible.\n",
            "cupy-cuda12x 12.2.0 requires numpy<1.27,>=1.20, but you have numpy 2.1.1 which is incompatible.\n",
            "gensim 4.3.3 requires numpy<2.0,>=1.18.5, but you have numpy 2.1.1 which is incompatible.\n",
            "ibis-framework 8.0.0 requires numpy<2,>=1, but you have numpy 2.1.1 which is incompatible.\n",
            "numba 0.60.0 requires numpy<2.1,>=1.22, but you have numpy 2.1.1 which is incompatible.\n",
            "pandas 2.1.4 requires numpy<2,>=1.22.4; python_version < \"3.11\", but you have numpy 2.1.1 which is incompatible.\n",
            "rmm-cu12 24.4.0 requires numpy<2.0a0,>=1.23, but you have numpy 2.1.1 which is incompatible.\n",
            "scikit-learn 1.3.2 requires numpy<2.0,>=1.17.3, but you have numpy 2.1.1 which is incompatible.\n",
            "tensorflow 2.17.0 requires numpy<2.0.0,>=1.23.5; python_version <= \"3.11\", but you have numpy 2.1.1 which is incompatible.\n",
            "thinc 8.2.5 requires numpy<2.0.0,>=1.19.0; python_version >= \"3.9\", but you have numpy 2.1.1 which is incompatible.\u001b[0m\u001b[31m\n",
            "\u001b[0mSuccessfully installed numpy-2.1.1\n"
          ]
        }
      ],
      "source": [
        "!pip install --force-reinstall -v \"numpy>=2.0.0\""
      ]
    },
    {
      "cell_type": "markdown",
      "metadata": {
        "id": "aemiBxnUl6Ol"
      },
      "source": [
        "Apparently `meteostat` requires a lower version of `numpy`, so `pip` downgrades `numpy`."
      ]
    },
    {
      "cell_type": "code",
      "execution_count": 73,
      "metadata": {
        "colab": {
          "base_uri": "https://localhost:8080/"
        },
        "id": "zulEk6K5l6Ol",
        "outputId": "ef1398ab-051b-400e-d3bf-0f6f8ab5d2b6"
      },
      "outputs": [
        {
          "output_type": "stream",
          "name": "stdout",
          "text": [
            "Requirement already satisfied: meteostat in /usr/local/lib/python3.10/dist-packages (1.6.8)\n",
            "Requirement already satisfied: pandas>=1.1 in /usr/local/lib/python3.10/dist-packages (from meteostat) (2.1.4)\n",
            "Requirement already satisfied: pytz in /usr/local/lib/python3.10/dist-packages (from meteostat) (2024.1)\n",
            "Requirement already satisfied: numpy in /usr/local/lib/python3.10/dist-packages (from meteostat) (1.26.4)\n",
            "Requirement already satisfied: python-dateutil>=2.8.2 in /usr/local/lib/python3.10/dist-packages (from pandas>=1.1->meteostat) (2.8.2)\n",
            "Requirement already satisfied: tzdata>=2022.1 in /usr/local/lib/python3.10/dist-packages (from pandas>=1.1->meteostat) (2024.1)\n",
            "Requirement already satisfied: six>=1.5 in /usr/local/lib/python3.10/dist-packages (from python-dateutil>=2.8.2->pandas>=1.1->meteostat) (1.16.0)\n"
          ]
        }
      ],
      "source": [
        "!pip install meteostat"
      ]
    },
    {
      "cell_type": "markdown",
      "metadata": {
        "id": "lsbAVY3Ml6Ol"
      },
      "source": [
        "# Numpy\n",
        "\n",
        "Numpy is inpired by matlab and is particularly useful for matrix math.\n",
        "\n",
        "It's a package, so we need to import it.\n",
        "\n",
        "> NB: the `import` .. `as` syntax just lets us define a shorter nickname to the package\n",
        "\n"
      ]
    },
    {
      "cell_type": "code",
      "execution_count": 41,
      "metadata": {
        "id": "s4slFqxGl6Ol"
      },
      "outputs": [],
      "source": [
        "import numpy as np"
      ]
    },
    {
      "cell_type": "markdown",
      "metadata": {
        "id": "uPoFyWjWl6Ol"
      },
      "source": [
        "A numpy array is like a list, and is built with a list."
      ]
    },
    {
      "cell_type": "code",
      "execution_count": 58,
      "metadata": {
        "colab": {
          "base_uri": "https://localhost:8080/"
        },
        "id": "SftcXMGbl6Ol",
        "outputId": "f741cbaf-94b7-46d6-88c9-7d7948b2ad44"
      },
      "outputs": [
        {
          "output_type": "execute_result",
          "data": {
            "text/plain": [
              "array([10, 20, 30])"
            ]
          },
          "metadata": {},
          "execution_count": 58
        }
      ],
      "source": [
        "x = np.array([10,20,30])\n",
        "x"
      ]
    },
    {
      "cell_type": "markdown",
      "source": [
        "And is accessed like a list. Remember 0 is the first item."
      ],
      "metadata": {
        "id": "fQsgc66boW5k"
      }
    },
    {
      "cell_type": "code",
      "source": [
        "x[2] # 3rd item"
      ],
      "metadata": {
        "colab": {
          "base_uri": "https://localhost:8080/"
        },
        "id": "Yx5-nEkPoSrC",
        "outputId": "8dea56a2-f579-43a0-fbf2-49457d0d4675"
      },
      "execution_count": 65,
      "outputs": [
        {
          "output_type": "execute_result",
          "data": {
            "text/plain": [
              "30"
            ]
          },
          "metadata": {},
          "execution_count": 65
        }
      ]
    },
    {
      "cell_type": "markdown",
      "metadata": {
        "id": "CHFaQUVGl6Om"
      },
      "source": [
        "Here is a 2-dimensional array, or a matrix, which we usually represent with a capital letter."
      ]
    },
    {
      "cell_type": "code",
      "execution_count": 60,
      "metadata": {
        "colab": {
          "base_uri": "https://localhost:8080/"
        },
        "id": "8Q-Cjapkl6Om",
        "outputId": "84e55922-b2cc-4ca5-b76e-e9902f09990f"
      },
      "outputs": [
        {
          "output_type": "execute_result",
          "data": {
            "text/plain": [
              "array([[10, 20, 30],\n",
              "       [40, 50, 60]])"
            ]
          },
          "metadata": {},
          "execution_count": 60
        }
      ],
      "source": [
        "X = np.array([[10,20,30],\n",
        "              [40,50,60]])\n",
        "X"
      ]
    },
    {
      "cell_type": "markdown",
      "source": [
        "The dimensions are $2\\times3$."
      ],
      "metadata": {
        "id": "e_lU-OSAo4q5"
      }
    },
    {
      "cell_type": "code",
      "source": [
        "X.shape"
      ],
      "metadata": {
        "colab": {
          "base_uri": "https://localhost:8080/"
        },
        "id": "s_69RseKoyiw",
        "outputId": "9890b9c1-6c75-4e7c-892d-a10a48e95b5b"
      },
      "execution_count": 67,
      "outputs": [
        {
          "output_type": "execute_result",
          "data": {
            "text/plain": [
              "(2, 3)"
            ]
          },
          "metadata": {},
          "execution_count": 67
        }
      ]
    },
    {
      "cell_type": "markdown",
      "metadata": {
        "id": "k3z1R4Qel6On"
      },
      "source": [
        "To access a value we need commas between dimensions."
      ]
    },
    {
      "cell_type": "code",
      "execution_count": 68,
      "metadata": {
        "colab": {
          "base_uri": "https://localhost:8080/"
        },
        "id": "8mV9fOCxl6On",
        "outputId": "da93a9ad-9003-4693-86a5-29a71e974e33"
      },
      "outputs": [
        {
          "output_type": "execute_result",
          "data": {
            "text/plain": [
              "-60"
            ]
          },
          "metadata": {},
          "execution_count": 68
        }
      ],
      "source": [
        "X[1,2] # row 1, col 2"
      ]
    },
    {
      "cell_type": "markdown",
      "metadata": {
        "id": "lNHN32FEl6On"
      },
      "source": [
        "We assign values similarly too."
      ]
    },
    {
      "cell_type": "code",
      "execution_count": 69,
      "metadata": {
        "colab": {
          "base_uri": "https://localhost:8080/"
        },
        "id": "Lg4p0_Ccl6Oo",
        "outputId": "9356cd6f-a7a4-4d47-af76-be253fe16912"
      },
      "outputs": [
        {
          "output_type": "stream",
          "name": "stdout",
          "text": [
            "[[ 10  20  30]\n",
            " [ 40  50 -60]]\n"
          ]
        }
      ],
      "source": [
        "X[1,2] = -60\n",
        "print(X)"
      ]
    },
    {
      "cell_type": "markdown",
      "metadata": {
        "id": "UFediRPzl6Oo"
      },
      "source": [
        "We can easily do simple algebra, such as \"scalar\" multiplication and addition."
      ]
    },
    {
      "cell_type": "code",
      "execution_count": 70,
      "metadata": {
        "colab": {
          "base_uri": "https://localhost:8080/"
        },
        "id": "svtjhxKAl6Oo",
        "outputId": "68ae9ff8-4760-4cbb-a3db-358b326ffb49"
      },
      "outputs": [
        {
          "output_type": "execute_result",
          "data": {
            "text/plain": [
              "array([30, 60, 90])"
            ]
          },
          "metadata": {},
          "execution_count": 70
        }
      ],
      "source": [
        "x = 2*x + x\n",
        "x"
      ]
    },
    {
      "cell_type": "markdown",
      "metadata": {
        "id": "0NvhRUfOl6Oo"
      },
      "source": [
        "And we can do matrix algebra, such as $X \\times x$."
      ]
    },
    {
      "cell_type": "code",
      "execution_count": 71,
      "metadata": {
        "colab": {
          "base_uri": "https://localhost:8080/"
        },
        "id": "4R62Kh8el6Oo",
        "outputId": "0c4f5edd-f016-4c09-fb6f-954bddc5b9a5"
      },
      "outputs": [
        {
          "output_type": "execute_result",
          "data": {
            "text/plain": [
              "array([ 4200, -1200])"
            ]
          },
          "metadata": {},
          "execution_count": 71
        }
      ],
      "source": [
        "np.matmul(X,x)"
      ]
    },
    {
      "cell_type": "markdown",
      "metadata": {
        "id": "uOgMR_JMl6Oo"
      },
      "source": [
        "There are many useful methods to a numpy array."
      ]
    },
    {
      "cell_type": "code",
      "execution_count": 72,
      "metadata": {
        "colab": {
          "base_uri": "https://localhost:8080/"
        },
        "id": "LGrI0rkJl6Oo",
        "outputId": "f8171cf3-0b2d-48d9-ec60-cdf339159f4b"
      },
      "outputs": [
        {
          "output_type": "execute_result",
          "data": {
            "text/plain": [
              "(50, -60, 90, 15.0)"
            ]
          },
          "metadata": {},
          "execution_count": 72
        }
      ],
      "source": [
        "X.max(), X.min(), X.sum(), X.mean()"
      ]
    },
    {
      "cell_type": "markdown",
      "source": [
        ">NB: These commas creates a tuple (TOO-pull) object, nice to keep things compact"
      ],
      "metadata": {
        "id": "tiM9W18Xnuov"
      }
    },
    {
      "cell_type": "markdown",
      "metadata": {
        "id": "aC8XTuwMl6Op"
      },
      "source": [
        "# Matrix Math and Parallelization\n",
        "\n",
        "\n",
        "Machine learning and AI, at their cores, involve lots of linear algebra, especially matrix multiplication and addition.\n",
        "\n",
        "For example, a single-layer neural network with 24 units and 96 input values:\n",
        "- Each forward pass requires a $24\\times96$ matrix multiplication\n",
        "- A single-thread CPU will do each of the $24\\times96=2304$ multiplcations in series\n",
        "- However a GPU will do many of the columns in parallel, taking a fraction of the time\n",
        "- The neural network training requires _many_ forward passes and calculation of error gradients\n",
        "\n",
        "The GPU advantage\n",
        "- Large machine learning models can have millions of parameters and GB of training data\n",
        "- In many realtime applications the model needs to calculate outputs in milliseconds\n",
        "- Training time can be days or weeks\n",
        "- The benefit of GPU parallelization can be 5-20x faster model training\n",
        "- The cost is the expense of hardware, complexity, and energy\n",
        "\n",
        "Then vs now\n",
        "- Original GPUs were developed for graphics processing (also fast, large matrix multiplication)\n",
        "- Meanwhile CPU \"clusters\" common at labs and universites\n",
        "- Now the foremost manufacturer NVIDIA is critical path for AI development\n",
        "- There are many layers of code which have to work perfectly with the GPU hardware to perform well\n",
        "- However new CPUs have mutliple cores for _some_ parallel operation\n",
        "\n",
        "\n",
        "<img src=\"https://github.com/woodjmichael/PV-based-systems-lab/blob/main/gpu.gif?raw=true\" width=\"600\">"
      ]
    },
    {
      "cell_type": "markdown",
      "metadata": {
        "id": "MQugLwNpl6Op"
      },
      "source": [
        "# Code Project\n",
        "\n",
        "If we have time we will:\n",
        "1. Create a new notebook\n",
        "2. Make a new module with the `Conductor` class\n",
        "3. Import it into Colab and use the class"
      ]
    }
  ],
  "metadata": {
    "kernelspec": {
      "display_name": "base",
      "language": "python",
      "name": "python3"
    },
    "language_info": {
      "codemirror_mode": {
        "name": "ipython",
        "version": 3
      },
      "file_extension": ".py",
      "mimetype": "text/x-python",
      "name": "python",
      "nbconvert_exporter": "python",
      "pygments_lexer": "ipython3",
      "version": "3.11.9"
    },
    "colab": {
      "provenance": [],
      "toc_visible": true,
      "include_colab_link": true
    }
  },
  "nbformat": 4,
  "nbformat_minor": 0
}