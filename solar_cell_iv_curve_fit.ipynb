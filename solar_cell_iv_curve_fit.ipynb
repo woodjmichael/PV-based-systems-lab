{
  "nbformat": 4,
  "nbformat_minor": 0,
  "metadata": {
    "colab": {
      "name": "sandbox.ipynb",
      "provenance": [],
      "collapsed_sections": []
    },
    "kernelspec": {
      "name": "python3",
      "display_name": "Python 3"
    },
    "language_info": {
      "name": "python"
    }
  },
  "cells": [
    {
      "cell_type": "markdown",
      "source": [
        "[PV education article](https://www.pveducation.org/pvcdrom/solar-cell-operation/iv-curve#footnote1_zlgyr9m)\n"
      ],
      "metadata": {
        "id": "zGPURQnJgltF"
      }
    },
    {
      "cell_type": "code",
      "source": [
        "from numpy import array, arange, exp\n",
        "from math import factorial\n",
        "from scipy.optimize import curve_fit\n",
        "from matplotlib.pyplot import scatter, plot, show\n",
        "from scipy.constants import Boltzmann, elementary_charge"
      ],
      "metadata": {
        "id": "0r19zFoEHmwE"
      },
      "execution_count": 25,
      "outputs": []
    },
    {
      "cell_type": "markdown",
      "source": [
        "Simplified expression:\n",
        "\n",
        "$ I(V) = I_L + I_S \\ e^{ ( \\frac{qV}{nkT} ) } $"
      ],
      "metadata": {
        "id": "aJN_o0MyhAXk"
      }
    },
    {
      "cell_type": "code",
      "source": [
        "V = array([11.8, 10.6, 10.5, 10.1, 5.9, 3.1, 2.1, 1.6])\n",
        "I = array([0.00, 0.29, 0.42, 0.46, 0.49, 0.52, 0.53, 0.53])\n",
        "\n",
        "n = 1.0\t\t\t# ideality factor\n",
        "k = Boltzmann \t\t\t# joules per kelvin\n",
        "q = elementary_charge \t# couloumbs\n",
        "T = 300.0 \t\t\t\t# kelvin\n",
        "\n",
        "def objective_real(x, I_L, I_S, n):\n",
        "\treturn I_L - I_S * ( exp(q*x / (n*k*T)) ) "
      ],
      "metadata": {
        "id": "cBSSpRieHsoy"
      },
      "execution_count": 26,
      "outputs": []
    },
    {
      "cell_type": "markdown",
      "source": [
        "The above equation _should_ work, but the python non-linear least squares algorithm is unable to calculate the covariance matrix on the function `exp()`. \n",
        "\n",
        "So we need to do a taylor expansion of $e^x$:\n",
        "\n",
        "$\n",
        "e^x = 1 + x/1! + x^2/2! + x^3/3! ...\n",
        "$"
      ],
      "metadata": {
        "id": "lniEd2YsgpJs"
      }
    },
    {
      "cell_type": "code",
      "source": [
        "def objective(x, I_L, I_S):\n",
        "\ttaylor = 1\n",
        "\tfor i in range(1,10):\n",
        "\t\ttaylor += (q*x / (n*k*T))**i/factorial(i)\n",
        "\treturn I_L - I_S * taylor\t"
      ],
      "metadata": {
        "id": "oD539csBGmwz"
      },
      "execution_count": 33,
      "outputs": []
    },
    {
      "cell_type": "code",
      "source": [
        "# curve fit\n",
        "parameters, _ = curve_fit(objective, V, I)"
      ],
      "metadata": {
        "id": "Dt7koJzQHAL7"
      },
      "execution_count": 34,
      "outputs": []
    },
    {
      "cell_type": "code",
      "source": [
        "# summarize the parameter values\n",
        "I_L, I_S = parameters\n",
        "print(f'I_L = {I_L}')\n",
        "print(f'I_S = {I_S}')\n",
        "\n",
        "# plot input vs output\n",
        "scatter(V, I)\n",
        "\n",
        "# define a sequence of inputs between the smallest and largest known inputs\n",
        "x_line = arange(min(V), max(V), .01)\n",
        "\n",
        "# calculate the output for the range\n",
        "y_line = objective(x_line, I_L, I_S)\n",
        "\n",
        "# create a line plot for the mapping function\n",
        "plot(x_line, y_line, '--', color='red')\n",
        "show()"
      ],
      "metadata": {
        "id": "fjtfplQUHf1j",
        "colab": {
          "base_uri": "https://localhost:8080/",
          "height": 300
        },
        "outputId": "1f10bf08-2c5a-4446-86f9-dbb1b66c6f5a"
      },
      "execution_count": 35,
      "outputs": [
        {
          "output_type": "stream",
          "name": "stdout",
          "text": [
            "I_L = 0.5319299161504669\n",
            "I_S = 2.1195126133207896e-19\n"
          ]
        },
        {
          "output_type": "display_data",
          "data": {
            "text/plain": [
              "<Figure size 432x288 with 1 Axes>"
            ],
            "image/png": "[encoded data removed]"
          },
          "metadata": {
            "needs_background": "light"
          }
        }
      ]
    }
  ]
}