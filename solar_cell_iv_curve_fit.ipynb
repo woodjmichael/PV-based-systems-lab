{
 "cells": [
  {
   "cell_type": "markdown",
   "metadata": {},
   "source": [
    "# IV Curve Seminar"
   ]
  },
  {
   "cell_type": "code",
   "execution_count": 46,
   "metadata": {},
   "outputs": [],
   "source": [
    "from numpy import array, arange, exp\n",
    "from math import factorial\n",
    "from scipy.optimize import curve_fit\n",
    "from matplotlib.pyplot import scatter, plot, show, legend, xlabel, ylabel, ylim\n",
    "from scipy.constants import Boltzmann, elementary_charge\n",
    "import pandas as pd"
   ]
  },
  {
   "cell_type": "markdown",
   "metadata": {},
   "source": [
    "# Measurements"
   ]
  },
  {
   "cell_type": "code",
   "execution_count": 18,
   "metadata": {},
   "outputs": [
    {
     "data": {
      "text/html": [
       "<div>\n",
       "<style scoped>\n",
       "    .dataframe tbody tr th:only-of-type {\n",
       "        vertical-align: middle;\n",
       "    }\n",
       "\n",
       "    .dataframe tbody tr th {\n",
       "        vertical-align: top;\n",
       "    }\n",
       "\n",
       "    .dataframe thead th {\n",
       "        text-align: right;\n",
       "    }\n",
       "</style>\n",
       "<table border=\"1\" class=\"dataframe\">\n",
       "  <thead>\n",
       "    <tr style=\"text-align: right;\">\n",
       "      <th></th>\n",
       "      <th>d [cm]</th>\n",
       "      <th>irrad [W/m2]</th>\n",
       "      <th>V [V]</th>\n",
       "      <th>R [ohms]</th>\n",
       "      <th>R error +</th>\n",
       "      <th>R error -</th>\n",
       "    </tr>\n",
       "  </thead>\n",
       "  <tbody>\n",
       "    <tr>\n",
       "      <th>0</th>\n",
       "      <td>60</td>\n",
       "      <td>920</td>\n",
       "      <td>11.8</td>\n",
       "      <td>1000000</td>\n",
       "      <td>1050000.00</td>\n",
       "      <td>950000.00</td>\n",
       "    </tr>\n",
       "    <tr>\n",
       "      <th>1</th>\n",
       "      <td>60</td>\n",
       "      <td>920</td>\n",
       "      <td>10.6</td>\n",
       "      <td>37</td>\n",
       "      <td>38.85</td>\n",
       "      <td>35.15</td>\n",
       "    </tr>\n",
       "    <tr>\n",
       "      <th>2</th>\n",
       "      <td>60</td>\n",
       "      <td>920</td>\n",
       "      <td>10.5</td>\n",
       "      <td>25</td>\n",
       "      <td>26.25</td>\n",
       "      <td>23.75</td>\n",
       "    </tr>\n",
       "    <tr>\n",
       "      <th>3</th>\n",
       "      <td>60</td>\n",
       "      <td>920</td>\n",
       "      <td>10.1</td>\n",
       "      <td>22</td>\n",
       "      <td>23.10</td>\n",
       "      <td>20.90</td>\n",
       "    </tr>\n",
       "    <tr>\n",
       "      <th>4</th>\n",
       "      <td>60</td>\n",
       "      <td>920</td>\n",
       "      <td>5.9</td>\n",
       "      <td>12</td>\n",
       "      <td>12.60</td>\n",
       "      <td>11.40</td>\n",
       "    </tr>\n",
       "    <tr>\n",
       "      <th>5</th>\n",
       "      <td>60</td>\n",
       "      <td>920</td>\n",
       "      <td>3.1</td>\n",
       "      <td>6</td>\n",
       "      <td>6.30</td>\n",
       "      <td>5.70</td>\n",
       "    </tr>\n",
       "    <tr>\n",
       "      <th>6</th>\n",
       "      <td>60</td>\n",
       "      <td>920</td>\n",
       "      <td>2.1</td>\n",
       "      <td>4</td>\n",
       "      <td>4.20</td>\n",
       "      <td>3.80</td>\n",
       "    </tr>\n",
       "    <tr>\n",
       "      <th>7</th>\n",
       "      <td>60</td>\n",
       "      <td>920</td>\n",
       "      <td>1.6</td>\n",
       "      <td>3</td>\n",
       "      <td>3.15</td>\n",
       "      <td>2.85</td>\n",
       "    </tr>\n",
       "  </tbody>\n",
       "</table>\n",
       "</div>"
      ],
      "text/plain": [
       "   d [cm]  irrad [W/m2]  V [V]  R [ohms]   R error +  R error -\n",
       "0      60           920   11.8   1000000  1050000.00  950000.00\n",
       "1      60           920   10.6        37       38.85      35.15\n",
       "2      60           920   10.5        25       26.25      23.75\n",
       "3      60           920   10.1        22       23.10      20.90\n",
       "4      60           920    5.9        12       12.60      11.40\n",
       "5      60           920    3.1         6        6.30       5.70\n",
       "6      60           920    2.1         4        4.20       3.80\n",
       "7      60           920    1.6         3        3.15       2.85"
      ]
     },
     "execution_count": 18,
     "metadata": {},
     "output_type": "execute_result"
    }
   ],
   "source": [
    "df = pd.read_csv('iv_measurements.csv')\n",
    "df"
   ]
  },
  {
   "cell_type": "code",
   "execution_count": 20,
   "metadata": {},
   "outputs": [
    {
     "data": {
      "text/html": [
       "<div>\n",
       "<style scoped>\n",
       "    .dataframe tbody tr th:only-of-type {\n",
       "        vertical-align: middle;\n",
       "    }\n",
       "\n",
       "    .dataframe tbody tr th {\n",
       "        vertical-align: top;\n",
       "    }\n",
       "\n",
       "    .dataframe thead th {\n",
       "        text-align: right;\n",
       "    }\n",
       "</style>\n",
       "<table border=\"1\" class=\"dataframe\">\n",
       "  <thead>\n",
       "    <tr style=\"text-align: right;\">\n",
       "      <th></th>\n",
       "      <th>d [cm]</th>\n",
       "      <th>irrad [W/m2]</th>\n",
       "      <th>V [V]</th>\n",
       "      <th>R [ohms]</th>\n",
       "      <th>R error +</th>\n",
       "      <th>R error -</th>\n",
       "      <th>I [A]</th>\n",
       "      <th>I err + [A]</th>\n",
       "      <th>I err - [A]</th>\n",
       "      <th>P [W]</th>\n",
       "      <th>P err + [W]</th>\n",
       "      <th>P err - [W]</th>\n",
       "      <th>P avg [W]</th>\n",
       "    </tr>\n",
       "  </thead>\n",
       "  <tbody>\n",
       "    <tr>\n",
       "      <th>0</th>\n",
       "      <td>60</td>\n",
       "      <td>920</td>\n",
       "      <td>11.8</td>\n",
       "      <td>1000000</td>\n",
       "      <td>1050000.00</td>\n",
       "      <td>950000.00</td>\n",
       "      <td>0.000012</td>\n",
       "      <td>0.000012</td>\n",
       "      <td>0.000011</td>\n",
       "      <td>0.000139</td>\n",
       "      <td>0.000147</td>\n",
       "      <td>0.000133</td>\n",
       "      <td>0.000147</td>\n",
       "    </tr>\n",
       "    <tr>\n",
       "      <th>1</th>\n",
       "      <td>60</td>\n",
       "      <td>920</td>\n",
       "      <td>10.6</td>\n",
       "      <td>37</td>\n",
       "      <td>38.85</td>\n",
       "      <td>35.15</td>\n",
       "      <td>0.286486</td>\n",
       "      <td>0.301565</td>\n",
       "      <td>0.272844</td>\n",
       "      <td>3.036757</td>\n",
       "      <td>3.196586</td>\n",
       "      <td>2.892149</td>\n",
       "      <td>3.196586</td>\n",
       "    </tr>\n",
       "    <tr>\n",
       "      <th>2</th>\n",
       "      <td>60</td>\n",
       "      <td>920</td>\n",
       "      <td>10.5</td>\n",
       "      <td>25</td>\n",
       "      <td>26.25</td>\n",
       "      <td>23.75</td>\n",
       "      <td>0.420000</td>\n",
       "      <td>0.442105</td>\n",
       "      <td>0.400000</td>\n",
       "      <td>4.410000</td>\n",
       "      <td>4.642105</td>\n",
       "      <td>4.200000</td>\n",
       "      <td>4.642105</td>\n",
       "    </tr>\n",
       "    <tr>\n",
       "      <th>3</th>\n",
       "      <td>60</td>\n",
       "      <td>920</td>\n",
       "      <td>10.1</td>\n",
       "      <td>22</td>\n",
       "      <td>23.10</td>\n",
       "      <td>20.90</td>\n",
       "      <td>0.459091</td>\n",
       "      <td>0.483254</td>\n",
       "      <td>0.437229</td>\n",
       "      <td>4.636818</td>\n",
       "      <td>4.880861</td>\n",
       "      <td>4.416017</td>\n",
       "      <td>4.880861</td>\n",
       "    </tr>\n",
       "    <tr>\n",
       "      <th>4</th>\n",
       "      <td>60</td>\n",
       "      <td>920</td>\n",
       "      <td>5.9</td>\n",
       "      <td>12</td>\n",
       "      <td>12.60</td>\n",
       "      <td>11.40</td>\n",
       "      <td>0.491667</td>\n",
       "      <td>0.517544</td>\n",
       "      <td>0.468254</td>\n",
       "      <td>2.900833</td>\n",
       "      <td>3.053509</td>\n",
       "      <td>2.762698</td>\n",
       "      <td>3.053509</td>\n",
       "    </tr>\n",
       "    <tr>\n",
       "      <th>5</th>\n",
       "      <td>60</td>\n",
       "      <td>920</td>\n",
       "      <td>3.1</td>\n",
       "      <td>6</td>\n",
       "      <td>6.30</td>\n",
       "      <td>5.70</td>\n",
       "      <td>0.516667</td>\n",
       "      <td>0.543860</td>\n",
       "      <td>0.492063</td>\n",
       "      <td>1.601667</td>\n",
       "      <td>1.685965</td>\n",
       "      <td>1.525397</td>\n",
       "      <td>1.685965</td>\n",
       "    </tr>\n",
       "    <tr>\n",
       "      <th>6</th>\n",
       "      <td>60</td>\n",
       "      <td>920</td>\n",
       "      <td>2.1</td>\n",
       "      <td>4</td>\n",
       "      <td>4.20</td>\n",
       "      <td>3.80</td>\n",
       "      <td>0.525000</td>\n",
       "      <td>0.552632</td>\n",
       "      <td>0.500000</td>\n",
       "      <td>1.102500</td>\n",
       "      <td>1.160526</td>\n",
       "      <td>1.050000</td>\n",
       "      <td>1.160526</td>\n",
       "    </tr>\n",
       "    <tr>\n",
       "      <th>7</th>\n",
       "      <td>60</td>\n",
       "      <td>920</td>\n",
       "      <td>1.6</td>\n",
       "      <td>3</td>\n",
       "      <td>3.15</td>\n",
       "      <td>2.85</td>\n",
       "      <td>0.533333</td>\n",
       "      <td>0.561404</td>\n",
       "      <td>0.507937</td>\n",
       "      <td>0.853333</td>\n",
       "      <td>0.898246</td>\n",
       "      <td>0.812698</td>\n",
       "      <td>0.898246</td>\n",
       "    </tr>\n",
       "  </tbody>\n",
       "</table>\n",
       "</div>"
      ],
      "text/plain": [
       "   d [cm]  irrad [W/m2]  V [V]  R [ohms]   R error +  R error -     I [A]  \\\n",
       "0      60           920   11.8   1000000  1050000.00  950000.00  0.000012   \n",
       "1      60           920   10.6        37       38.85      35.15  0.286486   \n",
       "2      60           920   10.5        25       26.25      23.75  0.420000   \n",
       "3      60           920   10.1        22       23.10      20.90  0.459091   \n",
       "4      60           920    5.9        12       12.60      11.40  0.491667   \n",
       "5      60           920    3.1         6        6.30       5.70  0.516667   \n",
       "6      60           920    2.1         4        4.20       3.80  0.525000   \n",
       "7      60           920    1.6         3        3.15       2.85  0.533333   \n",
       "\n",
       "   I err + [A]  I err - [A]     P [W]  P err + [W]  P err - [W]  P avg [W]  \n",
       "0     0.000012     0.000011  0.000139     0.000147     0.000133   0.000147  \n",
       "1     0.301565     0.272844  3.036757     3.196586     2.892149   3.196586  \n",
       "2     0.442105     0.400000  4.410000     4.642105     4.200000   4.642105  \n",
       "3     0.483254     0.437229  4.636818     4.880861     4.416017   4.880861  \n",
       "4     0.517544     0.468254  2.900833     3.053509     2.762698   3.053509  \n",
       "5     0.543860     0.492063  1.601667     1.685965     1.525397   1.685965  \n",
       "6     0.552632     0.500000  1.102500     1.160526     1.050000   1.160526  \n",
       "7     0.561404     0.507937  0.853333     0.898246     0.812698   0.898246  "
      ]
     },
     "execution_count": 20,
     "metadata": {},
     "output_type": "execute_result"
    }
   ],
   "source": [
    "df['I [A]'] = df['V [V]'] / df['R [ohms]']\n",
    "df['I err + [A]'] = df['V [V]'] / df['R error -']\n",
    "df['I err - [A]'] = df['V [V]'] / df['R error +']\n",
    "df['P [W]'] = df['V [V]'] * df['I [A]']\n",
    "df['P err + [W]'] = df['V [V]'] * df['I err + [A]']\n",
    "df['P err - [W]'] = df['V [V]'] * df['I err - [A]']\n",
    "df['P avg [W]'] = ( df['P err + [W]'] + df['P err + [W]'] ) /2\n",
    "df\n"
   ]
  },
  {
   "cell_type": "code",
   "execution_count": 21,
   "metadata": {},
   "outputs": [
    {
     "data": {
      "image/png": "[encoded data removed]",
      "text/plain": [
       "<Figure size 432x288 with 1 Axes>"
      ]
     },
     "metadata": {
      "needs_background": "light"
     },
     "output_type": "display_data"
    }
   ],
   "source": [
    "scatter(df['V [V]'], df['I [A]'], label='Typical')\n",
    "scatter(df['V [V]'], df['I err + [A]'], label='Hi error')\n",
    "scatter(df['V [V]'], df['I err - [A]'], label='Lo error')\n",
    "legend()\n",
    "xlabel('Volts [V}')\n",
    "ylabel('Current [A]')\n",
    "show()"
   ]
  },
  {
   "cell_type": "markdown",
   "metadata": {},
   "source": [
    "# Curve fit"
   ]
  },
  {
   "cell_type": "code",
   "execution_count": 22,
   "metadata": {},
   "outputs": [],
   "source": [
    "V = df['V [V]'].values \n",
    "I = df['I [A]'].values "
   ]
  },
  {
   "cell_type": "markdown",
   "metadata": {},
   "source": [
    "Simplified expression from [PV education article](https://www.pveducation.org/pvcdrom/solar-cell-operation/iv-curve#footnote1_zlgyr9m)\n",
    ":\n",
    "\n",
    "$ I(V) = I_L + I_S \\ e^{ ( \\frac{qV}{nkT} ) } $"
   ]
  },
  {
   "cell_type": "code",
   "execution_count": 50,
   "metadata": {},
   "outputs": [],
   "source": [
    "n = 1.0\t\t\t\t\t# ideality factor\n",
    "k = Boltzmann \t\t\t# joules per kelvin\n",
    "q = elementary_charge \t# couloumbs\n",
    "T = 300.0 \t\t\t\t# kelvin\n",
    "\n",
    "def function(x, I_L, I_S):\n",
    "\treturn I_L - I_S * ( exp(q*x / (n*k*T)) ) "
   ]
  },
  {
   "cell_type": "markdown",
   "metadata": {},
   "source": [
    "The above equation _should_ work, but the python non-linear least squares algorithm is unable to calculate the covariance matrix on the function `exp()`. \n",
    "\n",
    "So we need to do a taylor expansion of $e^x$:\n",
    "\n",
    "$\n",
    "e^x = 1 + x/1! + x^2/2! + x^3/3! ...\n",
    "$"
   ]
  },
  {
   "cell_type": "code",
   "execution_count": 34,
   "metadata": {},
   "outputs": [],
   "source": [
    "def function_with_taylor(x, I_L, I_S):\n",
    "\ttaylor = 1\n",
    "\tfor i in range(1,10):\n",
    "\t\ttaylor += (q*x / (n*k*T))**i/factorial(i)\n",
    "\treturn I_L - I_S * taylor\t"
   ]
  },
  {
   "cell_type": "markdown",
   "metadata": {},
   "source": [
    "Do the curve fit"
   ]
  },
  {
   "cell_type": "code",
   "execution_count": 35,
   "metadata": {},
   "outputs": [
    {
     "name": "stdout",
     "output_type": "stream",
     "text": [
      "I_L = 0.5308534574118514\n",
      "I_S = 2.1177018253319535e-19\n"
     ]
    }
   ],
   "source": [
    "parameters, _ = curve_fit(function_with_taylor, V, I)\n",
    "\n",
    "I_L, I_S = parameters\n",
    "print(f'I_L = {I_L}')\n",
    "print(f'I_S = {I_S}')\n"
   ]
  },
  {
   "cell_type": "markdown",
   "metadata": {},
   "source": [
    "Plot with taylor-expanded function"
   ]
  },
  {
   "cell_type": "code",
   "execution_count": 36,
   "metadata": {},
   "outputs": [
    {
     "data": {
      "image/png": "[encoded data removed]",
      "text/plain": [
       "<Figure size 432x288 with 1 Axes>"
      ]
     },
     "metadata": {
      "needs_background": "light"
     },
     "output_type": "display_data"
    }
   ],
   "source": [
    "scatter(V, I, label='Data')\n",
    "\n",
    "x = arange(0.5, 12, .01)\n",
    "y = function_with_taylor(x, I_L, I_S)\n",
    "\n",
    "plot(x, y, '--', color='red', label='Fit (taylor)')\n",
    "legend()\n",
    "xlabel('Voltage [V]')\n",
    "ylabel('Current [A]')\n",
    "show()"
   ]
  },
  {
   "cell_type": "markdown",
   "metadata": {},
   "source": [
    "This doesn't work and I dont know why"
   ]
  },
  {
   "cell_type": "code",
   "execution_count": 37,
   "metadata": {},
   "outputs": [
    {
     "data": {
      "image/png": "[encoded data removed]",
      "text/plain": [
       "<Figure size 432x288 with 1 Axes>"
      ]
     },
     "metadata": {
      "needs_background": "light"
     },
     "output_type": "display_data"
    }
   ],
   "source": [
    "scatter(V, I, label='Data')\n",
    "\n",
    "x = arange(0.5, 12, .01)\n",
    "y1 = function_with_taylor(x, I_L, I_S)\n",
    "y2 = function(x, I_L, I_S)\n",
    "\n",
    "plot(x, y1, '--', color='red', label='Fit (taylor)')\n",
    "plot(x, y2, '--', color='green', label='Fit')\n",
    "legend()\n",
    "xlabel('Voltage [V]')\n",
    "ylabel('Current [A]')\n",
    "ylim([0,1])\n",
    "show()"
   ]
  }
 ],
 "metadata": {
  "interpreter": {
   "hash": "2361ea0459e35573ebdd904a4cb2aa2f641276861e76159ac16ab576e61e5a67"
  },
  "kernelspec": {
   "display_name": "Python 3.7.9 ('env1')",
   "language": "python",
   "name": "python3"
  },
  "language_info": {
   "codemirror_mode": {
    "name": "ipython",
    "version": 3
   },
   "file_extension": ".py",
   "mimetype": "text/x-python",
   "name": "python",
   "nbconvert_exporter": "python",
   "pygments_lexer": "ipython3",
   "version": "3.7.9"
  },
  "orig_nbformat": 4
 },
 "nbformat": 4,
 "nbformat_minor": 2
}
