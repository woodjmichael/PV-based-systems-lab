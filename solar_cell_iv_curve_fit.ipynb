{
 "cells": [
  {
   "cell_type": "markdown",
   "metadata": {},
   "source": [
    "# IV Curve Seminar"
   ]
  },
  {
   "cell_type": "code",
   "execution_count": 1,
   "metadata": {},
   "outputs": [],
   "source": [
    "from numpy import arange, exp, argmax\n",
    "from math import factorial\n",
    "from scipy.optimize import curve_fit\n",
    "from matplotlib.pyplot import scatter, plot, show, legend, xlabel, ylabel, title\n",
    "from scipy.constants import Boltzmann, elementary_charge\n",
    "import pandas as pd"
   ]
  },
  {
   "cell_type": "markdown",
   "metadata": {},
   "source": [
    "# Measurements\n",
    "\n",
    "We put a 800 W halogen lamp on four solar cells, two in parallel and two in series. \n",
    "\n",
    "Each cell was about 6 V and 2.5 W.\n",
    "\n",
    "The 2x2 cell array output had a resistive load $R$ of different values, made by a discrete resistor (22R) or series-parallel combinations. \n",
    "\n",
    "$R$ is the rated, not measured resistence, so we should consider the +/- 5% error."
   ]
  },
  {
   "cell_type": "code",
   "execution_count": 2,
   "metadata": {},
   "outputs": [
    {
     "data": {
      "text/html": [
       "<div>\n",
       "<style scoped>\n",
       "    .dataframe tbody tr th:only-of-type {\n",
       "        vertical-align: middle;\n",
       "    }\n",
       "\n",
       "    .dataframe tbody tr th {\n",
       "        vertical-align: top;\n",
       "    }\n",
       "\n",
       "    .dataframe thead th {\n",
       "        text-align: right;\n",
       "    }\n",
       "</style>\n",
       "<table border=\"1\" class=\"dataframe\">\n",
       "  <thead>\n",
       "    <tr style=\"text-align: right;\">\n",
       "      <th></th>\n",
       "      <th>L [cm]</th>\n",
       "      <th>irrad [W/m^2]</th>\n",
       "      <th>V [V]</th>\n",
       "      <th>R [ohm]</th>\n",
       "      <th>R error +</th>\n",
       "      <th>R error -</th>\n",
       "    </tr>\n",
       "  </thead>\n",
       "  <tbody>\n",
       "    <tr>\n",
       "      <th>0</th>\n",
       "      <td>60</td>\n",
       "      <td>920</td>\n",
       "      <td>11.8</td>\n",
       "      <td>1000000</td>\n",
       "      <td>1050000.00</td>\n",
       "      <td>950000.00</td>\n",
       "    </tr>\n",
       "    <tr>\n",
       "      <th>1</th>\n",
       "      <td>60</td>\n",
       "      <td>920</td>\n",
       "      <td>10.6</td>\n",
       "      <td>34</td>\n",
       "      <td>38.85</td>\n",
       "      <td>35.15</td>\n",
       "    </tr>\n",
       "    <tr>\n",
       "      <th>2</th>\n",
       "      <td>60</td>\n",
       "      <td>920</td>\n",
       "      <td>10.5</td>\n",
       "      <td>25</td>\n",
       "      <td>26.25</td>\n",
       "      <td>23.75</td>\n",
       "    </tr>\n",
       "    <tr>\n",
       "      <th>3</th>\n",
       "      <td>60</td>\n",
       "      <td>920</td>\n",
       "      <td>10.1</td>\n",
       "      <td>22</td>\n",
       "      <td>23.10</td>\n",
       "      <td>20.90</td>\n",
       "    </tr>\n",
       "    <tr>\n",
       "      <th>4</th>\n",
       "      <td>60</td>\n",
       "      <td>920</td>\n",
       "      <td>5.9</td>\n",
       "      <td>12</td>\n",
       "      <td>12.60</td>\n",
       "      <td>11.40</td>\n",
       "    </tr>\n",
       "    <tr>\n",
       "      <th>5</th>\n",
       "      <td>60</td>\n",
       "      <td>920</td>\n",
       "      <td>3.1</td>\n",
       "      <td>6</td>\n",
       "      <td>6.30</td>\n",
       "      <td>5.70</td>\n",
       "    </tr>\n",
       "    <tr>\n",
       "      <th>6</th>\n",
       "      <td>60</td>\n",
       "      <td>920</td>\n",
       "      <td>2.1</td>\n",
       "      <td>4</td>\n",
       "      <td>4.20</td>\n",
       "      <td>3.80</td>\n",
       "    </tr>\n",
       "    <tr>\n",
       "      <th>7</th>\n",
       "      <td>60</td>\n",
       "      <td>920</td>\n",
       "      <td>1.6</td>\n",
       "      <td>3</td>\n",
       "      <td>3.15</td>\n",
       "      <td>2.85</td>\n",
       "    </tr>\n",
       "  </tbody>\n",
       "</table>\n",
       "</div>"
      ],
      "text/plain": [
       "   L [cm]  irrad [W/m^2]  V [V]  R [ohm]   R error +  R error -\n",
       "0      60            920   11.8  1000000  1050000.00  950000.00\n",
       "1      60            920   10.6       34       38.85      35.15\n",
       "2      60            920   10.5       25       26.25      23.75\n",
       "3      60            920   10.1       22       23.10      20.90\n",
       "4      60            920    5.9       12       12.60      11.40\n",
       "5      60            920    3.1        6        6.30       5.70\n",
       "6      60            920    2.1        4        4.20       3.80\n",
       "7      60            920    1.6        3        3.15       2.85"
      ]
     },
     "execution_count": 2,
     "metadata": {},
     "output_type": "execute_result"
    }
   ],
   "source": [
    "d = pd.read_csv('iv_measurements.csv')\n",
    "d"
   ]
  },
  {
   "cell_type": "markdown",
   "metadata": {},
   "source": [
    "Remove units for easier reading"
   ]
  },
  {
   "cell_type": "code",
   "execution_count": 3,
   "metadata": {},
   "outputs": [],
   "source": [
    "d.columns = ['L', 'irrad', 'V', 'R', 'R+', 'R-']"
   ]
  },
  {
   "cell_type": "markdown",
   "metadata": {},
   "source": [
    "Calculate current and power.\n",
    "\n",
    "$ V = I\\ R $ <br>\n",
    "\n",
    "$ P = I\\ V $\n",
    "\n",
    "These could be called indirect measurements, with a simple measurement model (ohm's law):"
   ]
  },
  {
   "cell_type": "code",
   "execution_count": 4,
   "metadata": {},
   "outputs": [
    {
     "data": {
      "text/html": [
       "<div>\n",
       "<style scoped>\n",
       "    .dataframe tbody tr th:only-of-type {\n",
       "        vertical-align: middle;\n",
       "    }\n",
       "\n",
       "    .dataframe tbody tr th {\n",
       "        vertical-align: top;\n",
       "    }\n",
       "\n",
       "    .dataframe thead th {\n",
       "        text-align: right;\n",
       "    }\n",
       "</style>\n",
       "<table border=\"1\" class=\"dataframe\">\n",
       "  <thead>\n",
       "    <tr style=\"text-align: right;\">\n",
       "      <th></th>\n",
       "      <th>L</th>\n",
       "      <th>irrad</th>\n",
       "      <th>V</th>\n",
       "      <th>R</th>\n",
       "      <th>R+</th>\n",
       "      <th>R-</th>\n",
       "      <th>I</th>\n",
       "      <th>P</th>\n",
       "    </tr>\n",
       "  </thead>\n",
       "  <tbody>\n",
       "    <tr>\n",
       "      <th>0</th>\n",
       "      <td>60</td>\n",
       "      <td>920</td>\n",
       "      <td>11.8</td>\n",
       "      <td>1000000</td>\n",
       "      <td>1050000.00</td>\n",
       "      <td>950000.00</td>\n",
       "      <td>0.000012</td>\n",
       "      <td>0.000139</td>\n",
       "    </tr>\n",
       "    <tr>\n",
       "      <th>1</th>\n",
       "      <td>60</td>\n",
       "      <td>920</td>\n",
       "      <td>10.6</td>\n",
       "      <td>34</td>\n",
       "      <td>38.85</td>\n",
       "      <td>35.15</td>\n",
       "      <td>0.311765</td>\n",
       "      <td>3.304706</td>\n",
       "    </tr>\n",
       "    <tr>\n",
       "      <th>2</th>\n",
       "      <td>60</td>\n",
       "      <td>920</td>\n",
       "      <td>10.5</td>\n",
       "      <td>25</td>\n",
       "      <td>26.25</td>\n",
       "      <td>23.75</td>\n",
       "      <td>0.420000</td>\n",
       "      <td>4.410000</td>\n",
       "    </tr>\n",
       "    <tr>\n",
       "      <th>3</th>\n",
       "      <td>60</td>\n",
       "      <td>920</td>\n",
       "      <td>10.1</td>\n",
       "      <td>22</td>\n",
       "      <td>23.10</td>\n",
       "      <td>20.90</td>\n",
       "      <td>0.459091</td>\n",
       "      <td>4.636818</td>\n",
       "    </tr>\n",
       "    <tr>\n",
       "      <th>4</th>\n",
       "      <td>60</td>\n",
       "      <td>920</td>\n",
       "      <td>5.9</td>\n",
       "      <td>12</td>\n",
       "      <td>12.60</td>\n",
       "      <td>11.40</td>\n",
       "      <td>0.491667</td>\n",
       "      <td>2.900833</td>\n",
       "    </tr>\n",
       "    <tr>\n",
       "      <th>5</th>\n",
       "      <td>60</td>\n",
       "      <td>920</td>\n",
       "      <td>3.1</td>\n",
       "      <td>6</td>\n",
       "      <td>6.30</td>\n",
       "      <td>5.70</td>\n",
       "      <td>0.516667</td>\n",
       "      <td>1.601667</td>\n",
       "    </tr>\n",
       "    <tr>\n",
       "      <th>6</th>\n",
       "      <td>60</td>\n",
       "      <td>920</td>\n",
       "      <td>2.1</td>\n",
       "      <td>4</td>\n",
       "      <td>4.20</td>\n",
       "      <td>3.80</td>\n",
       "      <td>0.525000</td>\n",
       "      <td>1.102500</td>\n",
       "    </tr>\n",
       "    <tr>\n",
       "      <th>7</th>\n",
       "      <td>60</td>\n",
       "      <td>920</td>\n",
       "      <td>1.6</td>\n",
       "      <td>3</td>\n",
       "      <td>3.15</td>\n",
       "      <td>2.85</td>\n",
       "      <td>0.533333</td>\n",
       "      <td>0.853333</td>\n",
       "    </tr>\n",
       "  </tbody>\n",
       "</table>\n",
       "</div>"
      ],
      "text/plain": [
       "    L  irrad     V        R          R+         R-         I         P\n",
       "0  60    920  11.8  1000000  1050000.00  950000.00  0.000012  0.000139\n",
       "1  60    920  10.6       34       38.85      35.15  0.311765  3.304706\n",
       "2  60    920  10.5       25       26.25      23.75  0.420000  4.410000\n",
       "3  60    920  10.1       22       23.10      20.90  0.459091  4.636818\n",
       "4  60    920   5.9       12       12.60      11.40  0.491667  2.900833\n",
       "5  60    920   3.1        6        6.30       5.70  0.516667  1.601667\n",
       "6  60    920   2.1        4        4.20       3.80  0.525000  1.102500\n",
       "7  60    920   1.6        3        3.15       2.85  0.533333  0.853333"
      ]
     },
     "execution_count": 4,
     "metadata": {},
     "output_type": "execute_result"
    }
   ],
   "source": [
    "d['I'] = d['V'] / d['R']\n",
    "d['P'] = d['V'] * d['I']\n",
    "d\n"
   ]
  },
  {
   "cell_type": "markdown",
   "metadata": {},
   "source": [
    "However the error in knowing $R$ propogates into the indirect measurements of $I$ and $P$:"
   ]
  },
  {
   "cell_type": "code",
   "execution_count": 5,
   "metadata": {},
   "outputs": [
    {
     "data": {
      "text/html": [
       "<div>\n",
       "<style scoped>\n",
       "    .dataframe tbody tr th:only-of-type {\n",
       "        vertical-align: middle;\n",
       "    }\n",
       "\n",
       "    .dataframe tbody tr th {\n",
       "        vertical-align: top;\n",
       "    }\n",
       "\n",
       "    .dataframe thead th {\n",
       "        text-align: right;\n",
       "    }\n",
       "</style>\n",
       "<table border=\"1\" class=\"dataframe\">\n",
       "  <thead>\n",
       "    <tr style=\"text-align: right;\">\n",
       "      <th></th>\n",
       "      <th>L</th>\n",
       "      <th>irrad</th>\n",
       "      <th>V</th>\n",
       "      <th>R</th>\n",
       "      <th>R+</th>\n",
       "      <th>R-</th>\n",
       "      <th>I</th>\n",
       "      <th>P</th>\n",
       "      <th>I+</th>\n",
       "      <th>I-</th>\n",
       "      <th>P+</th>\n",
       "      <th>P-</th>\n",
       "    </tr>\n",
       "  </thead>\n",
       "  <tbody>\n",
       "    <tr>\n",
       "      <th>0</th>\n",
       "      <td>60</td>\n",
       "      <td>920</td>\n",
       "      <td>11.8</td>\n",
       "      <td>1000000</td>\n",
       "      <td>1050000.00</td>\n",
       "      <td>950000.00</td>\n",
       "      <td>0.000012</td>\n",
       "      <td>0.000139</td>\n",
       "      <td>0.000012</td>\n",
       "      <td>0.000011</td>\n",
       "      <td>0.000147</td>\n",
       "      <td>0.000133</td>\n",
       "    </tr>\n",
       "    <tr>\n",
       "      <th>1</th>\n",
       "      <td>60</td>\n",
       "      <td>920</td>\n",
       "      <td>10.6</td>\n",
       "      <td>34</td>\n",
       "      <td>38.85</td>\n",
       "      <td>35.15</td>\n",
       "      <td>0.311765</td>\n",
       "      <td>3.304706</td>\n",
       "      <td>0.301565</td>\n",
       "      <td>0.272844</td>\n",
       "      <td>3.196586</td>\n",
       "      <td>2.892149</td>\n",
       "    </tr>\n",
       "    <tr>\n",
       "      <th>2</th>\n",
       "      <td>60</td>\n",
       "      <td>920</td>\n",
       "      <td>10.5</td>\n",
       "      <td>25</td>\n",
       "      <td>26.25</td>\n",
       "      <td>23.75</td>\n",
       "      <td>0.420000</td>\n",
       "      <td>4.410000</td>\n",
       "      <td>0.442105</td>\n",
       "      <td>0.400000</td>\n",
       "      <td>4.642105</td>\n",
       "      <td>4.200000</td>\n",
       "    </tr>\n",
       "    <tr>\n",
       "      <th>3</th>\n",
       "      <td>60</td>\n",
       "      <td>920</td>\n",
       "      <td>10.1</td>\n",
       "      <td>22</td>\n",
       "      <td>23.10</td>\n",
       "      <td>20.90</td>\n",
       "      <td>0.459091</td>\n",
       "      <td>4.636818</td>\n",
       "      <td>0.483254</td>\n",
       "      <td>0.437229</td>\n",
       "      <td>4.880861</td>\n",
       "      <td>4.416017</td>\n",
       "    </tr>\n",
       "    <tr>\n",
       "      <th>4</th>\n",
       "      <td>60</td>\n",
       "      <td>920</td>\n",
       "      <td>5.9</td>\n",
       "      <td>12</td>\n",
       "      <td>12.60</td>\n",
       "      <td>11.40</td>\n",
       "      <td>0.491667</td>\n",
       "      <td>2.900833</td>\n",
       "      <td>0.517544</td>\n",
       "      <td>0.468254</td>\n",
       "      <td>3.053509</td>\n",
       "      <td>2.762698</td>\n",
       "    </tr>\n",
       "    <tr>\n",
       "      <th>5</th>\n",
       "      <td>60</td>\n",
       "      <td>920</td>\n",
       "      <td>3.1</td>\n",
       "      <td>6</td>\n",
       "      <td>6.30</td>\n",
       "      <td>5.70</td>\n",
       "      <td>0.516667</td>\n",
       "      <td>1.601667</td>\n",
       "      <td>0.543860</td>\n",
       "      <td>0.492063</td>\n",
       "      <td>1.685965</td>\n",
       "      <td>1.525397</td>\n",
       "    </tr>\n",
       "    <tr>\n",
       "      <th>6</th>\n",
       "      <td>60</td>\n",
       "      <td>920</td>\n",
       "      <td>2.1</td>\n",
       "      <td>4</td>\n",
       "      <td>4.20</td>\n",
       "      <td>3.80</td>\n",
       "      <td>0.525000</td>\n",
       "      <td>1.102500</td>\n",
       "      <td>0.552632</td>\n",
       "      <td>0.500000</td>\n",
       "      <td>1.160526</td>\n",
       "      <td>1.050000</td>\n",
       "    </tr>\n",
       "    <tr>\n",
       "      <th>7</th>\n",
       "      <td>60</td>\n",
       "      <td>920</td>\n",
       "      <td>1.6</td>\n",
       "      <td>3</td>\n",
       "      <td>3.15</td>\n",
       "      <td>2.85</td>\n",
       "      <td>0.533333</td>\n",
       "      <td>0.853333</td>\n",
       "      <td>0.561404</td>\n",
       "      <td>0.507937</td>\n",
       "      <td>0.898246</td>\n",
       "      <td>0.812698</td>\n",
       "    </tr>\n",
       "  </tbody>\n",
       "</table>\n",
       "</div>"
      ],
      "text/plain": [
       "    L  irrad     V        R          R+         R-         I         P  \\\n",
       "0  60    920  11.8  1000000  1050000.00  950000.00  0.000012  0.000139   \n",
       "1  60    920  10.6       34       38.85      35.15  0.311765  3.304706   \n",
       "2  60    920  10.5       25       26.25      23.75  0.420000  4.410000   \n",
       "3  60    920  10.1       22       23.10      20.90  0.459091  4.636818   \n",
       "4  60    920   5.9       12       12.60      11.40  0.491667  2.900833   \n",
       "5  60    920   3.1        6        6.30       5.70  0.516667  1.601667   \n",
       "6  60    920   2.1        4        4.20       3.80  0.525000  1.102500   \n",
       "7  60    920   1.6        3        3.15       2.85  0.533333  0.853333   \n",
       "\n",
       "         I+        I-        P+        P-  \n",
       "0  0.000012  0.000011  0.000147  0.000133  \n",
       "1  0.301565  0.272844  3.196586  2.892149  \n",
       "2  0.442105  0.400000  4.642105  4.200000  \n",
       "3  0.483254  0.437229  4.880861  4.416017  \n",
       "4  0.517544  0.468254  3.053509  2.762698  \n",
       "5  0.543860  0.492063  1.685965  1.525397  \n",
       "6  0.552632  0.500000  1.160526  1.050000  \n",
       "7  0.561404  0.507937  0.898246  0.812698  "
      ]
     },
     "execution_count": 5,
     "metadata": {},
     "output_type": "execute_result"
    }
   ],
   "source": [
    "d['I+'] = d['V'] / d['R-']\n",
    "d['I-'] = d['V'] / d['R+']\n",
    "d['P+'] = d['V'] * d['I+']\n",
    "d['P-'] = d['V'] * d['I-']\n",
    "d"
   ]
  },
  {
   "cell_type": "markdown",
   "metadata": {},
   "source": [
    "## Plot\n",
    "\n",
    "Current vs voltage"
   ]
  },
  {
   "cell_type": "code",
   "execution_count": 6,
   "metadata": {},
   "outputs": [
    {
     "data": {
      "image/png": "[encoded data removed]",
      "text/plain": [
       "<Figure size 432x288 with 1 Axes>"
      ]
     },
     "metadata": {
      "needs_background": "light"
     },
     "output_type": "display_data"
    }
   ],
   "source": [
    "scatter(d['V'], d['I'], label='Typical')\n",
    "scatter(d['V'], d['I+'], label='Hi error')\n",
    "scatter(d['V'], d['I-'], label='Lo error')\n",
    "legend()\n",
    "xlabel('Volts [V}')\n",
    "ylabel('Current [A]')\n",
    "show()"
   ]
  },
  {
   "cell_type": "markdown",
   "metadata": {},
   "source": [
    "Power vs voltage"
   ]
  },
  {
   "cell_type": "code",
   "execution_count": 7,
   "metadata": {},
   "outputs": [
    {
     "data": {
      "image/png": "[encoded data removed]",
      "text/plain": [
       "<Figure size 432x288 with 1 Axes>"
      ]
     },
     "metadata": {
      "needs_background": "light"
     },
     "output_type": "display_data"
    }
   ],
   "source": [
    "scatter(d['V'], d['P'], label='Typical')\n",
    "scatter(d['V'], d['P+'], label='Hi error')\n",
    "scatter(d['V'], d['P-'], label='Lo error')\n",
    "legend()\n",
    "xlabel('Volts [V}')\n",
    "ylabel('Power [W]')\n",
    "show()"
   ]
  },
  {
   "cell_type": "markdown",
   "metadata": {},
   "source": [
    "Save these simply as $\\bf V$ and $\\bf I$ for later (both vectors)."
   ]
  },
  {
   "cell_type": "code",
   "execution_count": 8,
   "metadata": {},
   "outputs": [],
   "source": [
    "V = d['V'].values \n",
    "I = d['I'].values "
   ]
  },
  {
   "cell_type": "markdown",
   "metadata": {},
   "source": [
    "# Curve fit\n",
    "\n",
    "We know we'll need some constants."
   ]
  },
  {
   "cell_type": "code",
   "execution_count": 9,
   "metadata": {},
   "outputs": [],
   "source": [
    "n = 1.0\t\t\t\t\t# ideality factor\n",
    "k = Boltzmann \t\t\t# joules per kelvin\n",
    "q = elementary_charge \t# couloumbs\n",
    "T = 300.0 \t\t\t\t# kelvin, about 27 C"
   ]
  },
  {
   "cell_type": "markdown",
   "metadata": {},
   "source": [
    "## IV equation\n",
    "\n",
    "The hat ($\\ \\hat{}\\ $) symbol means estimated current, not measured.\n",
    "\n",
    "There are many mathematical models (equations) to estimate the solar cell current from other inputs like irradiance or voltage. \n",
    "\n",
    "We will used the simplified expression from this [PV education article](https://www.pveducation.org/pvcdrom/solar-cell-operation/iv-curve#footnote1_zlgyr9m), note that $e^x$ is `exp(x)`.\n",
    "\n",
    "$ \\hat I (V) = I_L - I_S \\ e^{ ( \\frac{qV}{nkT} ) } $"
   ]
  },
  {
   "cell_type": "code",
   "execution_count": 10,
   "metadata": {},
   "outputs": [],
   "source": [
    "def I_hat_eq(V, I_L, I_S):\n",
    "\treturn I_L - I_S * ( exp(q*V / (n*k*T)) )"
   ]
  },
  {
   "cell_type": "markdown",
   "metadata": {},
   "source": [
    "The above equation _should_ work.\n",
    "\n",
    "But the python non-linear least squares algorithm is unable to calculate the covariance matrix when $e^x$ is involved. "
   ]
  },
  {
   "cell_type": "markdown",
   "metadata": {},
   "source": [
    "## IV equation with taylor expansion\n",
    "\n",
    "So we need to do a taylor expansion of $e^x$, which is $e^x = 1 + \\frac{x}{1!} + \\frac{x^2}{2!} + \\frac{x^3}{3!} ...$\n",
    "\n",
    "or in pseudocode:\n",
    "\n",
    "```\n",
    "exp_taylor = 1 + x / factorial(1) + x^2 / factorial(2) + x^3 / factorial (3) ...\n",
    "```\n",
    "\n",
    "or with a loop:\n",
    "\n",
    "```\n",
    "i = 1\n",
    "exp_taylor = 1\n",
    "while i <= 3\n",
    "    exp_taylor = exp_taylor + x^i / factorial(i)\n",
    "    i++\n",
    "```\n",
    "\n",
    "In additon we'll use some python shorcuts:\n",
    "- `x**2` is $x^2$ \n",
    "- `x+=1` is $x=x+1$\n",
    "- `for x in range(1,4)` is _do the loop for_ $x = 1, 2, 3$ _(but not 4 because python)_\n",
    "\n",
    "\n",
    "Our new equation is:\n",
    "\n",
    "$ \\hat I_t(V) = I_L - I_S \\ \\biggr( 1 + \\frac{(\\frac{qV}{nkT})}{1} + \\frac{(\\frac{qV}{nkT})^2}{2!} + \\frac{(\\frac{qV}{nkT})^3}{3!} + ... \\biggr) $\n",
    "\n",
    "Or more compact:\n",
    "\n",
    "$ \\hat I_t(V) = I_L - I_S \\ \\biggr( 1 + \\sum_{i=1}^{\\infty} { \\frac{(\\frac{qV}{nkT})^i}{i!} } \\biggr) $ where rather than $\\infty$ we will stop at 10."
   ]
  },
  {
   "cell_type": "code",
   "execution_count": 11,
   "metadata": {},
   "outputs": [],
   "source": [
    "def I_hat_eq(V, I_L, I_S):\n",
    "\texp_taylor = 1\n",
    "\tfor i in range(1,11): \t\t\t\t\t\t\t\t\n",
    "\t\texp_taylor += (q*V / (n*k*T))**i/factorial(i)\n",
    "\treturn I_L - I_S * exp_taylor\t"
   ]
  },
  {
   "cell_type": "markdown",
   "metadata": {},
   "source": [
    "## Fit\n",
    "\n",
    "Make python fit (estimate) the parameters $I_L$ and $I_S$ in our function $\\hat I_t(V)$."
   ]
  },
  {
   "cell_type": "code",
   "execution_count": 12,
   "metadata": {},
   "outputs": [],
   "source": [
    "(I_L, I_S), _ = curve_fit(I_hat_eq, V, I)"
   ]
  },
  {
   "cell_type": "code",
   "execution_count": 13,
   "metadata": {},
   "outputs": [
    {
     "data": {
      "text/plain": [
       "0.5276087579376828"
      ]
     },
     "execution_count": 13,
     "metadata": {},
     "output_type": "execute_result"
    }
   ],
   "source": [
    "I_L"
   ]
  },
  {
   "cell_type": "code",
   "execution_count": 14,
   "metadata": {},
   "outputs": [
    {
     "data": {
      "text/plain": [
       "4.663307455692037e-21"
      ]
     },
     "execution_count": 14,
     "metadata": {},
     "output_type": "execute_result"
    }
   ],
   "source": [
    "I_S"
   ]
  },
  {
   "cell_type": "markdown",
   "metadata": {},
   "source": [
    "## Evalaute \n",
    "\n",
    "Try an analytical sanity check: when the voltage $V=0$, what is the estimated current $\\hat I_t$ ? \n",
    "\n",
    "Is it close to what we measured for the not-quite-short-circuit current?\n",
    "\n",
    "$\\hat I_t(V) \\biggr|_{0} = I_L - I_S \\approx I_L = 0.533$ \n",
    "\n",
    "Yes that makes sense.\n",
    "\n",
    "Now look at the values produced by our newly fit function:"
   ]
  },
  {
   "cell_type": "code",
   "execution_count": 15,
   "metadata": {},
   "outputs": [
    {
     "data": {
      "text/html": [
       "<div>\n",
       "<style scoped>\n",
       "    .dataframe tbody tr th:only-of-type {\n",
       "        vertical-align: middle;\n",
       "    }\n",
       "\n",
       "    .dataframe tbody tr th {\n",
       "        vertical-align: top;\n",
       "    }\n",
       "\n",
       "    .dataframe thead th {\n",
       "        text-align: right;\n",
       "    }\n",
       "</style>\n",
       "<table border=\"1\" class=\"dataframe\">\n",
       "  <thead>\n",
       "    <tr style=\"text-align: right;\">\n",
       "      <th></th>\n",
       "      <th>I</th>\n",
       "      <th>V</th>\n",
       "      <th>I hat</th>\n",
       "    </tr>\n",
       "  </thead>\n",
       "  <tbody>\n",
       "    <tr>\n",
       "      <th>0</th>\n",
       "      <td>0.000012</td>\n",
       "      <td>11.8</td>\n",
       "      <td>0.011895</td>\n",
       "    </tr>\n",
       "    <tr>\n",
       "      <th>1</th>\n",
       "      <td>0.311765</td>\n",
       "      <td>10.6</td>\n",
       "      <td>0.350702</td>\n",
       "    </tr>\n",
       "    <tr>\n",
       "      <th>2</th>\n",
       "      <td>0.420000</td>\n",
       "      <td>10.5</td>\n",
       "      <td>0.366662</td>\n",
       "    </tr>\n",
       "    <tr>\n",
       "      <th>3</th>\n",
       "      <td>0.459091</td>\n",
       "      <td>10.1</td>\n",
       "      <td>0.418355</td>\n",
       "    </tr>\n",
       "    <tr>\n",
       "      <th>4</th>\n",
       "      <td>0.491667</td>\n",
       "      <td>5.9</td>\n",
       "      <td>0.527094</td>\n",
       "    </tr>\n",
       "    <tr>\n",
       "      <th>5</th>\n",
       "      <td>0.516667</td>\n",
       "      <td>3.1</td>\n",
       "      <td>0.527608</td>\n",
       "    </tr>\n",
       "    <tr>\n",
       "      <th>6</th>\n",
       "      <td>0.525000</td>\n",
       "      <td>2.1</td>\n",
       "      <td>0.527609</td>\n",
       "    </tr>\n",
       "    <tr>\n",
       "      <th>7</th>\n",
       "      <td>0.533333</td>\n",
       "      <td>1.6</td>\n",
       "      <td>0.527609</td>\n",
       "    </tr>\n",
       "  </tbody>\n",
       "</table>\n",
       "</div>"
      ],
      "text/plain": [
       "          I     V     I hat\n",
       "0  0.000012  11.8  0.011895\n",
       "1  0.311765  10.6  0.350702\n",
       "2  0.420000  10.5  0.366662\n",
       "3  0.459091  10.1  0.418355\n",
       "4  0.491667   5.9  0.527094\n",
       "5  0.516667   3.1  0.527608\n",
       "6  0.525000   2.1  0.527609\n",
       "7  0.533333   1.6  0.527609"
      ]
     },
     "execution_count": 15,
     "metadata": {},
     "output_type": "execute_result"
    }
   ],
   "source": [
    "d['I hat'] = I_hat_eq(V, I_L, I_S)\n",
    "d[['I', 'V', 'I hat']]"
   ]
  },
  {
   "cell_type": "markdown",
   "metadata": {},
   "source": [
    "Before, we simply measured $V$ and indirectly measured $I$ with a simple measurement model. \n",
    "\n",
    "But now we have a fairly complex equation (model) with two \"fit\" parameters.\n",
    "\n",
    "The model will estimate $\\hat I$ for any value of $V$ we want (within reason, say, 0~12 V).\n",
    "\n",
    "This is useful for interpolation, and finding the maximum power point."
   ]
  },
  {
   "cell_type": "markdown",
   "metadata": {},
   "source": [
    "## Plot\n",
    "\n",
    "First calculate estimated currents (the curve) for a range of voltage values $v$:"
   ]
  },
  {
   "cell_type": "code",
   "execution_count": 16,
   "metadata": {},
   "outputs": [],
   "source": [
    "v = arange(0.5, 12, .01)                \n",
    "I_hat = I_hat_eq(v, I_L, I_S)"
   ]
  },
  {
   "cell_type": "markdown",
   "metadata": {},
   "source": [
    "Then plot measurements and the curve (function, or model)."
   ]
  },
  {
   "cell_type": "code",
   "execution_count": 17,
   "metadata": {},
   "outputs": [
    {
     "data": {
      "image/png": "[encoded data removed]",
      "text/plain": [
       "<Figure size 432x288 with 1 Axes>"
      ]
     },
     "metadata": {
      "needs_background": "light"
     },
     "output_type": "display_data"
    }
   ],
   "source": [
    "plot(V, I, 'o', color='blue', label='Measurements')\n",
    "plot(v, I_hat, '--', color='gray', label=f'Function (taylor): I_L={I_L:.3f}, I_S={I_S:.1e} ')\n",
    "xlabel('Voltage [V]')\n",
    "ylabel('Current [A]')\n",
    "title('I(V) measurements and curve fit')\n",
    "legend()\n",
    "show()"
   ]
  },
  {
   "cell_type": "markdown",
   "metadata": {},
   "source": [
    "# Maximum power point"
   ]
  },
  {
   "cell_type": "markdown",
   "metadata": {},
   "source": [
    "Since $P=IV$ we can quickly get $\\hat P_t(V)$.\n",
    "\n",
    "$ \\hat P_t(V) = V \\biggr ( I_L - I_S \\ e^{ ( \\frac{qV}{nkT} ) } \\biggr ) = V \\biggr ( I_L - I_S \\ \\biggr( 1 + \\sum_{i=1}^{\\infty} { \\frac{(\\frac{qV}{nkT})^i}{i!} } \\biggr) \\biggr ) $"
   ]
  },
  {
   "cell_type": "code",
   "execution_count": 18,
   "metadata": {},
   "outputs": [],
   "source": [
    "def P_hat_eq(V, I_L, I_S):\n",
    "\texp_taylor = 1\n",
    "\tfor i in range(1,11): \t\t\t\t\t\t\t\t\n",
    "\t\texp_taylor += (q*V / (n*k*T))**i/factorial(i)\n",
    "\treturn V*(I_L - I_S * exp_taylor)"
   ]
  },
  {
   "cell_type": "markdown",
   "metadata": {},
   "source": [
    "Analytically we could find where $\\frac{ d \\hat P_t }{dV}$ is minimum and solve for $V_{mpp}$. Maybe.\n",
    "\n",
    "But this isn't a math class - we use computers.\n",
    "\n",
    "Compute all the power values for a range of voltage values $v$:"
   ]
  },
  {
   "cell_type": "code",
   "execution_count": 19,
   "metadata": {},
   "outputs": [],
   "source": [
    "v = arange(0.5, 12, .01) \n",
    "P_hat = P_hat_eq(v, I_L, I_S)\n",
    "\n",
    "V_mpp = v[argmax(P_hat)]\n",
    "P_max = max(P_hat)"
   ]
  },
  {
   "cell_type": "code",
   "execution_count": 20,
   "metadata": {},
   "outputs": [
    {
     "data": {
      "text/plain": [
       "9.300000000000008"
      ]
     },
     "execution_count": 20,
     "metadata": {},
     "output_type": "execute_result"
    }
   ],
   "source": [
    "V_mpp"
   ]
  },
  {
   "cell_type": "code",
   "execution_count": 21,
   "metadata": {},
   "outputs": [
    {
     "data": {
      "text/plain": [
       "4.460581406896795"
      ]
     },
     "execution_count": 21,
     "metadata": {},
     "output_type": "execute_result"
    }
   ],
   "source": [
    "P_max"
   ]
  },
  {
   "cell_type": "markdown",
   "metadata": {},
   "source": [
    "Plot power"
   ]
  },
  {
   "cell_type": "code",
   "execution_count": 22,
   "metadata": {},
   "outputs": [
    {
     "data": {
      "image/png": "[encoded data removed]",
      "text/plain": [
       "<Figure size 432x288 with 1 Axes>"
      ]
     },
     "metadata": {
      "needs_background": "light"
     },
     "output_type": "display_data"
    }
   ],
   "source": [
    "plot(v, P_hat, '--', color='gray', label=f'Function (taylor): I_L={I_L:.3f}, I_S={I_S:.1e} ')\n",
    "scatter(V_mpp,  P_max, color='red', label=f'Max power {P_max:.1f} W at V = {V_mpp:.1f} V')\n",
    "xlabel('Voltage [V]')\n",
    "ylabel('Power [W]')\n",
    "title('P(V) curve fit')\n",
    "legend()\n",
    "show()"
   ]
  },
  {
   "cell_type": "markdown",
   "metadata": {},
   "source": [
    "Plot current"
   ]
  },
  {
   "cell_type": "code",
   "execution_count": 23,
   "metadata": {},
   "outputs": [
    {
     "data": {
      "image/png": "[encoded data removed]",
      "text/plain": [
       "<Figure size 432x288 with 1 Axes>"
      ]
     },
     "metadata": {
      "needs_background": "light"
     },
     "output_type": "display_data"
    }
   ],
   "source": [
    "I_max = I_hat[argmax(P_hat)]\n",
    "\n",
    "scatter(V,  I, color='blue', label=f'Measurements')\n",
    "plot(v, I_hat, '--', color='gray', label=f'Function (taylor): I_L={I_L:.3f}, I_S={I_S:.1e} ')\n",
    "plot(V_mpp,  I_max, 'o', color='red', label=f'Max power at V={V_mpp:.2f}')\n",
    "xlabel('Voltage [V]')\n",
    "ylabel('Current [A]')\n",
    "title('I(V) curve fit')\n",
    "legend()\n",
    "show()"
   ]
  },
  {
   "cell_type": "markdown",
   "metadata": {},
   "source": [
    "# Questions\n",
    "\n",
    "Is the power as high as you would expect? \n",
    "\n",
    "What are the possible physical reasons for reduced max power?\n",
    "\n",
    "Were we close to standard test conditions?\n",
    "\n",
    "Could there be an inaccuracy due to the taylor expansion or current \"measurement model\"?"
   ]
  }
 ],
 "metadata": {
  "interpreter": {
   "hash": "2361ea0459e35573ebdd904a4cb2aa2f641276861e76159ac16ab576e61e5a67"
  },
  "kernelspec": {
   "display_name": "Python 3.7.9 ('env1')",
   "language": "python",
   "name": "python3"
  },
  "language_info": {
   "codemirror_mode": {
    "name": "ipython",
    "version": 3
   },
   "file_extension": ".py",
   "mimetype": "text/x-python",
   "name": "python",
   "nbconvert_exporter": "python",
   "pygments_lexer": "ipython3",
   "version": "3.7.9"
  },
  "orig_nbformat": 4
 },
 "nbformat": 4,
 "nbformat_minor": 2
}
