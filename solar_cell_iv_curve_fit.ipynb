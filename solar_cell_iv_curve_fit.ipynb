{
 "cells": [
  {
   "cell_type": "markdown",
   "metadata": {},
   "source": [
    "# IV Curve Seminar"
   ]
  },
  {
   "cell_type": "code",
   "execution_count": 1,
   "metadata": {},
   "outputs": [],
   "source": [
    "from numpy import arange, exp, argmax, sqrt, diag\n",
    "from math import factorial\n",
    "from scipy.optimize import curve_fit\n",
    "import matplotlib.pyplot as plt\n",
    "from scipy.constants import Boltzmann, elementary_charge\n",
    "import pandas as pd\n",
    "\n",
    "pd.options.mode.chained_assignment = None  # default='warn'\n",
    "\n",
    "class PlotClass:\n",
    "    def __init__(me):\n",
    "        me.plots = {}\n",
    "\n",
    "    def add_series(me, name, x, y, mark='-', color='blue'):\n",
    "        me.plots[name] = [x, y, mark, color]\n",
    "\n",
    "    def plot(me, xname=None, yname=None, pname=None):\n",
    "        for name in me.plots:\n",
    "            xymc = me.plots[name]\n",
    "            plt.plot(xymc[0], xymc[1], xymc[2], color=xymc[3], label=name)\n",
    "\n",
    "        if xname: plt.xlabel(xname)\n",
    "        if yname: plt.ylabel(yname)\n",
    "        if pname: plt.title(pname)\n",
    "\n",
    "        plt.legend()\n",
    "        plt.show()\n",
    "\n",
    "        me.plots = {}\n",
    "\n",
    "p = PlotClass()"
   ]
  },
  {
   "cell_type": "markdown",
   "metadata": {},
   "source": [
    "The general idea here is to:\n",
    "\n",
    "1. Measure points on the I-V curve by changing $R$\n",
    "   \n",
    "2. Estimate $I_L$ and $I_S$ (fit) for this equation and those I-V measurements: <br> $ \\hat I (V) = I_L - I_S \\ e^{ ( \\frac{qV}{nkT} ) } $\n",
    "\n",
    "3. With $\\hat P(V) = V • \\hat I(V)$ find the maximum power point"
   ]
  },
  {
   "cell_type": "markdown",
   "metadata": {},
   "source": [
    "# Measurements\n",
    "\n",
    "We put a 800 W halogen lamp on four solar cells, two in parallel and two in series.\n",
    "\n",
    "Each cell was about 6 V and 2.5 W. Length to the cells was L. Angle, as normal as possible.\n",
    "\n",
    "The 2x2 cell array output had a resistive load $R$ of different values, made by a discrete resistor (22R) or series-parallel combinations. \n",
    "\n",
    "$R$ is the rated, not measured, resistence so we should consider the +/- 5% error."
   ]
  },
  {
   "cell_type": "code",
   "execution_count": 2,
   "metadata": {},
   "outputs": [
    {
     "data": {
      "text/html": [
       "<div>\n",
       "<style scoped>\n",
       "    .dataframe tbody tr th:only-of-type {\n",
       "        vertical-align: middle;\n",
       "    }\n",
       "\n",
       "    .dataframe tbody tr th {\n",
       "        vertical-align: top;\n",
       "    }\n",
       "\n",
       "    .dataframe thead th {\n",
       "        text-align: right;\n",
       "    }\n",
       "</style>\n",
       "<table border=\"1\" class=\"dataframe\">\n",
       "  <thead>\n",
       "    <tr style=\"text-align: right;\">\n",
       "      <th></th>\n",
       "      <th>L [cm]</th>\n",
       "      <th>irrad [W/m^2]</th>\n",
       "      <th>V [V]</th>\n",
       "      <th>R [ohm]</th>\n",
       "      <th>R error +</th>\n",
       "      <th>R error -</th>\n",
       "    </tr>\n",
       "  </thead>\n",
       "  <tbody>\n",
       "    <tr>\n",
       "      <th>0</th>\n",
       "      <td>60</td>\n",
       "      <td>920</td>\n",
       "      <td>11.8</td>\n",
       "      <td>1000000</td>\n",
       "      <td>1050000.00</td>\n",
       "      <td>950000.00</td>\n",
       "    </tr>\n",
       "    <tr>\n",
       "      <th>1</th>\n",
       "      <td>60</td>\n",
       "      <td>920</td>\n",
       "      <td>10.6</td>\n",
       "      <td>34</td>\n",
       "      <td>38.85</td>\n",
       "      <td>35.15</td>\n",
       "    </tr>\n",
       "    <tr>\n",
       "      <th>2</th>\n",
       "      <td>60</td>\n",
       "      <td>920</td>\n",
       "      <td>10.5</td>\n",
       "      <td>25</td>\n",
       "      <td>26.25</td>\n",
       "      <td>23.75</td>\n",
       "    </tr>\n",
       "    <tr>\n",
       "      <th>3</th>\n",
       "      <td>60</td>\n",
       "      <td>920</td>\n",
       "      <td>10.1</td>\n",
       "      <td>22</td>\n",
       "      <td>23.10</td>\n",
       "      <td>20.90</td>\n",
       "    </tr>\n",
       "    <tr>\n",
       "      <th>4</th>\n",
       "      <td>60</td>\n",
       "      <td>920</td>\n",
       "      <td>5.9</td>\n",
       "      <td>12</td>\n",
       "      <td>12.60</td>\n",
       "      <td>11.40</td>\n",
       "    </tr>\n",
       "    <tr>\n",
       "      <th>5</th>\n",
       "      <td>60</td>\n",
       "      <td>920</td>\n",
       "      <td>3.1</td>\n",
       "      <td>6</td>\n",
       "      <td>6.30</td>\n",
       "      <td>5.70</td>\n",
       "    </tr>\n",
       "    <tr>\n",
       "      <th>6</th>\n",
       "      <td>60</td>\n",
       "      <td>920</td>\n",
       "      <td>2.1</td>\n",
       "      <td>4</td>\n",
       "      <td>4.20</td>\n",
       "      <td>3.80</td>\n",
       "    </tr>\n",
       "    <tr>\n",
       "      <th>7</th>\n",
       "      <td>60</td>\n",
       "      <td>920</td>\n",
       "      <td>1.6</td>\n",
       "      <td>3</td>\n",
       "      <td>3.15</td>\n",
       "      <td>2.85</td>\n",
       "    </tr>\n",
       "  </tbody>\n",
       "</table>\n",
       "</div>"
      ],
      "text/plain": [
       "   L [cm]  irrad [W/m^2]  V [V]  R [ohm]   R error +  R error -\n",
       "0      60            920   11.8  1000000  1050000.00  950000.00\n",
       "1      60            920   10.6       34       38.85      35.15\n",
       "2      60            920   10.5       25       26.25      23.75\n",
       "3      60            920   10.1       22       23.10      20.90\n",
       "4      60            920    5.9       12       12.60      11.40\n",
       "5      60            920    3.1        6        6.30       5.70\n",
       "6      60            920    2.1        4        4.20       3.80\n",
       "7      60            920    1.6        3        3.15       2.85"
      ]
     },
     "execution_count": 2,
     "metadata": {},
     "output_type": "execute_result"
    }
   ],
   "source": [
    "d = pd.read_csv('iv_measurements.csv')\n",
    "d"
   ]
  },
  {
   "cell_type": "markdown",
   "metadata": {},
   "source": [
    "Remove units and the first two columns. \n",
    "\n",
    "Also check  `.info()` just in case we have NaNs or a data type problem."
   ]
  },
  {
   "cell_type": "code",
   "execution_count": 3,
   "metadata": {},
   "outputs": [
    {
     "name": "stdout",
     "output_type": "stream",
     "text": [
      "<class 'pandas.core.frame.DataFrame'>\n",
      "RangeIndex: 8 entries, 0 to 7\n",
      "Data columns (total 4 columns):\n",
      " #   Column  Non-Null Count  Dtype  \n",
      "---  ------  --------------  -----  \n",
      " 0   V       8 non-null      float64\n",
      " 1   R       8 non-null      int64  \n",
      " 2   R+      8 non-null      float64\n",
      " 3   R-      8 non-null      float64\n",
      "dtypes: float64(3), int64(1)\n",
      "memory usage: 384.0 bytes\n"
     ]
    }
   ],
   "source": [
    "d.columns = ['L', 'irrad', 'V', 'R', 'R+', 'R-']\n",
    "d = d[['V', 'R', 'R+', 'R-']]\n",
    "d.info()"
   ]
  },
  {
   "cell_type": "markdown",
   "metadata": {},
   "source": [
    "Calculate current and power.\n",
    "\n",
    "$ V = I\\ R $ ➡️ $ I = V/R $ <br>\n",
    "$ P = I\\ V $\n",
    "\n",
    "These could be called indirect measurements, with a simple measurement model (ohm's law):"
   ]
  },
  {
   "cell_type": "code",
   "execution_count": 4,
   "metadata": {},
   "outputs": [
    {
     "data": {
      "text/html": [
       "<div>\n",
       "<style scoped>\n",
       "    .dataframe tbody tr th:only-of-type {\n",
       "        vertical-align: middle;\n",
       "    }\n",
       "\n",
       "    .dataframe tbody tr th {\n",
       "        vertical-align: top;\n",
       "    }\n",
       "\n",
       "    .dataframe thead th {\n",
       "        text-align: right;\n",
       "    }\n",
       "</style>\n",
       "<table border=\"1\" class=\"dataframe\">\n",
       "  <thead>\n",
       "    <tr style=\"text-align: right;\">\n",
       "      <th></th>\n",
       "      <th>V</th>\n",
       "      <th>R</th>\n",
       "      <th>R+</th>\n",
       "      <th>R-</th>\n",
       "      <th>I</th>\n",
       "      <th>P</th>\n",
       "    </tr>\n",
       "  </thead>\n",
       "  <tbody>\n",
       "    <tr>\n",
       "      <th>0</th>\n",
       "      <td>11.8</td>\n",
       "      <td>1000000</td>\n",
       "      <td>1050000.00</td>\n",
       "      <td>950000.00</td>\n",
       "      <td>0.000012</td>\n",
       "      <td>0.000139</td>\n",
       "    </tr>\n",
       "    <tr>\n",
       "      <th>1</th>\n",
       "      <td>10.6</td>\n",
       "      <td>34</td>\n",
       "      <td>38.85</td>\n",
       "      <td>35.15</td>\n",
       "      <td>0.311765</td>\n",
       "      <td>3.304706</td>\n",
       "    </tr>\n",
       "    <tr>\n",
       "      <th>2</th>\n",
       "      <td>10.5</td>\n",
       "      <td>25</td>\n",
       "      <td>26.25</td>\n",
       "      <td>23.75</td>\n",
       "      <td>0.420000</td>\n",
       "      <td>4.410000</td>\n",
       "    </tr>\n",
       "    <tr>\n",
       "      <th>3</th>\n",
       "      <td>10.1</td>\n",
       "      <td>22</td>\n",
       "      <td>23.10</td>\n",
       "      <td>20.90</td>\n",
       "      <td>0.459091</td>\n",
       "      <td>4.636818</td>\n",
       "    </tr>\n",
       "    <tr>\n",
       "      <th>4</th>\n",
       "      <td>5.9</td>\n",
       "      <td>12</td>\n",
       "      <td>12.60</td>\n",
       "      <td>11.40</td>\n",
       "      <td>0.491667</td>\n",
       "      <td>2.900833</td>\n",
       "    </tr>\n",
       "    <tr>\n",
       "      <th>5</th>\n",
       "      <td>3.1</td>\n",
       "      <td>6</td>\n",
       "      <td>6.30</td>\n",
       "      <td>5.70</td>\n",
       "      <td>0.516667</td>\n",
       "      <td>1.601667</td>\n",
       "    </tr>\n",
       "    <tr>\n",
       "      <th>6</th>\n",
       "      <td>2.1</td>\n",
       "      <td>4</td>\n",
       "      <td>4.20</td>\n",
       "      <td>3.80</td>\n",
       "      <td>0.525000</td>\n",
       "      <td>1.102500</td>\n",
       "    </tr>\n",
       "    <tr>\n",
       "      <th>7</th>\n",
       "      <td>1.6</td>\n",
       "      <td>3</td>\n",
       "      <td>3.15</td>\n",
       "      <td>2.85</td>\n",
       "      <td>0.533333</td>\n",
       "      <td>0.853333</td>\n",
       "    </tr>\n",
       "  </tbody>\n",
       "</table>\n",
       "</div>"
      ],
      "text/plain": [
       "      V        R          R+         R-         I         P\n",
       "0  11.8  1000000  1050000.00  950000.00  0.000012  0.000139\n",
       "1  10.6       34       38.85      35.15  0.311765  3.304706\n",
       "2  10.5       25       26.25      23.75  0.420000  4.410000\n",
       "3  10.1       22       23.10      20.90  0.459091  4.636818\n",
       "4   5.9       12       12.60      11.40  0.491667  2.900833\n",
       "5   3.1        6        6.30       5.70  0.516667  1.601667\n",
       "6   2.1        4        4.20       3.80  0.525000  1.102500\n",
       "7   1.6        3        3.15       2.85  0.533333  0.853333"
      ]
     },
     "execution_count": 4,
     "metadata": {},
     "output_type": "execute_result"
    }
   ],
   "source": [
    "d['I'] = d['V'] / d['R']\n",
    "d['P'] = d['V'] * d['I']\n",
    "d"
   ]
  },
  {
   "cell_type": "markdown",
   "metadata": {},
   "source": [
    "However, the error of $R$ (+/- 5%) means we also have errors in the indirect measurements of $I$ and $P$:"
   ]
  },
  {
   "cell_type": "code",
   "execution_count": 5,
   "metadata": {},
   "outputs": [],
   "source": [
    "d['I+'] = d['V'] / d['R-']\n",
    "d['I-'] = d['V'] / d['R+']\n",
    "d['P+'] = d['V'] * d['I+']\n",
    "d['P-'] = d['V'] * d['I-']"
   ]
  },
  {
   "cell_type": "markdown",
   "metadata": {},
   "source": [
    "We wouldn't have that +/- 5% if we measured $R$. This is mostly a teaching exercise. \n",
    "\n",
    "In the real world every instrument has an error (e.g. $V$ +/- 0.5%) and at least these should be considered:\n",
    "- Accuracy\n",
    "- Resolution\n",
    "- Range "
   ]
  },
  {
   "cell_type": "markdown",
   "metadata": {},
   "source": [
    "## Plot\n",
    "\n",
    "Current vs voltage"
   ]
  },
  {
   "cell_type": "code",
   "execution_count": 6,
   "metadata": {},
   "outputs": [
    {
     "data": {
      "image/png": "[encoded data removed]",
      "text/plain": [
       "<Figure size 432x288 with 1 Axes>"
      ]
     },
     "metadata": {
      "needs_background": "light"
     },
     "output_type": "display_data"
    }
   ],
   "source": [
    "p.add_series('Measurements', d.V, d.I, 'o', 'blue')\n",
    "p.plot(xname='V [V]', yname='I [A]')"
   ]
  },
  {
   "cell_type": "markdown",
   "metadata": {},
   "source": [
    "Power vs voltage"
   ]
  },
  {
   "cell_type": "code",
   "execution_count": 7,
   "metadata": {},
   "outputs": [
    {
     "data": {
      "image/png": "[encoded data removed]",
      "text/plain": [
       "<Figure size 432x288 with 1 Axes>"
      ]
     },
     "metadata": {
      "needs_background": "light"
     },
     "output_type": "display_data"
    }
   ],
   "source": [
    "p.add_series('Measurements', d.V, d.P, 'o', 'green')\n",
    "p.plot(xname='V [V]', yname='P [W]')"
   ]
  },
  {
   "cell_type": "markdown",
   "metadata": {},
   "source": [
    "Save these simply as $\\bf V$ and $\\bf I$ for later (both vectors)."
   ]
  },
  {
   "cell_type": "code",
   "execution_count": 8,
   "metadata": {},
   "outputs": [],
   "source": [
    "V = d['V'].values \n",
    "I = d['I'].values "
   ]
  },
  {
   "cell_type": "markdown",
   "metadata": {},
   "source": [
    "# Curve fit\n",
    "\n",
    "## IV equation\n",
    "\n",
    "There are many mathematical models (equations) to estimate the solar cell current from other inputs like irradiance or voltage. \n",
    "\n",
    "A simplified two paramteter model (equation) from this [PV education article](https://www.pveducation.org/pvcdrom/solar-cell-operation/iv-curve#footnote1_zlgyr9m):\n",
    "\n",
    "$ \\hat I (V) = I_L - I_S \\ ( e^{ ( \\frac{qV}{nkT} ) } - 1) \\approx I_L - I_S \\ ( e^{ ( \\frac{qV}{nkT} ) }) $ _for V>>0.001 V_\n",
    "\n",
    "_Note the hat_ ($\\ \\hat{}\\ $) _symbol means estimated current, not measured._\n",
    "\n",
    "We know we'll need some constants.\n",
    "\n"
   ]
  },
  {
   "cell_type": "code",
   "execution_count": 9,
   "metadata": {},
   "outputs": [],
   "source": [
    "n = 1.0\t\t\t\t\t# ideality factor\n",
    "k = Boltzmann \t\t\t# joules per kelvin\n",
    "q = elementary_charge \t# couloumbs\n",
    "T = 300.0 \t\t\t\t# kelvin, about 27 C"
   ]
  },
  {
   "cell_type": "markdown",
   "metadata": {},
   "source": [
    "Since these are all just numbers, lets simplify things:"
   ]
  },
  {
   "cell_type": "markdown",
   "metadata": {},
   "source": [
    "$ z = \\frac{q}{n k T} $"
   ]
  },
  {
   "cell_type": "code",
   "execution_count": 10,
   "metadata": {},
   "outputs": [],
   "source": [
    "z = q/(n*k*T)"
   ]
  },
  {
   "cell_type": "markdown",
   "metadata": {},
   "source": [
    "$ \\hat I (V) = I_L - I_S \\ e^{ ( \\frac{qV}{nkT} ) }  = I_L - I_S \\ e^{ zV }  $"
   ]
  },
  {
   "cell_type": "code",
   "execution_count": 11,
   "metadata": {},
   "outputs": [],
   "source": [
    "def I_hat_eq(v, i_l, i_s):\n",
    "\treturn i_l - i_s * ( exp(z*v) )"
   ]
  },
  {
   "cell_type": "markdown",
   "metadata": {},
   "source": [
    "_Note that `exp(x)` is $e^x$._\n",
    "\n",
    "The above equation _would_ work fine.\n",
    "\n",
    "But, to estimate $I_L$ and $I_S$, the function `curve_fit()` uses the non-linear least squares algorithm, and is unable to calculate the covariance matrix when $e^x$ is involved. "
   ]
  },
  {
   "cell_type": "markdown",
   "metadata": {},
   "source": [
    "## IV equation with taylor expansion\n",
    "\n",
    "A taylor expansion of $e^x$ solves this problem:\n",
    "\n",
    "$e^x = 1 + \\frac{x}{1!} + \\frac{x^2}{2!} + \\frac{x^3}{3!} ...$\n",
    "\n",
    "Our new equation is:\n",
    "\n",
    "$ \\hat I_t(V) = I_L - I_S \\ \\biggr( 1 + \\frac{zV}{1} + \\frac{(zV)^2}{2!} + \\frac{(zV)^3}{3!} + ... \\biggr) $\n",
    "\n",
    "Or more compact:\n",
    "\n",
    "$ \\hat I_t(V) = I_L - I_S \\ \\biggr( 1 + \\sum_{i=1}^{\\infty} { \\frac{(zV)^i}{i!} } \\biggr) $ where rather than $\\infty$ we will stop at 10."
   ]
  },
  {
   "cell_type": "code",
   "execution_count": 12,
   "metadata": {},
   "outputs": [],
   "source": [
    "def I_hat_eq(v, i_l, i_s):\n",
    "\te_taylor = 1\n",
    "\tfor i in range(1,11): \t\t\t\t\t\t\t\t\n",
    "\t\te_taylor += (z*v)**i / factorial(i)\n",
    "\treturn i_l - i_s * e_taylor\t"
   ]
  },
  {
   "cell_type": "markdown",
   "metadata": {},
   "source": [
    "_Note some python syntax used ⬆️:_ \n",
    "- `x**2` is $x^2$ \n",
    "- `x+=1` is $x=x+1$\n",
    "- `for x in range(1,4)` is _do the loop for_ $x = 1, 2, 3$ (but not 4 because python)"
   ]
  },
  {
   "cell_type": "markdown",
   "metadata": {},
   "source": [
    "## Fit\n",
    "\n",
    "Make python fit (estimate) the parameters $I_L$ and $I_S$ in our function $\\hat I_t(V)$."
   ]
  },
  {
   "cell_type": "code",
   "execution_count": 13,
   "metadata": {},
   "outputs": [],
   "source": [
    "(I_L, I_S), pcov = curve_fit(I_hat_eq, V, I)"
   ]
  },
  {
   "cell_type": "code",
   "execution_count": 14,
   "metadata": {},
   "outputs": [
    {
     "data": {
      "text/plain": [
       "0.5276087580163815"
      ]
     },
     "execution_count": 14,
     "metadata": {},
     "output_type": "execute_result"
    }
   ],
   "source": [
    "I_L"
   ]
  },
  {
   "cell_type": "code",
   "execution_count": 15,
   "metadata": {},
   "outputs": [
    {
     "data": {
      "text/plain": [
       "4.663307458739805e-21"
      ]
     },
     "execution_count": 15,
     "metadata": {},
     "output_type": "execute_result"
    }
   ],
   "source": [
    "I_S"
   ]
  },
  {
   "cell_type": "markdown",
   "metadata": {},
   "source": [
    "Did it fit? The `pcov` paramter covariance matrix tells us.\n",
    "\n",
    "The square root of the covariance diagonals gets us the standard deviation for each parameter (useful):"
   ]
  },
  {
   "cell_type": "code",
   "execution_count": 16,
   "metadata": {},
   "outputs": [
    {
     "data": {
      "text/plain": [
       "array([1.55370322e-02, 3.54015298e-22])"
      ]
     },
     "execution_count": 16,
     "metadata": {},
     "output_type": "execute_result"
    }
   ],
   "source": [
    "sqrt(diag(pcov))"
   ]
  },
  {
   "cell_type": "markdown",
   "metadata": {},
   "source": [
    "## Evalaute \n",
    "\n",
    "Try an analytical sanity check: when the voltage $V=0$, what is the estimated current $\\hat I_t$ ? \n",
    "\n",
    "Is it close to what we measured for the not-quite-short-circuit current?\n",
    "\n",
    "$\\hat I_t(V) \\biggr|_{0} = I_L - I_S \\approx I_L = 0.5276$ \n",
    "\n",
    "Yes that makes sense.\n",
    "\n",
    "Now look at the values produced by our equation and best-fit parameters:"
   ]
  },
  {
   "cell_type": "code",
   "execution_count": 17,
   "metadata": {},
   "outputs": [
    {
     "data": {
      "text/html": [
       "<div>\n",
       "<style scoped>\n",
       "    .dataframe tbody tr th:only-of-type {\n",
       "        vertical-align: middle;\n",
       "    }\n",
       "\n",
       "    .dataframe tbody tr th {\n",
       "        vertical-align: top;\n",
       "    }\n",
       "\n",
       "    .dataframe thead th {\n",
       "        text-align: right;\n",
       "    }\n",
       "</style>\n",
       "<table border=\"1\" class=\"dataframe\">\n",
       "  <thead>\n",
       "    <tr style=\"text-align: right;\">\n",
       "      <th></th>\n",
       "      <th>I</th>\n",
       "      <th>V</th>\n",
       "      <th>I hat</th>\n",
       "    </tr>\n",
       "  </thead>\n",
       "  <tbody>\n",
       "    <tr>\n",
       "      <th>0</th>\n",
       "      <td>0.000012</td>\n",
       "      <td>11.8</td>\n",
       "      <td>0.011895</td>\n",
       "    </tr>\n",
       "    <tr>\n",
       "      <th>1</th>\n",
       "      <td>0.311765</td>\n",
       "      <td>10.6</td>\n",
       "      <td>0.350702</td>\n",
       "    </tr>\n",
       "    <tr>\n",
       "      <th>2</th>\n",
       "      <td>0.420000</td>\n",
       "      <td>10.5</td>\n",
       "      <td>0.366662</td>\n",
       "    </tr>\n",
       "    <tr>\n",
       "      <th>3</th>\n",
       "      <td>0.459091</td>\n",
       "      <td>10.1</td>\n",
       "      <td>0.418355</td>\n",
       "    </tr>\n",
       "    <tr>\n",
       "      <th>4</th>\n",
       "      <td>0.491667</td>\n",
       "      <td>5.9</td>\n",
       "      <td>0.527094</td>\n",
       "    </tr>\n",
       "    <tr>\n",
       "      <th>5</th>\n",
       "      <td>0.516667</td>\n",
       "      <td>3.1</td>\n",
       "      <td>0.527608</td>\n",
       "    </tr>\n",
       "    <tr>\n",
       "      <th>6</th>\n",
       "      <td>0.525000</td>\n",
       "      <td>2.1</td>\n",
       "      <td>0.527609</td>\n",
       "    </tr>\n",
       "    <tr>\n",
       "      <th>7</th>\n",
       "      <td>0.533333</td>\n",
       "      <td>1.6</td>\n",
       "      <td>0.527609</td>\n",
       "    </tr>\n",
       "  </tbody>\n",
       "</table>\n",
       "</div>"
      ],
      "text/plain": [
       "          I     V     I hat\n",
       "0  0.000012  11.8  0.011895\n",
       "1  0.311765  10.6  0.350702\n",
       "2  0.420000  10.5  0.366662\n",
       "3  0.459091  10.1  0.418355\n",
       "4  0.491667   5.9  0.527094\n",
       "5  0.516667   3.1  0.527608\n",
       "6  0.525000   2.1  0.527609\n",
       "7  0.533333   1.6  0.527609"
      ]
     },
     "execution_count": 17,
     "metadata": {},
     "output_type": "execute_result"
    }
   ],
   "source": [
    "d['I hat'] = I_hat_eq(V, I_L, I_S)\n",
    "d[['I', 'V', 'I hat']]"
   ]
  },
  {
   "cell_type": "markdown",
   "metadata": {},
   "source": [
    "Before, we directly measured $V$ and indirectly measured $I$ (with a simple measurement model).\n",
    "\n",
    "But now we have a fairly complex equation (model) with two parameters we estimated.\n",
    "\n",
    "The model will estimate $\\hat I$ for any value of $V$ we want (within reason, say, 0~12 V).\n",
    "\n",
    "This is useful for interpolation, and finding the maximum power point."
   ]
  },
  {
   "cell_type": "markdown",
   "metadata": {},
   "source": [
    "## Plot\n",
    "\n",
    "First calculate estimated currents (the curve) for a range of voltage values $v$:"
   ]
  },
  {
   "cell_type": "code",
   "execution_count": 18,
   "metadata": {},
   "outputs": [],
   "source": [
    "v = arange(0.5, 12, .01)                \n",
    "I_hat = I_hat_eq(v, I_L, I_S)"
   ]
  },
  {
   "cell_type": "markdown",
   "metadata": {},
   "source": [
    "Then plot measurements and the curve (function, or model)."
   ]
  },
  {
   "cell_type": "code",
   "execution_count": 19,
   "metadata": {},
   "outputs": [
    {
     "data": {
      "image/png": "[encoded data removed]",
      "text/plain": [
       "<Figure size 432x288 with 1 Axes>"
      ]
     },
     "metadata": {
      "needs_background": "light"
     },
     "output_type": "display_data"
    }
   ],
   "source": [
    "p.add_series('Measurements', V, I, 'o', 'blue')\n",
    "p.add_series('Curve fit (taylor)', v, I_hat, '--', 'gray')\n",
    "p.plot(xname='V [V]', yname='I [A]', pname='I(V)')"
   ]
  },
  {
   "cell_type": "markdown",
   "metadata": {},
   "source": [
    "# Maximum power point"
   ]
  },
  {
   "cell_type": "markdown",
   "metadata": {},
   "source": [
    "Since $P=IV$ we can quickly get $\\hat P_t(V)$.\n",
    "\n",
    "$ \\hat P_t(V) = V \\biggr ( I_L - I_S \\ e^{zV} \\biggr ) = V \\biggr ( I_L - I_S \\ ( 1 + \\sum_{i=1}^{\\infty} { \\frac{(zV)^i}{i!} } ) \\biggr ) $"
   ]
  },
  {
   "cell_type": "code",
   "execution_count": 20,
   "metadata": {},
   "outputs": [],
   "source": [
    "def P_hat_eq(V, I_L, I_S):\n",
    "\texp_taylor = 1\n",
    "\tfor i in range(1,11): \t\t\t\t\t\t\t\t\n",
    "\t\texp_taylor += (z*V)**i/factorial(i)\n",
    "\treturn V*(I_L - I_S * exp_taylor)"
   ]
  },
  {
   "cell_type": "markdown",
   "metadata": {},
   "source": [
    "Analytically we could find where $\\frac{ d \\hat P_t }{dV}$ is minimum and solve for $V_{mpp}$. Maybe.\n",
    "\n",
    "But this isn't a math class - we use computers.\n",
    "\n",
    "Compute all the power values for a range of voltage values $v$:"
   ]
  },
  {
   "cell_type": "code",
   "execution_count": 21,
   "metadata": {},
   "outputs": [],
   "source": [
    "v = arange(0.5, 12, .01) \n",
    "P_hat = P_hat_eq(v, I_L, I_S)\n",
    "\n",
    "V_mpp = v[argmax(P_hat)] # armax = index of the maximum value\n",
    "P_max = max(P_hat)"
   ]
  },
  {
   "cell_type": "code",
   "execution_count": 22,
   "metadata": {},
   "outputs": [
    {
     "data": {
      "text/plain": [
       "9.300000000000008"
      ]
     },
     "execution_count": 22,
     "metadata": {},
     "output_type": "execute_result"
    }
   ],
   "source": [
    "V_mpp"
   ]
  },
  {
   "cell_type": "code",
   "execution_count": 23,
   "metadata": {},
   "outputs": [
    {
     "data": {
      "text/plain": [
       "4.460581407337086"
      ]
     },
     "execution_count": 23,
     "metadata": {},
     "output_type": "execute_result"
    }
   ],
   "source": [
    "P_max"
   ]
  },
  {
   "cell_type": "markdown",
   "metadata": {},
   "source": [
    "Plot power"
   ]
  },
  {
   "cell_type": "code",
   "execution_count": 24,
   "metadata": {},
   "outputs": [
    {
     "data": {
      "image/png": "[encoded data removed]",
      "text/plain": [
       "<Figure size 432x288 with 1 Axes>"
      ]
     },
     "metadata": {
      "needs_background": "light"
     },
     "output_type": "display_data"
    }
   ],
   "source": [
    "p.add_series('Measurements', V, d.P, 'o', 'green')\n",
    "p.add_series('Max power', V_mpp, P_max, 'o', 'red')\n",
    "p.add_series('Function (taylor)', v, P_hat, '--', 'gray')\n",
    "pname = f'Max Power: P_hat={P_max:.1f} at V_mpp={V_mpp:.1f}'\n",
    "p.plot(xname='V [V]', yname='P [W]', pname = pname)"
   ]
  },
  {
   "cell_type": "markdown",
   "metadata": {},
   "source": [
    "Plot current"
   ]
  },
  {
   "cell_type": "code",
   "execution_count": 25,
   "metadata": {},
   "outputs": [
    {
     "data": {
      "text/plain": [
       "0.47963240939108415"
      ]
     },
     "execution_count": 25,
     "metadata": {},
     "output_type": "execute_result"
    }
   ],
   "source": [
    "I_mpp = I_hat[argmax(P_hat)]\n",
    "I_mpp"
   ]
  },
  {
   "cell_type": "code",
   "execution_count": 26,
   "metadata": {},
   "outputs": [
    {
     "data": {
      "image/png": "[encoded data removed]",
      "text/plain": [
       "<Figure size 432x288 with 1 Axes>"
      ]
     },
     "metadata": {
      "needs_background": "light"
     },
     "output_type": "display_data"
    }
   ],
   "source": [
    "p.add_series('Measurements', V, I, 'o', 'blue')\n",
    "p.add_series('Max power', V_mpp, I_mpp, 'o', 'red')\n",
    "p.add_series('Function (taylor)', v, I_hat, '--', 'gray')\n",
    "pname = f'MPP Current: I_mpp={I_mpp:.2f} at V_mpp={V_mpp:.1f}'\n",
    "p.plot(xname='V [V]', yname='P [W]', pname = pname)"
   ]
  },
  {
   "cell_type": "markdown",
   "metadata": {},
   "source": [
    "# Maximum power \"tracking\""
   ]
  },
  {
   "cell_type": "code",
   "execution_count": 40,
   "metadata": {},
   "outputs": [
    {
     "data": {
      "image/png": "[encoded data removed]",
      "text/plain": [
       "<Figure size 432x288 with 1 Axes>"
      ]
     },
     "metadata": {
      "needs_background": "light"
     },
     "output_type": "display_data"
    }
   ],
   "source": [
    "v = arange(0,12,0.1)\n",
    "\n",
    "I_hat_100 = I_hat_eq(v,1.0*I_L, I_S) \n",
    "I_hat_80 =  I_hat_eq(v,0.8*I_L, I_S)\n",
    "I_hat_60 =  I_hat_eq(v,0.6*I_L, I_S)\n",
    "I_hat_40 =  I_hat_eq(v,0.4*I_L, I_S)\n",
    "\n",
    "P_hat_100 = P_hat_eq(v,1.0*I_L, I_S)\n",
    "P_hat_80 =  P_hat_eq(v,0.8*I_L, I_S)\n",
    "P_hat_60 =  P_hat_eq(v,0.6*I_L, I_S)\n",
    "P_hat_40 =  P_hat_eq(v,0.4*I_L, I_S)\n",
    "\n",
    "i_mpp_100 = argmax(P_hat_100)\n",
    "i_mpp_80  = argmax(P_hat_80)\n",
    "i_mpp_60  = argmax(P_hat_60)\n",
    "i_mpp_40  = argmax(P_hat_40)\n",
    "\n",
    "p.add_series('I_hat 100%', v, I_hat_100, '--', 'purple')\n",
    "p.add_series('I_hat 80%', v, I_hat_80,   '--', 'red')\n",
    "p.add_series('I_hat 60%', v, I_hat_60,   '--', 'orange')\n",
    "p.add_series('I_hat 40%', v, I_hat_40,   '--', 'yellow')\n",
    "p.add_series('MPP 100%', v[i_mpp_100], I_hat_100[i_mpp_100], 'o', 'purple')\n",
    "p.add_series('MPP 80%', v[i_mpp_80], I_hat_80[i_mpp_80], 'o', 'red')\n",
    "p.add_series('MPP 60%', v[i_mpp_60], I_hat_60[i_mpp_60], 'o', 'orange')\n",
    "p.add_series('MPP 40%', v[i_mpp_40], I_hat_40[i_mpp_40], 'o', 'yellow')\n",
    "p.plot(xname='V [V]', yname='I [A]', pname = 'Estimated I-V Curve At Different Irradiances')"
   ]
  },
  {
   "cell_type": "markdown",
   "metadata": {},
   "source": [
    "Curve fit the MPPs"
   ]
  },
  {
   "cell_type": "code",
   "execution_count": 47,
   "metadata": {},
   "outputs": [],
   "source": [
    "MPPs = {'v':[v[i_mpp_40], v[i_mpp_60], v[i_mpp_80], v[i_mpp_100]],\n",
    "        'I_hat':[I_hat_40[i_mpp_100], I_hat_60[i_mpp_60], I_hat_80[i_mpp_100], I_hat_100[i_mpp_100]] }\n",
    "\n",
    "def MPP_eq(v, a, b):\n",
    "\treturn a*v + b\n",
    "\n",
    "(a,b), _ = curve_fit(MPP_eq, MPPs['v'], MPPs['I_hat'])        "
   ]
  },
  {
   "cell_type": "code",
   "execution_count": 48,
   "metadata": {},
   "outputs": [
    {
     "data": {
      "text/plain": [
       "0.3807178738570388"
      ]
     },
     "execution_count": 48,
     "metadata": {},
     "output_type": "execute_result"
    }
   ],
   "source": [
    "a"
   ]
  },
  {
   "cell_type": "code",
   "execution_count": 49,
   "metadata": {},
   "outputs": [
    {
     "data": {
      "text/plain": [
       "-3.071476151232828"
      ]
     },
     "execution_count": 49,
     "metadata": {},
     "output_type": "execute_result"
    }
   ],
   "source": [
    "b"
   ]
  },
  {
   "cell_type": "code",
   "execution_count": 51,
   "metadata": {},
   "outputs": [
    {
     "data": {
      "text/plain": [
       "2.6266168957843683"
      ]
     },
     "execution_count": 51,
     "metadata": {},
     "output_type": "execute_result"
    }
   ],
   "source": [
    "R = 1/a\n",
    "R"
   ]
  },
  {
   "cell_type": "code",
   "execution_count": 62,
   "metadata": {},
   "outputs": [
    {
     "data": {
      "image/png": "[encoded data removed]",
      "text/plain": [
       "<Figure size 432x288 with 1 Axes>"
      ]
     },
     "metadata": {
      "needs_background": "light"
     },
     "output_type": "display_data"
    }
   ],
   "source": [
    "v2 = arange(8,10,0.1)\n",
    "I_hat_MPPs = MPP_eq(v2, a, b)\n",
    "\n",
    "p.add_series('IV_hat 100%', v, I_hat_100, '--', 'purple')\n",
    "p.add_series('IV_hat 80%', v, I_hat_80,   '--', 'red')\n",
    "p.add_series('IV_hat 60%', v, I_hat_60,   '--', 'orange')\n",
    "p.add_series('IV_hat 40%', v, I_hat_40,   '--', 'yellow')\n",
    "p.add_series(f'MPP 100% (R_mpp = {(v[i_mpp_100]/I_hat_100[i_mpp_100]):.1f}', v[i_mpp_100], I_hat_100[i_mpp_100], 'o', 'purple')\n",
    "p.add_series(f'MPP 80% (R_mpp = {(v[i_mpp_80]/I_hat_80[i_mpp_80]):.1f}',     v[i_mpp_80], I_hat_80[i_mpp_80],    'o', 'red')\n",
    "p.add_series(f'MPP 60% (R_mpp = {(v[i_mpp_60]/I_hat_60[i_mpp_60]):.1f}',     v[i_mpp_60], I_hat_60[i_mpp_60],    'o', 'orange')\n",
    "p.add_series(f'MPP 40% (R_mpp = {(v[i_mpp_40]/I_hat_40[i_mpp_40]):.1f}',     v[i_mpp_40], I_hat_40[i_mpp_40],    'o', 'yellow')\n",
    "p.add_series(f'MPP Line I={a:.2f}V{b:.2f} (R={R:.2f})', v2, I_hat_MPPs, '--', 'black')\n",
    "p.plot(xname='V [V]', yname='I [A]', pname = 'Estimated I-V Curve At Different Irradiances')"
   ]
  },
  {
   "cell_type": "markdown",
   "metadata": {},
   "source": [
    "# Outro\n",
    "\n",
    "Questions\n",
    "\n",
    "1. Why is the estimated max power $\\hat P_{max}$ less than the max actual power $P_{max}$ ? \n",
    "   \n",
    "2. Could this be improved?\n",
    "\n",
    "3. Is actual measured power as high as you would expect? \n",
    "\n",
    "4. What are the possible physical reasons for reduced actual max power?\n",
    "\n",
    "5. Were we close to standard test conditions?\n",
    "\n",
    "6. Could there be an inaccuracy due to the \"measurement model\"?\n",
    "\n",
    "Repeat steps above but with\n",
    "\n",
    "1. Taylor expansion out to $i=20$\n",
    "\n",
    "\n",
    "More\n",
    "\n",
    "- [PVlib](https://pvlib-python.readthedocs.io/en/v0.9.0/auto_examples/plot_singlediode.html) can do all this\n",
    "- Different [parameter estimation methods](https://g2voptics.com/photovoltaics-solar-cells/parameter-estimation-methods/)"
   ]
  }
 ],
 "metadata": {
  "interpreter": {
   "hash": "19d1d53a962d236aa061289c2ac16dc8e6d9648c89fe79f459ae9a3493bc67b4"
  },
  "kernelspec": {
   "display_name": "Python 3.9.5 ('base')",
   "language": "python",
   "name": "python3"
  },
  "language_info": {
   "codemirror_mode": {
    "name": "ipython",
    "version": 3
   },
   "file_extension": ".py",
   "mimetype": "text/x-python",
   "name": "python",
   "nbconvert_exporter": "python",
   "pygments_lexer": "ipython3",
   "version": "3.9.5"
  },
  "orig_nbformat": 4
 },
 "nbformat": 4,
 "nbformat_minor": 2
}
